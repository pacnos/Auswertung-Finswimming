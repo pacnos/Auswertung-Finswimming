{
 "cells": [
  {
   "cell_type": "markdown",
   "source": [
    "# Grundlegende Infos\n",
    "\n",
    "**Aufgabe:**\n",
    "Einlesen von Ergebnissdateien im LENEX Format zur Ermittlung der Bestleistungen der einzelnen Sportler\n",
    "\n",
    "**Eingabedateien:** LEF-Dateien"
   ],
   "metadata": {
    "collapsed": false
   }
  },
  {
   "cell_type": "markdown",
   "source": [
    "# Notwendige Imports & Vorbereitungen"
   ],
   "metadata": {
    "collapsed": false
   }
  },
  {
   "cell_type": "markdown",
   "source": [
    "## Imports"
   ],
   "metadata": {
    "collapsed": false
   }
  },
  {
   "cell_type": "code",
   "execution_count": 203,
   "outputs": [],
   "source": [
    "import pandas as pd\n",
    "import numpy as np\n",
    "from lxml import etree\n",
    "from datetime import datetime, timedelta, date\n",
    "import sqlite3\n",
    "import os"
   ],
   "metadata": {
    "collapsed": false,
    "ExecuteTime": {
     "start_time": "2023-09-16T22:10:29.804822Z",
     "end_time": "2023-09-16T22:10:29.894543Z"
    }
   }
  },
  {
   "cell_type": "markdown",
   "source": [
    "## Benötigte Klassen"
   ],
   "metadata": {
    "collapsed": false
   }
  },
  {
   "cell_type": "code",
   "execution_count": 204,
   "metadata": {
    "collapsed": true,
    "ExecuteTime": {
     "start_time": "2023-09-16T22:10:29.812128Z",
     "end_time": "2023-09-16T22:10:29.894664Z"
    }
   },
   "outputs": [],
   "source": [
    "class Athlete:\n",
    "\n",
    "    def __init__(self, id, name, first_name, club, gender, birth_date):\n",
    "        self.id = int(id)\n",
    "        self.name = name\n",
    "        self.first_name = first_name\n",
    "        self.club = club\n",
    "        self.birth_date = datetime.strptime(birth_date, \"%Y-%m-%d\")\n",
    "        self.gender = gender\n",
    "        self.results = {}\n",
    "\n",
    "    def get_birth_year(self):\n",
    "        return self.birth_date.year\n",
    "\n",
    "class Result:\n",
    "\n",
    "    def __init__(self, event_id, swim_time, stroke, distance):\n",
    "        self.event_id = int(event_id)\n",
    "        self.stroke = stroke\n",
    "        self.distance = distance\n",
    "        # Parse swim time\n",
    "        t = datetime.strptime(swim_time,\"%H:%M:%S.%f\")\n",
    "        self.time = timedelta(hours=t.hour, minutes=t.minute, seconds=t.second, microseconds=t.microsecond)\n",
    "\n",
    "    def get_style_key(self):\n",
    "        return \"%s:%s\" % (self.stroke, str(self.distance))\n",
    "\n",
    "    def get_time(self):\n",
    "        return self.time.total_seconds()"
   ]
  },
  {
   "cell_type": "markdown",
   "source": [
    "# Einstellungen"
   ],
   "metadata": {
    "collapsed": false
   }
  },
  {
   "cell_type": "markdown",
   "source": [
    "## Region"
   ],
   "metadata": {
    "collapsed": false
   }
  },
  {
   "cell_type": "code",
   "execution_count": 205,
   "outputs": [],
   "source": [
    "region_code_sax = 20"
   ],
   "metadata": {
    "collapsed": false,
    "ExecuteTime": {
     "start_time": "2023-09-16T22:10:29.818257Z",
     "end_time": "2023-09-16T22:10:29.937163Z"
    }
   }
  },
  {
   "cell_type": "markdown",
   "source": [
    "## Max Jahrgang"
   ],
   "metadata": {
    "collapsed": false
   }
  },
  {
   "cell_type": "code",
   "execution_count": 206,
   "outputs": [],
   "source": [
    "oldest_birth_year = 2006"
   ],
   "metadata": {
    "collapsed": false,
    "ExecuteTime": {
     "start_time": "2023-09-16T22:10:29.823847Z",
     "end_time": "2023-09-16T22:10:29.937675Z"
    }
   }
  },
  {
   "cell_type": "markdown",
   "source": [
    "## Input Dir"
   ],
   "metadata": {
    "collapsed": false
   }
  },
  {
   "cell_type": "code",
   "execution_count": 207,
   "outputs": [],
   "source": [
    "input_dir = \"../../data/\""
   ],
   "metadata": {
    "collapsed": false,
    "ExecuteTime": {
     "start_time": "2023-09-16T22:10:29.829781Z",
     "end_time": "2023-09-16T22:10:29.938040Z"
    }
   }
  },
  {
   "cell_type": "markdown",
   "source": [
    "## Distances to check"
   ],
   "metadata": {
    "collapsed": false
   }
  },
  {
   "cell_type": "code",
   "execution_count": 208,
   "outputs": [],
   "source": [
    "distances_surface = [50, 100, 200, 800]\n",
    "distances_apnea = [50]\n",
    "distances_im = [100, 400]"
   ],
   "metadata": {
    "collapsed": false,
    "ExecuteTime": {
     "start_time": "2023-09-16T22:10:29.835568Z",
     "end_time": "2023-09-16T22:10:29.938395Z"
    }
   }
  },
  {
   "cell_type": "markdown",
   "source": [
    "# Funktionen"
   ],
   "metadata": {
    "collapsed": false
   }
  },
  {
   "cell_type": "markdown",
   "source": [
    "## Einlesen der Strecken"
   ],
   "metadata": {
    "collapsed": false
   }
  },
  {
   "cell_type": "code",
   "execution_count": 209,
   "outputs": [],
   "source": [
    "def read_events (root):\n",
    "    events = {}\n",
    "    for event in root.xpath(\"//EVENT\"):\n",
    "        style = event.xpath(\"SWIMSTYLE\")[0]\n",
    "\n",
    "        #Kick out relays\n",
    "        if int(style.get(\"relaycount\")) > 1:\n",
    "            continue\n",
    "\n",
    "        #Kick out not relevant distances\n",
    "        if style.get(\"stroke\") == \"SURFACE\":\n",
    "            if int(style.get(\"distance\")) not in distances_surface:\n",
    "                continue\n",
    "\n",
    "        if style.get(\"stroke\") == \"APNEA\":\n",
    "            if int(style.get(\"distance\")) not in distances_apnea:\n",
    "                continue\n",
    "\n",
    "        if style.get(\"stroke\") == \"IMMERSION\":\n",
    "            if int(style.get(\"distance\")) not in distances_im:\n",
    "                continue\n",
    "\n",
    "        events[int(event.get(\"eventid\"))] = [style.get(\"stroke\"), int(style.get(\"distance\"))]\n",
    "\n",
    "    return events"
   ],
   "metadata": {
    "collapsed": false,
    "ExecuteTime": {
     "start_time": "2023-09-16T22:10:29.846557Z",
     "end_time": "2023-09-16T22:10:29.939391Z"
    }
   }
  },
  {
   "cell_type": "markdown",
   "source": [
    "## Einlesen der relevanten Athleten + Ergebnisse"
   ],
   "metadata": {
    "collapsed": false
   }
  },
  {
   "cell_type": "code",
   "execution_count": 210,
   "outputs": [],
   "source": [
    "def read_athletes (root, events):\n",
    "    athletes = {}\n",
    "\n",
    "    for athlete_obj in root.xpath(\"//ATHLETE\"):\n",
    "        # Kick out athletes which are not part of the right club\n",
    "        club_region_id = athlete_obj.xpath('./ancestor::CLUB/@region')\n",
    "\n",
    "        if int(club_region_id[0]) != region_code_sax:\n",
    "            continue\n",
    "\n",
    "        # Create the athlete\n",
    "        club = athlete_obj.xpath('./ancestor::CLUB/@name')[0]\n",
    "        athlete = Athlete(athlete_obj.get(\"athleteid\"), athlete_obj.get(\"lastname\"), athlete_obj.get(\"firstname\"), club, athlete_obj.get(\"gender\"), athlete_obj.get(\"birthdate\"))\n",
    "\n",
    "        # Read the results\n",
    "        for result_obj in athlete_obj.xpath(\"RESULTS/RESULT\"):\n",
    "            event_id = int(result_obj.get(\"eventid\"))\n",
    "\n",
    "            # Ignore not relevant distances\n",
    "            if event_id not in events:\n",
    "                continue\n",
    "\n",
    "            stroke = events[event_id][0]\n",
    "            distance = events[event_id][1]\n",
    "\n",
    "            # Kick out not finished results\n",
    "            if result_obj.get(\"status\") is not None:\n",
    "                continue\n",
    "\n",
    "            result = Result(event_id, result_obj.get(\"swimtime\"), stroke, distance)\n",
    "\n",
    "            athlete.results[event_id] = result\n",
    "\n",
    "        # Add the finished athlete object to the list\n",
    "        athletes[athlete.id] = athlete\n",
    "\n",
    "    # Ausgabe Ergebnis\n",
    "    print(\"Es wurden %d Athleten eingelesen\" % len(athletes))\n",
    "\n",
    "    return athletes"
   ],
   "metadata": {
    "collapsed": false,
    "ExecuteTime": {
     "start_time": "2023-09-16T22:10:29.852744Z",
     "end_time": "2023-09-16T22:10:29.939423Z"
    }
   }
  },
  {
   "cell_type": "code",
   "execution_count": 211,
   "outputs": [],
   "source": [
    "def read_athletes_nl (root, events):\n",
    "    athletes = {}\n",
    "    club_ids = [27811, 21975, 29262, 22402, 22873]\n",
    "\n",
    "    for athlete_obj in root.xpath(\"//ATHLETE\"):\n",
    "        # Kick out athletes which are not part of the right club\n",
    "        clubid = athlete_obj.xpath('./ancestor::CLUB/@clubid')\n",
    "\n",
    "        if int(clubid[0]) not in club_ids:\n",
    "            continue\n",
    "\n",
    "        # Create the athlete\n",
    "        club = athlete_obj.xpath('./ancestor::CLUB/@name')[0]\n",
    "        athlete = Athlete(athlete_obj.get(\"athleteid\"), athlete_obj.get(\"lastname\"), athlete_obj.get(\"firstname\"), club, athlete_obj.get(\"gender\"), athlete_obj.get(\"birthdate\"))\n",
    "\n",
    "        # Read the results\n",
    "        for result_obj in athlete_obj.xpath(\"RESULTS/RESULT\"):\n",
    "            event_id = int(result_obj.get(\"eventid\"))\n",
    "\n",
    "            # Ignore not relevant distances\n",
    "            if event_id not in events:\n",
    "                continue\n",
    "\n",
    "            stroke = events[event_id][0]\n",
    "            distance = events[event_id][1]\n",
    "\n",
    "            # Kick out not finished results\n",
    "            if result_obj.get(\"status\") is not None:\n",
    "                continue\n",
    "\n",
    "            result = Result(event_id, result_obj.get(\"swimtime\"), stroke, distance)\n",
    "\n",
    "            athlete.results[event_id] = result\n",
    "\n",
    "        # Add the finished athlete object to the list\n",
    "        athletes[athlete.id] = athlete\n",
    "\n",
    "    # Ausgabe Ergebnis\n",
    "    print(\"Es wurden %d Athleten eingelesen\" % len(athletes))\n",
    "\n",
    "    return athletes"
   ],
   "metadata": {
    "collapsed": false,
    "ExecuteTime": {
     "start_time": "2023-09-16T22:10:29.857714Z",
     "end_time": "2023-09-16T22:10:29.939774Z"
    }
   }
  },
  {
   "cell_type": "markdown",
   "source": [
    "# SQL Funktionen"
   ],
   "metadata": {
    "collapsed": false
   }
  },
  {
   "cell_type": "markdown",
   "source": [
    "## Anlegen der Datenbank"
   ],
   "metadata": {
    "collapsed": false
   }
  },
  {
   "cell_type": "code",
   "execution_count": 212,
   "outputs": [],
   "source": [
    "def create_database():\n",
    "    db_path = \"../../working/db_results.sqlite\"\n",
    "    if os.path.exists(db_path):\n",
    "        os.remove(db_path)\n",
    "    conn = sqlite3.connect(db_path)\n",
    "\n",
    "    stmt = \"\"\"\n",
    "    create table athletes\n",
    "    (\n",
    "        id         integer\n",
    "            constraint athletes_pk\n",
    "                primary key autoincrement,\n",
    "        name       TEXT,\n",
    "        first_name TEXT,\n",
    "        gender     TEXT,\n",
    "        year       TEXT,\n",
    "        club       TEXT\n",
    "    );\n",
    "    \"\"\"\n",
    "    conn.execute(stmt)\n",
    "\n",
    "    stmt = \"\"\"\n",
    "    create table results\n",
    "    (\n",
    "        id         integer\n",
    "            constraint athletes_pk\n",
    "                primary key autoincrement,\n",
    "        aID         integer,\n",
    "        style       TEXT,\n",
    "        time      float\n",
    "    );\n",
    "    \"\"\"\n",
    "\n",
    "    conn.execute(stmt)\n",
    "\n",
    "    return conn"
   ],
   "metadata": {
    "collapsed": false,
    "ExecuteTime": {
     "start_time": "2023-09-16T22:10:29.861044Z",
     "end_time": "2023-09-16T22:10:29.940100Z"
    }
   }
  },
  {
   "cell_type": "markdown",
   "source": [
    "## Abfragen"
   ],
   "metadata": {
    "collapsed": false
   }
  },
  {
   "cell_type": "code",
   "execution_count": 213,
   "outputs": [],
   "source": [
    "def get_athlete_id (conn, name, first_name, year):\n",
    "    stmt = \"\"\"\n",
    "        SELECT id from athletes WHERE name=? AND first_name=? AND year=?\n",
    "    \"\"\"\n",
    "    c = conn.cursor()\n",
    "    result = c.execute(stmt, (name, first_name, year))\n",
    "    id = c.fetchone()\n",
    "    c.close()\n",
    "\n",
    "    if id is not None:\n",
    "        return id[0]\n",
    "    else:\n",
    "        return None\n",
    "\n",
    "def get_result_by_athlete (conn, athlete_id, style):\n",
    "    stmt = \"\"\"\n",
    "        SELECT id, time from results WHERE aID=? AND style=?\n",
    "    \"\"\"\n",
    "    c = conn.cursor()\n",
    "    result = c.execute(stmt, (athlete_id, style))\n",
    "    row = c.fetchone()\n",
    "    c.close()\n",
    "\n",
    "    if row is not None:\n",
    "        return [row[0], row[1]]\n",
    "    else:\n",
    "        return None\n"
   ],
   "metadata": {
    "collapsed": false,
    "ExecuteTime": {
     "start_time": "2023-09-16T22:10:29.865025Z",
     "end_time": "2023-09-16T22:10:29.940429Z"
    }
   }
  },
  {
   "cell_type": "markdown",
   "source": [
    "## Inserts"
   ],
   "metadata": {
    "collapsed": false
   }
  },
  {
   "cell_type": "code",
   "execution_count": 214,
   "outputs": [],
   "source": [
    "def insert_athlete (conn, name, first_name, year, gender, club):\n",
    "    # Check if athlete exists\n",
    "    athlete_id = get_athlete_id(conn, name, first_name, year)\n",
    "    if athlete_id is not None:\n",
    "        return athlete_id\n",
    "\n",
    "    # Insert Athlete\n",
    "    c = conn.cursor()\n",
    "\n",
    "    stmt = \"\"\"\n",
    "    insert into athletes (name, first_name, gender, \"year\", club) values (?, ?, ?, ?, ?);\n",
    "    \"\"\"\n",
    "\n",
    "    c.execute(stmt, (name, first_name, gender, year, club))\n",
    "    conn.commit()\n",
    "    athlete_id = c.lastrowid\n",
    "    c.close()\n",
    "\n",
    "    return athlete_id\n",
    "\n",
    "def insert_result (conn, athlete_id, style, seconds):\n",
    "    # Check if better result\n",
    "    current_result = get_result_by_athlete(conn, athlete_id, style)\n",
    "    if current_result is None:\n",
    "        # Insert Result\n",
    "        c = conn.cursor()\n",
    "\n",
    "        stmt = \"\"\"\n",
    "        insert into results (aid, style, time) values (?, ?, ?);\n",
    "        \"\"\"\n",
    "\n",
    "        c.execute(stmt, (athlete_id, style, seconds))\n",
    "        conn.commit()\n",
    "        c.close()\n",
    "\n",
    "    elif current_result[1] > seconds:\n",
    "        # Insert Result\n",
    "        c = conn.cursor()\n",
    "\n",
    "        stmt = \"\"\"\n",
    "        update results SET time=? WHERE id=?;\n",
    "        \"\"\"\n",
    "\n",
    "        c.execute(stmt, (seconds, current_result[0]))\n",
    "        conn.commit()\n",
    "        c.close()"
   ],
   "metadata": {
    "collapsed": false,
    "ExecuteTime": {
     "start_time": "2023-09-16T22:10:29.869310Z",
     "end_time": "2023-09-16T22:10:29.941066Z"
    }
   }
  },
  {
   "cell_type": "markdown",
   "source": [
    "# Ausführung"
   ],
   "metadata": {
    "collapsed": false
   }
  },
  {
   "cell_type": "code",
   "execution_count": 215,
   "outputs": [],
   "source": [
    "conn = create_database()"
   ],
   "metadata": {
    "collapsed": false,
    "ExecuteTime": {
     "start_time": "2023-09-16T22:10:29.872190Z",
     "end_time": "2023-09-16T22:10:29.941093Z"
    }
   }
  },
  {
   "cell_type": "code",
   "execution_count": 216,
   "outputs": [
    {
     "name": "stdout",
     "output_type": "stream",
     "text": [
      "Read File: ../../data/x2023NK results.lef\n",
      "Es wurden 7 Athleten eingelesen\n",
      "Read File: ../../data/230325-Erfurt-PR.lef\n",
      "Es wurden 18 Athleten eingelesen\n",
      "Read File: ../../data/230401-Zwickau-PR.lef\n",
      "Es wurden 115 Athleten eingelesen\n",
      "Read File: ../../data/230121-Erfurt-PR.lef\n",
      "Es wurden 25 Athleten eingelesen\n",
      "Read File: ../../data/230512-Leipzig-PR.lef\n",
      "Es wurden 59 Athleten eingelesen\n",
      "Read File: ../../data/230617-Halle_(Saale)-PR.lef\n",
      "Es wurden 22 Athleten eingelesen\n",
      "Read File: ../../data/2023-07-02-Dresden-Pr.lef\n",
      "Es wurden 68 Athleten eingelesen\n"
     ]
    }
   ],
   "source": [
    "for file in os.listdir(input_dir):\n",
    "    input_file = os.path.join(input_dir, file)\n",
    "    if not os.path.isfile(input_file):\n",
    "        continue\n",
    "\n",
    "    print(\"Read File: %s\" % input_file)\n",
    "\n",
    "    tree = etree.parse(input_file)\n",
    "    root = tree.getroot()\n",
    "\n",
    "\n",
    "    events = read_events(root)\n",
    "\n",
    "    if file == \"x2023NK results.lef\":\n",
    "        athletes = read_athletes_nl(root, events)\n",
    "    else:\n",
    "        athletes = read_athletes(root, events)\n",
    "\n",
    "    # Hinzufügen der Athleten + Ergebnisse\n",
    "    for athlete_id, athlete in athletes.items():\n",
    "        db_id = insert_athlete(conn, athlete.name, athlete.first_name, athlete.get_birth_year(), athlete.gender, athlete.club)\n",
    "\n",
    "        for key, result in athlete.results.items():\n",
    "            insert_result(conn, db_id, result.get_style_key(), result.get_time())"
   ],
   "metadata": {
    "collapsed": false,
    "ExecuteTime": {
     "start_time": "2023-09-16T22:10:29.877484Z",
     "end_time": "2023-09-16T22:10:30.253338Z"
    }
   }
  },
  {
   "cell_type": "markdown",
   "source": [
    "# Auslesen der Ergebnisse"
   ],
   "metadata": {
    "collapsed": false
   }
  },
  {
   "cell_type": "markdown",
   "source": [
    "## Funktionen"
   ],
   "metadata": {
    "collapsed": false
   }
  },
  {
   "cell_type": "code",
   "execution_count": 217,
   "outputs": [],
   "source": [
    "def convert_timestamp(time_float):\n",
    "    x = timedelta(seconds=time_float)\n",
    "    days, seconds = x.days, x.seconds\n",
    "    hours = days * 24 + seconds // 3600\n",
    "    minutes = (seconds % 3600) // 60\n",
    "    seconds = seconds % 60\n",
    "\n",
    "    return \"%s:%s,%s\" % (str(minutes), str(seconds), str(x.microseconds // 10000))"
   ],
   "metadata": {
    "collapsed": false,
    "ExecuteTime": {
     "start_time": "2023-09-16T22:10:30.255125Z",
     "end_time": "2023-09-16T22:10:30.256814Z"
    }
   }
  },
  {
   "cell_type": "markdown",
   "source": [
    "## Abfragen"
   ],
   "metadata": {
    "collapsed": false
   }
  },
  {
   "cell_type": "code",
   "execution_count": 218,
   "outputs": [],
   "source": [
    "styles = []\n",
    "\n",
    "for distance in distances_surface:\n",
    "    styles.append(\"SURFACE:%s\" % (str(distance)))\n",
    "\n",
    "for distance in distances_apnea:\n",
    "    styles.append(\"APNEA:%s\" % (str(distance)))\n",
    "\n",
    "for distance in distances_im:\n",
    "    styles.append(\"IMMERSION:%s\" % (str(distance)))"
   ],
   "metadata": {
    "collapsed": false,
    "ExecuteTime": {
     "start_time": "2023-09-16T22:10:30.257894Z",
     "end_time": "2023-09-16T22:10:30.259806Z"
    }
   }
  },
  {
   "cell_type": "code",
   "execution_count": 219,
   "outputs": [],
   "source": [
    "base_stmt = \"\"\"\n",
    "SELECT\n",
    "    a.name,\n",
    "    a.first_name,\n",
    "    a.gender,\n",
    "    a.year AS birth_year,\n",
    "    a.club,\n",
    "    r.style,\n",
    "    r.time\n",
    "FROM\n",
    "    athletes AS a\n",
    "LEFT JOIN results as r ON r.aID = a.id\n",
    "WHERE\n",
    "    a.year >= %s AND\n",
    "    a.gender = \"%s\" AND\n",
    "    r.style = \"%s\"\n",
    "ORDER BY time\n",
    "\"\"\"\n",
    "\n",
    "excel_writer = pd.ExcelWriter(\"../../finished/overview.xlsx\")\n",
    "\n",
    "for gender in [\"M\", \"F\"]:\n",
    "    for style in styles:\n",
    "        stmt = base_stmt % (str(oldest_birth_year), gender, style)\n",
    "\n",
    "        data_frame = pd.read_sql(stmt, conn)\n",
    "        data_frame[\"time\"] = data_frame[\"time\"].apply(convert_timestamp)\n",
    "\n",
    "        style_name = style.replace(\":\", \"_\")\n",
    "        data_frame.to_excel(excel_writer, \"%s-%s\" % (gender, style_name))\n",
    "\n",
    "excel_writer.close()"
   ],
   "metadata": {
    "collapsed": false,
    "ExecuteTime": {
     "start_time": "2023-09-16T22:10:30.261700Z",
     "end_time": "2023-09-16T22:10:30.330810Z"
    }
   }
  }
 ],
 "metadata": {
  "kernelspec": {
   "display_name": "Python 3",
   "language": "python",
   "name": "python3"
  },
  "language_info": {
   "codemirror_mode": {
    "name": "ipython",
    "version": 2
   },
   "file_extension": ".py",
   "mimetype": "text/x-python",
   "name": "python",
   "nbconvert_exporter": "python",
   "pygments_lexer": "ipython2",
   "version": "2.7.6"
  }
 },
 "nbformat": 4,
 "nbformat_minor": 0
}
