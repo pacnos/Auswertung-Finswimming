{
 "cells": [
  {
   "cell_type": "markdown",
   "source": [
    "# Grundlegende Infos\n",
    "\n",
    "**Aufgabe:**\n",
    "Einlesen von Ergebnissdateien im LENEX Format zur vereinfachten Auswertung der Sachsenliga\n",
    "\n",
    "**Eingabedateien:** LEF-Dateien"
   ],
   "metadata": {
    "collapsed": false
   }
  },
  {
   "cell_type": "markdown",
   "source": [
    "# Notwendige Imports & Vorbereitung"
   ],
   "metadata": {
    "collapsed": false
   }
  },
  {
   "cell_type": "markdown",
   "source": [
    "## Imports"
   ],
   "metadata": {
    "collapsed": false
   }
  },
  {
   "cell_type": "code",
   "execution_count": 49,
   "metadata": {
    "collapsed": true,
    "ExecuteTime": {
     "start_time": "2023-07-30T12:56:15.230590Z",
     "end_time": "2023-07-30T12:56:15.295418Z"
    }
   },
   "outputs": [],
   "source": [
    "import pandas as pd\n",
    "import numpy as np\n",
    "from lxml import etree\n",
    "from datetime import datetime, timedelta, date"
   ]
  },
  {
   "cell_type": "markdown",
   "source": [
    "## Benötigte Klassen"
   ],
   "metadata": {
    "collapsed": false
   }
  },
  {
   "cell_type": "code",
   "execution_count": 50,
   "outputs": [],
   "source": [
    "class Athlete:\n",
    "\n",
    "    def __init__(self, id, name, first_name, club, gender, birth_date):\n",
    "        self.id = int(id)\n",
    "        self.name = name\n",
    "        self.first_name = first_name\n",
    "        self.club = club\n",
    "        self.birth_date = datetime.strptime(birth_date, \"%Y-%m-%d\")\n",
    "        self.gender = gender\n",
    "        self.category = None\n",
    "        self.results = {}\n",
    "\n",
    "    def get_birth_year(self):\n",
    "        pass\n",
    "\n",
    "class Result:\n",
    "\n",
    "    def __init__(self, event_id, swim_time):\n",
    "        self.event_id = int(event_id)\n",
    "        # Parse swim time\n",
    "        t = datetime.strptime(swim_time,\"%H:%M:%S.%f\")\n",
    "        self.time = timedelta(hours=t.hour, minutes=t.minute, seconds=t.second, microseconds=t.microsecond)\n",
    "        self.points = 0\n",
    "\n",
    "    def get_time(self):\n",
    "        return self.time.total_seconds()"
   ],
   "metadata": {
    "collapsed": false,
    "ExecuteTime": {
     "start_time": "2023-07-30T12:56:15.236169Z",
     "end_time": "2023-07-30T12:56:15.296441Z"
    }
   }
  },
  {
   "cell_type": "markdown",
   "source": [
    "# Einstellungen"
   ],
   "metadata": {
    "collapsed": false
   }
  },
  {
   "cell_type": "markdown",
   "source": [
    "## Region"
   ],
   "metadata": {
    "collapsed": false
   }
  },
  {
   "cell_type": "code",
   "execution_count": 51,
   "outputs": [],
   "source": [
    "region_code_sax = 20"
   ],
   "metadata": {
    "collapsed": false,
    "ExecuteTime": {
     "start_time": "2023-07-30T12:56:15.239675Z",
     "end_time": "2023-07-30T12:56:15.296797Z"
    }
   }
  },
  {
   "cell_type": "markdown",
   "source": [
    "## Eingabedatei"
   ],
   "metadata": {
    "collapsed": false
   }
  },
  {
   "cell_type": "code",
   "execution_count": 52,
   "outputs": [],
   "source": [
    "input_file = \"../data/2023-07-02-Dresden-Pr.lef\"\n",
    "output_file = \"../result/ljs.xlsx\"\n",
    "tree = etree.parse(input_file)\n",
    "root = tree.getroot()"
   ],
   "metadata": {
    "collapsed": false,
    "ExecuteTime": {
     "start_time": "2023-07-30T12:56:15.244392Z",
     "end_time": "2023-07-30T12:56:15.403718Z"
    }
   }
  },
  {
   "cell_type": "markdown",
   "source": [
    "## Kategorien"
   ],
   "metadata": {
    "collapsed": false
   }
  },
  {
   "cell_type": "code",
   "execution_count": 53,
   "outputs": [],
   "source": [
    "categories = {\n",
    "    \"2006 & 2007\": [2006, 2007],\n",
    "    \"2008 & 2009\": [2008, 2009],\n",
    "    \"2010 & 2011\": [2010, 2011],\n",
    "    \"2012 & 2013\": [2012, 2013],\n",
    "    \"2014 & jünger\": [2014, 2023],\n",
    "}"
   ],
   "metadata": {
    "collapsed": false,
    "ExecuteTime": {
     "start_time": "2023-07-30T12:56:15.253589Z",
     "end_time": "2023-07-30T12:56:15.403911Z"
    }
   }
  },
  {
   "cell_type": "markdown",
   "source": [
    "## Punkte"
   ],
   "metadata": {
    "collapsed": false
   }
  },
  {
   "cell_type": "code",
   "execution_count": 54,
   "outputs": [],
   "source": [
    "points = {\n",
    "    1: 50,\n",
    "    2: 46,\n",
    "    3: 42,\n",
    "    4: 39,\n",
    "    5: 36,\n",
    "    6: 33,\n",
    "    7: 30,\n",
    "    8: 27,\n",
    "    9: 24,\n",
    "    10: 22,\n",
    "    11: 20,\n",
    "    12: 18,\n",
    "    13: 16,\n",
    "    14: 14,\n",
    "    15: 12,\n",
    "    16: 10,\n",
    "    17: 8,\n",
    "    18: 7,\n",
    "    19: 6,\n",
    "    20: 5,\n",
    "    21: 4,\n",
    "    22: 3,\n",
    "    23: 2,\n",
    "    24: 1\n",
    "}\n",
    "\n",
    "def convert_place_to_points(place):\n",
    "    if place in points:\n",
    "        return points[place]\n",
    "    else:\n",
    "        return 1"
   ],
   "metadata": {
    "collapsed": false,
    "ExecuteTime": {
     "start_time": "2023-07-30T12:56:15.258616Z",
     "end_time": "2023-07-30T12:56:15.404324Z"
    }
   }
  },
  {
   "cell_type": "markdown",
   "source": [
    "## Übersicht über alle relevanten Vereine\n",
    "Darstellung aller Clubs, welche aus Sachsen kommen"
   ],
   "metadata": {
    "collapsed": false
   }
  },
  {
   "cell_type": "code",
   "execution_count": 55,
   "outputs": [
    {
     "data": {
      "text/plain": "                               Name\n0    1. Chemnitzer Tauchverein e.V.\n1  SC DHfK Leipzig Flossenschwimmen\n2                     SC Riesa (TC)\n3         Startgemeinschaft Dresden\n4        Tauchclub NEMO Plauen e.V.\n5                      TC Delitzsch",
      "text/html": "<div>\n<style scoped>\n    .dataframe tbody tr th:only-of-type {\n        vertical-align: middle;\n    }\n\n    .dataframe tbody tr th {\n        vertical-align: top;\n    }\n\n    .dataframe thead th {\n        text-align: right;\n    }\n</style>\n<table border=\"1\" class=\"dataframe\">\n  <thead>\n    <tr style=\"text-align: right;\">\n      <th></th>\n      <th>Name</th>\n    </tr>\n  </thead>\n  <tbody>\n    <tr>\n      <th>0</th>\n      <td>1. Chemnitzer Tauchverein e.V.</td>\n    </tr>\n    <tr>\n      <th>1</th>\n      <td>SC DHfK Leipzig Flossenschwimmen</td>\n    </tr>\n    <tr>\n      <th>2</th>\n      <td>SC Riesa (TC)</td>\n    </tr>\n    <tr>\n      <th>3</th>\n      <td>Startgemeinschaft Dresden</td>\n    </tr>\n    <tr>\n      <th>4</th>\n      <td>Tauchclub NEMO Plauen e.V.</td>\n    </tr>\n    <tr>\n      <th>5</th>\n      <td>TC Delitzsch</td>\n    </tr>\n  </tbody>\n</table>\n</div>"
     },
     "execution_count": 55,
     "metadata": {},
     "output_type": "execute_result"
    }
   ],
   "source": [
    "headers = [\"Name\"]\n",
    "rows = []\n",
    "for club in root.xpath(\"//CLUB\"):\n",
    "    if int(club.get(\"region\")) != region_code_sax:\n",
    "        continue\n",
    "    rows.append([club.get(\"name\"), ])\n",
    "\n",
    "df_clubs = pd.DataFrame(rows, columns=headers)\n",
    "df_clubs"
   ],
   "metadata": {
    "collapsed": false,
    "ExecuteTime": {
     "start_time": "2023-07-30T12:56:15.262674Z",
     "end_time": "2023-07-30T12:56:15.404807Z"
    }
   }
  },
  {
   "cell_type": "markdown",
   "source": [
    "## Übersicht der angebotenen Strecken\n",
    "Darstellung aller Strecken, welche für die Auswertung relevant sind (Alles außer Staffeln)"
   ],
   "metadata": {
    "collapsed": false
   }
  },
  {
   "cell_type": "code",
   "execution_count": 56,
   "outputs": [
    {
     "data": {
      "text/plain": "   Gender    Style Distance\nID                         \n1       F   MEDLEY      200\n2       M   MEDLEY      200\n39      F  SURFACE      200\n40      M  SURFACE      200\n3       F   BREAST      100\n4       M   BREAST      100\n5       F      FLY       50\n6       M      FLY       50\n41      F    APNEA       25\n42      M    APNEA       25\n43      F  SURFACE       25\n44      M  SURFACE       25\n45      F  SURFACE      100\n46      M  SURFACE      100\n8       F      FLY      200\n9       M      FLY      200\n10      F     BACK      100\n11      M     BACK      100\n47      F  UNKNOWN       50\n48      M  UNKNOWN       50\n12      F     FREE       50\n13      M     FREE       50\n14      F   BREAST      200\n15      M   BREAST      200\n49      F  SURFACE       50\n50      M  SURFACE       50\n17      F     BACK       50\n18      M     BACK       50\n19      F   BREAST       50\n20      M   BREAST       50\n21      F     FREE       50\n22      M     FREE       50\n23      F     FREE      200\n24      M     FREE      200\n25      F     BACK       50\n26      M     BACK       50\n27      F   BREAST       50\n28      M   BREAST       50\n29      F     FREE       50\n30      M     FREE       50\n31      F      FLY       50\n32      M      FLY       50\n33      F     FREE      100\n34      M     FREE      100\n35      F      FLY      100\n36      M      FLY      100\n37      F     BACK      200\n38      M     BACK      200",
      "text/html": "<div>\n<style scoped>\n    .dataframe tbody tr th:only-of-type {\n        vertical-align: middle;\n    }\n\n    .dataframe tbody tr th {\n        vertical-align: top;\n    }\n\n    .dataframe thead th {\n        text-align: right;\n    }\n</style>\n<table border=\"1\" class=\"dataframe\">\n  <thead>\n    <tr style=\"text-align: right;\">\n      <th></th>\n      <th>Gender</th>\n      <th>Style</th>\n      <th>Distance</th>\n    </tr>\n    <tr>\n      <th>ID</th>\n      <th></th>\n      <th></th>\n      <th></th>\n    </tr>\n  </thead>\n  <tbody>\n    <tr>\n      <th>1</th>\n      <td>F</td>\n      <td>MEDLEY</td>\n      <td>200</td>\n    </tr>\n    <tr>\n      <th>2</th>\n      <td>M</td>\n      <td>MEDLEY</td>\n      <td>200</td>\n    </tr>\n    <tr>\n      <th>39</th>\n      <td>F</td>\n      <td>SURFACE</td>\n      <td>200</td>\n    </tr>\n    <tr>\n      <th>40</th>\n      <td>M</td>\n      <td>SURFACE</td>\n      <td>200</td>\n    </tr>\n    <tr>\n      <th>3</th>\n      <td>F</td>\n      <td>BREAST</td>\n      <td>100</td>\n    </tr>\n    <tr>\n      <th>4</th>\n      <td>M</td>\n      <td>BREAST</td>\n      <td>100</td>\n    </tr>\n    <tr>\n      <th>5</th>\n      <td>F</td>\n      <td>FLY</td>\n      <td>50</td>\n    </tr>\n    <tr>\n      <th>6</th>\n      <td>M</td>\n      <td>FLY</td>\n      <td>50</td>\n    </tr>\n    <tr>\n      <th>41</th>\n      <td>F</td>\n      <td>APNEA</td>\n      <td>25</td>\n    </tr>\n    <tr>\n      <th>42</th>\n      <td>M</td>\n      <td>APNEA</td>\n      <td>25</td>\n    </tr>\n    <tr>\n      <th>43</th>\n      <td>F</td>\n      <td>SURFACE</td>\n      <td>25</td>\n    </tr>\n    <tr>\n      <th>44</th>\n      <td>M</td>\n      <td>SURFACE</td>\n      <td>25</td>\n    </tr>\n    <tr>\n      <th>45</th>\n      <td>F</td>\n      <td>SURFACE</td>\n      <td>100</td>\n    </tr>\n    <tr>\n      <th>46</th>\n      <td>M</td>\n      <td>SURFACE</td>\n      <td>100</td>\n    </tr>\n    <tr>\n      <th>8</th>\n      <td>F</td>\n      <td>FLY</td>\n      <td>200</td>\n    </tr>\n    <tr>\n      <th>9</th>\n      <td>M</td>\n      <td>FLY</td>\n      <td>200</td>\n    </tr>\n    <tr>\n      <th>10</th>\n      <td>F</td>\n      <td>BACK</td>\n      <td>100</td>\n    </tr>\n    <tr>\n      <th>11</th>\n      <td>M</td>\n      <td>BACK</td>\n      <td>100</td>\n    </tr>\n    <tr>\n      <th>47</th>\n      <td>F</td>\n      <td>UNKNOWN</td>\n      <td>50</td>\n    </tr>\n    <tr>\n      <th>48</th>\n      <td>M</td>\n      <td>UNKNOWN</td>\n      <td>50</td>\n    </tr>\n    <tr>\n      <th>12</th>\n      <td>F</td>\n      <td>FREE</td>\n      <td>50</td>\n    </tr>\n    <tr>\n      <th>13</th>\n      <td>M</td>\n      <td>FREE</td>\n      <td>50</td>\n    </tr>\n    <tr>\n      <th>14</th>\n      <td>F</td>\n      <td>BREAST</td>\n      <td>200</td>\n    </tr>\n    <tr>\n      <th>15</th>\n      <td>M</td>\n      <td>BREAST</td>\n      <td>200</td>\n    </tr>\n    <tr>\n      <th>49</th>\n      <td>F</td>\n      <td>SURFACE</td>\n      <td>50</td>\n    </tr>\n    <tr>\n      <th>50</th>\n      <td>M</td>\n      <td>SURFACE</td>\n      <td>50</td>\n    </tr>\n    <tr>\n      <th>17</th>\n      <td>F</td>\n      <td>BACK</td>\n      <td>50</td>\n    </tr>\n    <tr>\n      <th>18</th>\n      <td>M</td>\n      <td>BACK</td>\n      <td>50</td>\n    </tr>\n    <tr>\n      <th>19</th>\n      <td>F</td>\n      <td>BREAST</td>\n      <td>50</td>\n    </tr>\n    <tr>\n      <th>20</th>\n      <td>M</td>\n      <td>BREAST</td>\n      <td>50</td>\n    </tr>\n    <tr>\n      <th>21</th>\n      <td>F</td>\n      <td>FREE</td>\n      <td>50</td>\n    </tr>\n    <tr>\n      <th>22</th>\n      <td>M</td>\n      <td>FREE</td>\n      <td>50</td>\n    </tr>\n    <tr>\n      <th>23</th>\n      <td>F</td>\n      <td>FREE</td>\n      <td>200</td>\n    </tr>\n    <tr>\n      <th>24</th>\n      <td>M</td>\n      <td>FREE</td>\n      <td>200</td>\n    </tr>\n    <tr>\n      <th>25</th>\n      <td>F</td>\n      <td>BACK</td>\n      <td>50</td>\n    </tr>\n    <tr>\n      <th>26</th>\n      <td>M</td>\n      <td>BACK</td>\n      <td>50</td>\n    </tr>\n    <tr>\n      <th>27</th>\n      <td>F</td>\n      <td>BREAST</td>\n      <td>50</td>\n    </tr>\n    <tr>\n      <th>28</th>\n      <td>M</td>\n      <td>BREAST</td>\n      <td>50</td>\n    </tr>\n    <tr>\n      <th>29</th>\n      <td>F</td>\n      <td>FREE</td>\n      <td>50</td>\n    </tr>\n    <tr>\n      <th>30</th>\n      <td>M</td>\n      <td>FREE</td>\n      <td>50</td>\n    </tr>\n    <tr>\n      <th>31</th>\n      <td>F</td>\n      <td>FLY</td>\n      <td>50</td>\n    </tr>\n    <tr>\n      <th>32</th>\n      <td>M</td>\n      <td>FLY</td>\n      <td>50</td>\n    </tr>\n    <tr>\n      <th>33</th>\n      <td>F</td>\n      <td>FREE</td>\n      <td>100</td>\n    </tr>\n    <tr>\n      <th>34</th>\n      <td>M</td>\n      <td>FREE</td>\n      <td>100</td>\n    </tr>\n    <tr>\n      <th>35</th>\n      <td>F</td>\n      <td>FLY</td>\n      <td>100</td>\n    </tr>\n    <tr>\n      <th>36</th>\n      <td>M</td>\n      <td>FLY</td>\n      <td>100</td>\n    </tr>\n    <tr>\n      <th>37</th>\n      <td>F</td>\n      <td>BACK</td>\n      <td>200</td>\n    </tr>\n    <tr>\n      <th>38</th>\n      <td>M</td>\n      <td>BACK</td>\n      <td>200</td>\n    </tr>\n  </tbody>\n</table>\n</div>"
     },
     "execution_count": 56,
     "metadata": {},
     "output_type": "execute_result"
    }
   ],
   "source": [
    "headers = [\"ID\", \"Gender\", \"Style\", \"Distance\"]\n",
    "rows = []\n",
    "for event in root.xpath(\"//EVENT\"):\n",
    "    style = event.xpath(\"SWIMSTYLE\")[0]\n",
    "\n",
    "    #Kick out relays\n",
    "    if int(style.get(\"relaycount\")) > 1:\n",
    "        continue\n",
    "\n",
    "    rows.append([event.get(\"eventid\"), event.get(\"gender\"), style.get(\"stroke\"), style.get(\"distance\")])\n",
    "\n",
    "df_events = pd.DataFrame(rows, columns=headers)\n",
    "df_events = df_events.set_index([\"ID\",])\n",
    "df_events.sort_index()\n",
    "df_events"
   ],
   "metadata": {
    "collapsed": false,
    "ExecuteTime": {
     "start_time": "2023-07-30T12:56:15.270248Z",
     "end_time": "2023-07-30T12:56:15.405815Z"
    }
   }
  },
  {
   "cell_type": "markdown",
   "source": [
    "# Einlesen der relevanten Athleten + Ergebnisse"
   ],
   "metadata": {
    "collapsed": false
   }
  },
  {
   "cell_type": "code",
   "execution_count": 57,
   "outputs": [
    {
     "name": "stdout",
     "output_type": "stream",
     "text": [
      "Es wurden 68 Athleten eingelesen\n"
     ]
    }
   ],
   "source": [
    "athletes = {}\n",
    "\n",
    "for athlete_obj in root.xpath(\"//ATHLETE\"):\n",
    "    # Kick out athletes which are not part of the right club\n",
    "    club_region_id = athlete_obj.xpath('./ancestor::CLUB/@region')\n",
    "\n",
    "    if int(club_region_id[0]) != region_code_sax:\n",
    "        continue\n",
    "\n",
    "    # Create the athlete\n",
    "    club = athlete_obj.xpath('./ancestor::CLUB/@name')[0]\n",
    "    athlete = Athlete(athlete_obj.get(\"athleteid\"), athlete_obj.get(\"lastname\"), athlete_obj.get(\"firstname\"), club, athlete_obj.get(\"gender\"), athlete_obj.get(\"birthdate\"))\n",
    "\n",
    "\n",
    "    # Read the results\n",
    "    for result_obj in athlete_obj.xpath(\"RESULTS/RESULT\"):\n",
    "        event_id = int(result_obj.get(\"eventid\"))\n",
    "\n",
    "        # Kick out not finished results\n",
    "        if result_obj.get(\"status\") is not None:\n",
    "            continue\n",
    "\n",
    "        result = Result(event_id, result_obj.get(\"swimtime\"))\n",
    "\n",
    "        athlete.results[event_id] = result\n",
    "\n",
    "    # Add the finished athlete object to the list\n",
    "    athletes[athlete.id] = athlete\n",
    "\n",
    "# Ausgabe Ergebnis\n",
    "print(\"Es wurden %d Athleten eingelesen\" % len(athletes))"
   ],
   "metadata": {
    "collapsed": false,
    "ExecuteTime": {
     "start_time": "2023-07-30T12:56:15.281486Z",
     "end_time": "2023-07-30T12:56:15.406662Z"
    }
   }
  },
  {
   "cell_type": "markdown",
   "source": [
    "# Auswertung"
   ],
   "metadata": {
    "collapsed": false
   }
  },
  {
   "cell_type": "markdown",
   "source": [
    "## Berechnung der Ergebnisse"
   ],
   "metadata": {
    "collapsed": false
   }
  },
  {
   "cell_type": "code",
   "execution_count": 58,
   "outputs": [],
   "source": [
    "def calculate_points_for_event(event_id: int, category):\n",
    "    # Basic definition\n",
    "    headers = [\"ID\", \"Vorname\", \"Nachname\", \"Zeit\"]\n",
    "    rows = []\n",
    "\n",
    "    # Iterate through athletes\n",
    "    for athlete_id, athlete in athletes.items():\n",
    "        # Check for age & add category\n",
    "        if not(categories[category][0] <= athlete.birth_date.year <= categories[category][1]):\n",
    "            continue\n",
    "\n",
    "        athlete.category = category\n",
    "\n",
    "        # Check for event id\n",
    "        if event_id not in athlete.results:\n",
    "            continue\n",
    "\n",
    "        row = [athlete.id, athlete.first_name, athlete.name, athlete.results[event_id].get_time()]\n",
    "        rows.append(row)\n",
    "\n",
    "    # Create the dataframe\n",
    "    df_event_results = pd.DataFrame(data=rows, columns=headers)\n",
    "\n",
    "    # Sort the dataframe\n",
    "    df_event_results.sort_values(by=\"Zeit\", inplace=True)\n",
    "\n",
    "    # Determine the place\n",
    "    df_event_results[\"place\"] = np.arange(1, len(df_event_results)+1)\n",
    "\n",
    "    # Convert the place to points\n",
    "    df_event_results[\"points\"] = df_event_results[\"place\"].apply(convert_place_to_points)\n",
    "\n",
    "    # Write back the points\n",
    "    for index, row in df_event_results.iterrows():\n",
    "        athletes[row[\"ID\"]].results[event_id].points = row[\"points\"]\n",
    "\n",
    "# Iterate through events\n",
    "for event_index, event_row in df_events.iterrows():\n",
    "    # Iterate through categories\n",
    "    for cat_key, cat_item in categories.items():\n",
    "        calculate_points_for_event(int(event_index), cat_key)\n"
   ],
   "metadata": {
    "collapsed": false,
    "ExecuteTime": {
     "start_time": "2023-07-30T12:56:15.315945Z",
     "end_time": "2023-07-30T12:56:15.510274Z"
    }
   }
  },
  {
   "cell_type": "markdown",
   "source": [
    "## Zusammenbauen der Ergebnis-Tabelle"
   ],
   "metadata": {
    "collapsed": false
   }
  },
  {
   "cell_type": "markdown",
   "source": [
    "## Header"
   ],
   "metadata": {
    "collapsed": false
   }
  },
  {
   "cell_type": "code",
   "execution_count": 59,
   "outputs": [],
   "source": [
    "#Headers\n",
    "headers_f = [\"Vorname\", \"Nachname\", \"Geb. Jahr\", \"Verein\", \"Altersklasse\"]\n",
    "headers_m = [\"Vorname\", \"Nachname\", \"Geb. Jahr\", \"Verein\", \"Altersklasse\"]\n",
    "for event_index, event_row in df_events.iterrows():\n",
    "    if event_row[\"Gender\"] == \"F\":\n",
    "        headers_f.append(\"%s %s\" % (event_row[\"Distance\"], event_row[\"Style\"]))\n",
    "    else:\n",
    "        headers_m.append(\"%s %s\" % (event_row[\"Distance\"], event_row[\"Style\"]))"
   ],
   "metadata": {
    "collapsed": false,
    "ExecuteTime": {
     "start_time": "2023-07-30T12:56:15.506928Z",
     "end_time": "2023-07-30T12:56:15.510740Z"
    }
   }
  },
  {
   "cell_type": "markdown",
   "source": [
    "## Athleten"
   ],
   "metadata": {
    "collapsed": false
   }
  },
  {
   "cell_type": "code",
   "execution_count": 60,
   "outputs": [],
   "source": [
    "def get_rows_for_gender(gender):\n",
    "    rows = {}\n",
    "    for event_index, event_row in df_events.iterrows():\n",
    "\n",
    "        # Select for gender\n",
    "        if event_row[\"Gender\"] != gender:\n",
    "            continue\n",
    "\n",
    "        for athlete_id, athlete in athletes.items():\n",
    "\n",
    "            # Handle only athletes of specific gender\n",
    "            if athlete.gender != gender:\n",
    "                continue\n",
    "\n",
    "            # Check if athlete exists\n",
    "            if athlete_id not in rows:\n",
    "                rows[athlete_id] = [athlete.first_name, athlete.name, athlete.birth_date.year, athlete.club, athlete.category]\n",
    "\n",
    "            if int(event_index) in athlete.results:\n",
    "                rows[athlete_id].append(athlete.results[int(event_index)].points)\n",
    "            else:\n",
    "                rows[athlete_id].append(0)\n",
    "\n",
    "    return rows\n",
    "\n",
    "rows_f = get_rows_for_gender(\"F\")\n",
    "rows_m = get_rows_for_gender(\"M\")"
   ],
   "metadata": {
    "collapsed": false,
    "ExecuteTime": {
     "start_time": "2023-07-30T12:56:15.515570Z",
     "end_time": "2023-07-30T12:56:15.546749Z"
    }
   }
  },
  {
   "cell_type": "markdown",
   "source": [
    "## Berechnung der Punkte je Zeile"
   ],
   "metadata": {
    "collapsed": false
   }
  },
  {
   "cell_type": "code",
   "execution_count": 61,
   "outputs": [],
   "source": [
    "def calc_points_per_athlete(row):\n",
    "    # Remove Name columns\n",
    "    row = row.tail(-5)\n",
    "    # Convert to numbers\n",
    "    row = pd.to_numeric(row)\n",
    "    # Get the 3 largest numbers\n",
    "    row = row.nlargest(3)\n",
    "    # Create the sum\n",
    "    sum = row.sum()\n",
    "\n",
    "    return sum"
   ],
   "metadata": {
    "collapsed": false,
    "ExecuteTime": {
     "start_time": "2023-07-30T12:56:15.518875Z",
     "end_time": "2023-07-30T12:56:15.546946Z"
    }
   }
  },
  {
   "cell_type": "markdown",
   "source": [
    "## Ergebnisse Weiblich"
   ],
   "metadata": {
    "collapsed": false
   }
  },
  {
   "cell_type": "code",
   "execution_count": 62,
   "outputs": [
    {
     "data": {
      "text/plain": "             Vorname       Nachname  Geb. Jahr   \n452  Johanna Hermine        Ullrich       2007  \\\n852            Lotte      Marquardt       2007   \n853            Luisa  Bretschneider       2007   \n858          Sophiya     Razumovska       2007   \n849        Josephine        Neumann       2006   \n850            Katka        Schürer       2006   \n453            Jenny         Franke       2008   \n314           Polina     Kulchytska       2008   \n108            Maren         Weller       2008   \n111       Sara-Marie       Steinert       2008   \n321            Maiia        Horenok       2008   \n326             Kyra        Säbisch       2008   \n843           Ariane    Zimmermanns       2009   \n315           Polina        Horenok       2010   \n891      Hanna Maria          Nisch       2011   \n6               Lene         Berger       2010   \n327           Hannah            Hau       2011   \n446             Nina      Schönherr       2011   \n455           Emilia        Siegert       2010   \n449             Suna          Bluhm       2010   \n5                Ida        Hönisch       2011   \n317          Melissa       Schröter       2011   \n112          Theresa         Martin       2010   \n320             Mara    Oesterreich       2011   \n319            Marla      Reinhardt       2011   \n848           Helene          Mucha       2010   \n857             Reni         Müller       2011   \n106            Klara         Dawert       2010   \n855         Mathilde            Gey       2011   \n105        Josephine         Köhler       2011   \n856              Mia          Oehme       2011   \n851            Klara       Kirchner       2010   \n322             Lisa         Kossar       2012   \n107             Lina      Küthemann       2013   \n313            Tabea        Amelung       2013   \n325            Laura           Hauk       2012   \n845   Ella Henriette         Körner       2012   \n323            Lilly     Kannenberg       2013   \n846            Fjora      Bernhardt       2012   \n451            Lilou         Gralka       2012   \n454        Ida Marie        Laasner       2012   \n328     Clara Sophie       Paulmann       2014   \n9             Miriam       Sorgalla       2015   \n7           Mathilde         Näther       2014   \n\n                               Verein   Altersklasse  200 MEDLEY  200 SURFACE   \n452    1. Chemnitzer Tauchverein e.V.    2006 & 2007           0            0  \\\n852         Startgemeinschaft Dresden    2006 & 2007           0           50   \n853         Startgemeinschaft Dresden    2006 & 2007           0           46   \n858         Startgemeinschaft Dresden    2006 & 2007           0            0   \n849         Startgemeinschaft Dresden    2006 & 2007           0            0   \n850         Startgemeinschaft Dresden    2006 & 2007           0            0   \n453    1. Chemnitzer Tauchverein e.V.    2008 & 2009           0           50   \n314  SC DHfK Leipzig Flossenschwimmen    2008 & 2009           0           46   \n108        Tauchclub NEMO Plauen e.V.    2008 & 2009           0           42   \n111        Tauchclub NEMO Plauen e.V.    2008 & 2009           0           39   \n321  SC DHfK Leipzig Flossenschwimmen    2008 & 2009           0            0   \n326  SC DHfK Leipzig Flossenschwimmen    2008 & 2009           0            0   \n843         Startgemeinschaft Dresden    2008 & 2009           0            0   \n315  SC DHfK Leipzig Flossenschwimmen    2010 & 2011           0            0   \n891    1. Chemnitzer Tauchverein e.V.    2010 & 2011           0           50   \n6                       SC Riesa (TC)    2010 & 2011           0           46   \n327  SC DHfK Leipzig Flossenschwimmen    2010 & 2011           0           42   \n446                      TC Delitzsch    2010 & 2011           0           36   \n455    1. Chemnitzer Tauchverein e.V.    2010 & 2011           0           39   \n449    1. Chemnitzer Tauchverein e.V.    2010 & 2011           0            0   \n5                       SC Riesa (TC)    2010 & 2011           0           33   \n317  SC DHfK Leipzig Flossenschwimmen    2010 & 2011           0           27   \n112        Tauchclub NEMO Plauen e.V.    2010 & 2011           0           30   \n320  SC DHfK Leipzig Flossenschwimmen    2010 & 2011           0            0   \n319  SC DHfK Leipzig Flossenschwimmen    2010 & 2011           0            0   \n848         Startgemeinschaft Dresden    2010 & 2011           0            0   \n857         Startgemeinschaft Dresden    2010 & 2011           0            0   \n106        Tauchclub NEMO Plauen e.V.    2010 & 2011           0            0   \n855         Startgemeinschaft Dresden    2010 & 2011           0            0   \n105        Tauchclub NEMO Plauen e.V.    2010 & 2011           0           24   \n856         Startgemeinschaft Dresden    2010 & 2011           0            0   \n851         Startgemeinschaft Dresden    2010 & 2011           0            0   \n322  SC DHfK Leipzig Flossenschwimmen    2012 & 2013           0           50   \n107        Tauchclub NEMO Plauen e.V.    2012 & 2013           0           39   \n313  SC DHfK Leipzig Flossenschwimmen    2012 & 2013           0           46   \n325  SC DHfK Leipzig Flossenschwimmen    2012 & 2013           0            0   \n845         Startgemeinschaft Dresden    2012 & 2013           0            0   \n323  SC DHfK Leipzig Flossenschwimmen    2012 & 2013           0           42   \n846         Startgemeinschaft Dresden    2012 & 2013           0            0   \n451    1. Chemnitzer Tauchverein e.V.    2012 & 2013           0            0   \n454    1. Chemnitzer Tauchverein e.V.    2012 & 2013           0            0   \n328  SC DHfK Leipzig Flossenschwimmen  2014 & jünger           0            0   \n9                       SC Riesa (TC)  2014 & jünger           0           50   \n7                       SC Riesa (TC)  2014 & jünger           0           46   \n\n     100 BREAST  50 FLY  25 APNEA  ...  50 FREE  200 FREE  50 BACK  50 BREAST   \n452           0       0        46  ...        0         0        0          0  \\\n852           0       0        50  ...        0         0        0          0   \n853           0       0        39  ...        0         0        0          0   \n858           0       0         0  ...        0         0        0          0   \n849           0       0        42  ...        0         0        0          0   \n850           0       0         0  ...        0         0        0          0   \n453           0       0        42  ...        0         0        0          0   \n314           0       0         0  ...        0         0        0          0   \n108           0       0        39  ...        0         0        0          0   \n111           0       0         0  ...        0         0        0          0   \n321           0       0        50  ...        0         0        0          0   \n326           0       0        46  ...        0         0        0          0   \n843           0       0         0  ...        0         0        0          0   \n315           0       0        50  ...        0         0        0          0   \n891           0       0        46  ...        0         0        0          0   \n6             0       0        36  ...        0         0        0          0   \n327           0       0        27  ...        0         0        0          0   \n446           0       0        33  ...        0         0        0          0   \n455           0       0        39  ...        0         0        0          0   \n449           0       0        42  ...        0         0        0          0   \n5             0       0        30  ...        0         0        0          0   \n317           0       0        22  ...        0         0        0          0   \n112           0       0        24  ...        0         0        0          0   \n320           0       0        18  ...        0         0        0          0   \n319           0       0         8  ...        0         0        0          0   \n848           0       0        14  ...        0         0        0          0   \n857           0       0        16  ...        0         0        0          0   \n106           0       0        20  ...        0         0        0          0   \n855           0       0        10  ...        0         0        0          0   \n105           0       0         0  ...        0         0        0          0   \n856           0       0        12  ...        0         0        0          0   \n851           0       0         0  ...        0         0        0          0   \n322           0       0        50  ...        0         0        0          0   \n107           0       0        46  ...        0         0        0          0   \n313           0       0        36  ...        0         0        0          0   \n325           0       0        42  ...        0         0        0          0   \n845           0       0        39  ...        0         0        0          0   \n323           0       0        33  ...        0         0        0          0   \n846           0       0        30  ...        0         0        0          0   \n451           0       0         0  ...        0         0        0          0   \n454           0       0         0  ...        0         0        0          0   \n328           0       0         0  ...        0         0        0          0   \n9             0       0         0  ...        0         0        0          0   \n7             0       0         0  ...        0         0        0          0   \n\n     50 FREE  50 FLY  100 FREE  100 FLY  200 BACK  Summe  \n452        0       0         0        0         0    146  \n852        0       0         0        0         0    146  \n853        0       0         0        0         0    124  \n858        0       0         0        0         0     85  \n849        0       0         0        0         0     84  \n850        0       0         0        0         0     69  \n453        0       0         0        0         0    142  \n314        0       0         0        0         0    142  \n108        0       0         0        0         0    123  \n111        0       0         0        0         0    111  \n321        0       0         0        0         0    100  \n326        0       0         0        0         0     92  \n843        0       0         0        0         0     39  \n315        0       0         0        0         0    150  \n891        0       0         0        0         0    146  \n6          0       0         0        0         0    131  \n327        0       0         0        0         0    130  \n446        0       0         0        0         0    123  \n455        0       0         0        0         0    114  \n449        0       0         0        0         0    102  \n5          0       0         0        0         0     99  \n317        0       0         0        0         0     90  \n112        0       0         0        0         0     84  \n320        0       0         0        0         0     71  \n319        0       0         0        0         0     60  \n848        0       0         0        0         0     60  \n857        0       0         0        0         0     58  \n106        0       0         0        0         0     50  \n855        0       0         0        0         0     44  \n105        0       0         0        0         0     44  \n856        0       0         0        0         0     30  \n851        0       0         0        0         0      0  \n322        0       0         0        0         0    150  \n107        0       0         0        0         0    131  \n313        0       0         0        0         0    130  \n325        0       0         0        0         0    130  \n845        0       0         0        0         0    128  \n323        0       0         0        0         0    127  \n846        0       0         0        0         0    102  \n451        0       0         0        0         0     60  \n454        0       0         0        0         0     60  \n328        0       0         0        0         0    150  \n9          0       0         0        0         0    142  \n7          0       0         0        0         0    134  \n\n[44 rows x 30 columns]",
      "text/html": "<div>\n<style scoped>\n    .dataframe tbody tr th:only-of-type {\n        vertical-align: middle;\n    }\n\n    .dataframe tbody tr th {\n        vertical-align: top;\n    }\n\n    .dataframe thead th {\n        text-align: right;\n    }\n</style>\n<table border=\"1\" class=\"dataframe\">\n  <thead>\n    <tr style=\"text-align: right;\">\n      <th></th>\n      <th>Vorname</th>\n      <th>Nachname</th>\n      <th>Geb. Jahr</th>\n      <th>Verein</th>\n      <th>Altersklasse</th>\n      <th>200 MEDLEY</th>\n      <th>200 SURFACE</th>\n      <th>100 BREAST</th>\n      <th>50 FLY</th>\n      <th>25 APNEA</th>\n      <th>...</th>\n      <th>50 FREE</th>\n      <th>200 FREE</th>\n      <th>50 BACK</th>\n      <th>50 BREAST</th>\n      <th>50 FREE</th>\n      <th>50 FLY</th>\n      <th>100 FREE</th>\n      <th>100 FLY</th>\n      <th>200 BACK</th>\n      <th>Summe</th>\n    </tr>\n  </thead>\n  <tbody>\n    <tr>\n      <th>452</th>\n      <td>Johanna Hermine</td>\n      <td>Ullrich</td>\n      <td>2007</td>\n      <td>1. Chemnitzer Tauchverein e.V.</td>\n      <td>2006 &amp; 2007</td>\n      <td>0</td>\n      <td>0</td>\n      <td>0</td>\n      <td>0</td>\n      <td>46</td>\n      <td>...</td>\n      <td>0</td>\n      <td>0</td>\n      <td>0</td>\n      <td>0</td>\n      <td>0</td>\n      <td>0</td>\n      <td>0</td>\n      <td>0</td>\n      <td>0</td>\n      <td>146</td>\n    </tr>\n    <tr>\n      <th>852</th>\n      <td>Lotte</td>\n      <td>Marquardt</td>\n      <td>2007</td>\n      <td>Startgemeinschaft Dresden</td>\n      <td>2006 &amp; 2007</td>\n      <td>0</td>\n      <td>50</td>\n      <td>0</td>\n      <td>0</td>\n      <td>50</td>\n      <td>...</td>\n      <td>0</td>\n      <td>0</td>\n      <td>0</td>\n      <td>0</td>\n      <td>0</td>\n      <td>0</td>\n      <td>0</td>\n      <td>0</td>\n      <td>0</td>\n      <td>146</td>\n    </tr>\n    <tr>\n      <th>853</th>\n      <td>Luisa</td>\n      <td>Bretschneider</td>\n      <td>2007</td>\n      <td>Startgemeinschaft Dresden</td>\n      <td>2006 &amp; 2007</td>\n      <td>0</td>\n      <td>46</td>\n      <td>0</td>\n      <td>0</td>\n      <td>39</td>\n      <td>...</td>\n      <td>0</td>\n      <td>0</td>\n      <td>0</td>\n      <td>0</td>\n      <td>0</td>\n      <td>0</td>\n      <td>0</td>\n      <td>0</td>\n      <td>0</td>\n      <td>124</td>\n    </tr>\n    <tr>\n      <th>858</th>\n      <td>Sophiya</td>\n      <td>Razumovska</td>\n      <td>2007</td>\n      <td>Startgemeinschaft Dresden</td>\n      <td>2006 &amp; 2007</td>\n      <td>0</td>\n      <td>0</td>\n      <td>0</td>\n      <td>0</td>\n      <td>0</td>\n      <td>...</td>\n      <td>0</td>\n      <td>0</td>\n      <td>0</td>\n      <td>0</td>\n      <td>0</td>\n      <td>0</td>\n      <td>0</td>\n      <td>0</td>\n      <td>0</td>\n      <td>85</td>\n    </tr>\n    <tr>\n      <th>849</th>\n      <td>Josephine</td>\n      <td>Neumann</td>\n      <td>2006</td>\n      <td>Startgemeinschaft Dresden</td>\n      <td>2006 &amp; 2007</td>\n      <td>0</td>\n      <td>0</td>\n      <td>0</td>\n      <td>0</td>\n      <td>42</td>\n      <td>...</td>\n      <td>0</td>\n      <td>0</td>\n      <td>0</td>\n      <td>0</td>\n      <td>0</td>\n      <td>0</td>\n      <td>0</td>\n      <td>0</td>\n      <td>0</td>\n      <td>84</td>\n    </tr>\n    <tr>\n      <th>850</th>\n      <td>Katka</td>\n      <td>Schürer</td>\n      <td>2006</td>\n      <td>Startgemeinschaft Dresden</td>\n      <td>2006 &amp; 2007</td>\n      <td>0</td>\n      <td>0</td>\n      <td>0</td>\n      <td>0</td>\n      <td>0</td>\n      <td>...</td>\n      <td>0</td>\n      <td>0</td>\n      <td>0</td>\n      <td>0</td>\n      <td>0</td>\n      <td>0</td>\n      <td>0</td>\n      <td>0</td>\n      <td>0</td>\n      <td>69</td>\n    </tr>\n    <tr>\n      <th>453</th>\n      <td>Jenny</td>\n      <td>Franke</td>\n      <td>2008</td>\n      <td>1. Chemnitzer Tauchverein e.V.</td>\n      <td>2008 &amp; 2009</td>\n      <td>0</td>\n      <td>50</td>\n      <td>0</td>\n      <td>0</td>\n      <td>42</td>\n      <td>...</td>\n      <td>0</td>\n      <td>0</td>\n      <td>0</td>\n      <td>0</td>\n      <td>0</td>\n      <td>0</td>\n      <td>0</td>\n      <td>0</td>\n      <td>0</td>\n      <td>142</td>\n    </tr>\n    <tr>\n      <th>314</th>\n      <td>Polina</td>\n      <td>Kulchytska</td>\n      <td>2008</td>\n      <td>SC DHfK Leipzig Flossenschwimmen</td>\n      <td>2008 &amp; 2009</td>\n      <td>0</td>\n      <td>46</td>\n      <td>0</td>\n      <td>0</td>\n      <td>0</td>\n      <td>...</td>\n      <td>0</td>\n      <td>0</td>\n      <td>0</td>\n      <td>0</td>\n      <td>0</td>\n      <td>0</td>\n      <td>0</td>\n      <td>0</td>\n      <td>0</td>\n      <td>142</td>\n    </tr>\n    <tr>\n      <th>108</th>\n      <td>Maren</td>\n      <td>Weller</td>\n      <td>2008</td>\n      <td>Tauchclub NEMO Plauen e.V.</td>\n      <td>2008 &amp; 2009</td>\n      <td>0</td>\n      <td>42</td>\n      <td>0</td>\n      <td>0</td>\n      <td>39</td>\n      <td>...</td>\n      <td>0</td>\n      <td>0</td>\n      <td>0</td>\n      <td>0</td>\n      <td>0</td>\n      <td>0</td>\n      <td>0</td>\n      <td>0</td>\n      <td>0</td>\n      <td>123</td>\n    </tr>\n    <tr>\n      <th>111</th>\n      <td>Sara-Marie</td>\n      <td>Steinert</td>\n      <td>2008</td>\n      <td>Tauchclub NEMO Plauen e.V.</td>\n      <td>2008 &amp; 2009</td>\n      <td>0</td>\n      <td>39</td>\n      <td>0</td>\n      <td>0</td>\n      <td>0</td>\n      <td>...</td>\n      <td>0</td>\n      <td>0</td>\n      <td>0</td>\n      <td>0</td>\n      <td>0</td>\n      <td>0</td>\n      <td>0</td>\n      <td>0</td>\n      <td>0</td>\n      <td>111</td>\n    </tr>\n    <tr>\n      <th>321</th>\n      <td>Maiia</td>\n      <td>Horenok</td>\n      <td>2008</td>\n      <td>SC DHfK Leipzig Flossenschwimmen</td>\n      <td>2008 &amp; 2009</td>\n      <td>0</td>\n      <td>0</td>\n      <td>0</td>\n      <td>0</td>\n      <td>50</td>\n      <td>...</td>\n      <td>0</td>\n      <td>0</td>\n      <td>0</td>\n      <td>0</td>\n      <td>0</td>\n      <td>0</td>\n      <td>0</td>\n      <td>0</td>\n      <td>0</td>\n      <td>100</td>\n    </tr>\n    <tr>\n      <th>326</th>\n      <td>Kyra</td>\n      <td>Säbisch</td>\n      <td>2008</td>\n      <td>SC DHfK Leipzig Flossenschwimmen</td>\n      <td>2008 &amp; 2009</td>\n      <td>0</td>\n      <td>0</td>\n      <td>0</td>\n      <td>0</td>\n      <td>46</td>\n      <td>...</td>\n      <td>0</td>\n      <td>0</td>\n      <td>0</td>\n      <td>0</td>\n      <td>0</td>\n      <td>0</td>\n      <td>0</td>\n      <td>0</td>\n      <td>0</td>\n      <td>92</td>\n    </tr>\n    <tr>\n      <th>843</th>\n      <td>Ariane</td>\n      <td>Zimmermanns</td>\n      <td>2009</td>\n      <td>Startgemeinschaft Dresden</td>\n      <td>2008 &amp; 2009</td>\n      <td>0</td>\n      <td>0</td>\n      <td>0</td>\n      <td>0</td>\n      <td>0</td>\n      <td>...</td>\n      <td>0</td>\n      <td>0</td>\n      <td>0</td>\n      <td>0</td>\n      <td>0</td>\n      <td>0</td>\n      <td>0</td>\n      <td>0</td>\n      <td>0</td>\n      <td>39</td>\n    </tr>\n    <tr>\n      <th>315</th>\n      <td>Polina</td>\n      <td>Horenok</td>\n      <td>2010</td>\n      <td>SC DHfK Leipzig Flossenschwimmen</td>\n      <td>2010 &amp; 2011</td>\n      <td>0</td>\n      <td>0</td>\n      <td>0</td>\n      <td>0</td>\n      <td>50</td>\n      <td>...</td>\n      <td>0</td>\n      <td>0</td>\n      <td>0</td>\n      <td>0</td>\n      <td>0</td>\n      <td>0</td>\n      <td>0</td>\n      <td>0</td>\n      <td>0</td>\n      <td>150</td>\n    </tr>\n    <tr>\n      <th>891</th>\n      <td>Hanna Maria</td>\n      <td>Nisch</td>\n      <td>2011</td>\n      <td>1. Chemnitzer Tauchverein e.V.</td>\n      <td>2010 &amp; 2011</td>\n      <td>0</td>\n      <td>50</td>\n      <td>0</td>\n      <td>0</td>\n      <td>46</td>\n      <td>...</td>\n      <td>0</td>\n      <td>0</td>\n      <td>0</td>\n      <td>0</td>\n      <td>0</td>\n      <td>0</td>\n      <td>0</td>\n      <td>0</td>\n      <td>0</td>\n      <td>146</td>\n    </tr>\n    <tr>\n      <th>6</th>\n      <td>Lene</td>\n      <td>Berger</td>\n      <td>2010</td>\n      <td>SC Riesa (TC)</td>\n      <td>2010 &amp; 2011</td>\n      <td>0</td>\n      <td>46</td>\n      <td>0</td>\n      <td>0</td>\n      <td>36</td>\n      <td>...</td>\n      <td>0</td>\n      <td>0</td>\n      <td>0</td>\n      <td>0</td>\n      <td>0</td>\n      <td>0</td>\n      <td>0</td>\n      <td>0</td>\n      <td>0</td>\n      <td>131</td>\n    </tr>\n    <tr>\n      <th>327</th>\n      <td>Hannah</td>\n      <td>Hau</td>\n      <td>2011</td>\n      <td>SC DHfK Leipzig Flossenschwimmen</td>\n      <td>2010 &amp; 2011</td>\n      <td>0</td>\n      <td>42</td>\n      <td>0</td>\n      <td>0</td>\n      <td>27</td>\n      <td>...</td>\n      <td>0</td>\n      <td>0</td>\n      <td>0</td>\n      <td>0</td>\n      <td>0</td>\n      <td>0</td>\n      <td>0</td>\n      <td>0</td>\n      <td>0</td>\n      <td>130</td>\n    </tr>\n    <tr>\n      <th>446</th>\n      <td>Nina</td>\n      <td>Schönherr</td>\n      <td>2011</td>\n      <td>TC Delitzsch</td>\n      <td>2010 &amp; 2011</td>\n      <td>0</td>\n      <td>36</td>\n      <td>0</td>\n      <td>0</td>\n      <td>33</td>\n      <td>...</td>\n      <td>0</td>\n      <td>0</td>\n      <td>0</td>\n      <td>0</td>\n      <td>0</td>\n      <td>0</td>\n      <td>0</td>\n      <td>0</td>\n      <td>0</td>\n      <td>123</td>\n    </tr>\n    <tr>\n      <th>455</th>\n      <td>Emilia</td>\n      <td>Siegert</td>\n      <td>2010</td>\n      <td>1. Chemnitzer Tauchverein e.V.</td>\n      <td>2010 &amp; 2011</td>\n      <td>0</td>\n      <td>39</td>\n      <td>0</td>\n      <td>0</td>\n      <td>39</td>\n      <td>...</td>\n      <td>0</td>\n      <td>0</td>\n      <td>0</td>\n      <td>0</td>\n      <td>0</td>\n      <td>0</td>\n      <td>0</td>\n      <td>0</td>\n      <td>0</td>\n      <td>114</td>\n    </tr>\n    <tr>\n      <th>449</th>\n      <td>Suna</td>\n      <td>Bluhm</td>\n      <td>2010</td>\n      <td>1. Chemnitzer Tauchverein e.V.</td>\n      <td>2010 &amp; 2011</td>\n      <td>0</td>\n      <td>0</td>\n      <td>0</td>\n      <td>0</td>\n      <td>42</td>\n      <td>...</td>\n      <td>0</td>\n      <td>0</td>\n      <td>0</td>\n      <td>0</td>\n      <td>0</td>\n      <td>0</td>\n      <td>0</td>\n      <td>0</td>\n      <td>0</td>\n      <td>102</td>\n    </tr>\n    <tr>\n      <th>5</th>\n      <td>Ida</td>\n      <td>Hönisch</td>\n      <td>2011</td>\n      <td>SC Riesa (TC)</td>\n      <td>2010 &amp; 2011</td>\n      <td>0</td>\n      <td>33</td>\n      <td>0</td>\n      <td>0</td>\n      <td>30</td>\n      <td>...</td>\n      <td>0</td>\n      <td>0</td>\n      <td>0</td>\n      <td>0</td>\n      <td>0</td>\n      <td>0</td>\n      <td>0</td>\n      <td>0</td>\n      <td>0</td>\n      <td>99</td>\n    </tr>\n    <tr>\n      <th>317</th>\n      <td>Melissa</td>\n      <td>Schröter</td>\n      <td>2011</td>\n      <td>SC DHfK Leipzig Flossenschwimmen</td>\n      <td>2010 &amp; 2011</td>\n      <td>0</td>\n      <td>27</td>\n      <td>0</td>\n      <td>0</td>\n      <td>22</td>\n      <td>...</td>\n      <td>0</td>\n      <td>0</td>\n      <td>0</td>\n      <td>0</td>\n      <td>0</td>\n      <td>0</td>\n      <td>0</td>\n      <td>0</td>\n      <td>0</td>\n      <td>90</td>\n    </tr>\n    <tr>\n      <th>112</th>\n      <td>Theresa</td>\n      <td>Martin</td>\n      <td>2010</td>\n      <td>Tauchclub NEMO Plauen e.V.</td>\n      <td>2010 &amp; 2011</td>\n      <td>0</td>\n      <td>30</td>\n      <td>0</td>\n      <td>0</td>\n      <td>24</td>\n      <td>...</td>\n      <td>0</td>\n      <td>0</td>\n      <td>0</td>\n      <td>0</td>\n      <td>0</td>\n      <td>0</td>\n      <td>0</td>\n      <td>0</td>\n      <td>0</td>\n      <td>84</td>\n    </tr>\n    <tr>\n      <th>320</th>\n      <td>Mara</td>\n      <td>Oesterreich</td>\n      <td>2011</td>\n      <td>SC DHfK Leipzig Flossenschwimmen</td>\n      <td>2010 &amp; 2011</td>\n      <td>0</td>\n      <td>0</td>\n      <td>0</td>\n      <td>0</td>\n      <td>18</td>\n      <td>...</td>\n      <td>0</td>\n      <td>0</td>\n      <td>0</td>\n      <td>0</td>\n      <td>0</td>\n      <td>0</td>\n      <td>0</td>\n      <td>0</td>\n      <td>0</td>\n      <td>71</td>\n    </tr>\n    <tr>\n      <th>319</th>\n      <td>Marla</td>\n      <td>Reinhardt</td>\n      <td>2011</td>\n      <td>SC DHfK Leipzig Flossenschwimmen</td>\n      <td>2010 &amp; 2011</td>\n      <td>0</td>\n      <td>0</td>\n      <td>0</td>\n      <td>0</td>\n      <td>8</td>\n      <td>...</td>\n      <td>0</td>\n      <td>0</td>\n      <td>0</td>\n      <td>0</td>\n      <td>0</td>\n      <td>0</td>\n      <td>0</td>\n      <td>0</td>\n      <td>0</td>\n      <td>60</td>\n    </tr>\n    <tr>\n      <th>848</th>\n      <td>Helene</td>\n      <td>Mucha</td>\n      <td>2010</td>\n      <td>Startgemeinschaft Dresden</td>\n      <td>2010 &amp; 2011</td>\n      <td>0</td>\n      <td>0</td>\n      <td>0</td>\n      <td>0</td>\n      <td>14</td>\n      <td>...</td>\n      <td>0</td>\n      <td>0</td>\n      <td>0</td>\n      <td>0</td>\n      <td>0</td>\n      <td>0</td>\n      <td>0</td>\n      <td>0</td>\n      <td>0</td>\n      <td>60</td>\n    </tr>\n    <tr>\n      <th>857</th>\n      <td>Reni</td>\n      <td>Müller</td>\n      <td>2011</td>\n      <td>Startgemeinschaft Dresden</td>\n      <td>2010 &amp; 2011</td>\n      <td>0</td>\n      <td>0</td>\n      <td>0</td>\n      <td>0</td>\n      <td>16</td>\n      <td>...</td>\n      <td>0</td>\n      <td>0</td>\n      <td>0</td>\n      <td>0</td>\n      <td>0</td>\n      <td>0</td>\n      <td>0</td>\n      <td>0</td>\n      <td>0</td>\n      <td>58</td>\n    </tr>\n    <tr>\n      <th>106</th>\n      <td>Klara</td>\n      <td>Dawert</td>\n      <td>2010</td>\n      <td>Tauchclub NEMO Plauen e.V.</td>\n      <td>2010 &amp; 2011</td>\n      <td>0</td>\n      <td>0</td>\n      <td>0</td>\n      <td>0</td>\n      <td>20</td>\n      <td>...</td>\n      <td>0</td>\n      <td>0</td>\n      <td>0</td>\n      <td>0</td>\n      <td>0</td>\n      <td>0</td>\n      <td>0</td>\n      <td>0</td>\n      <td>0</td>\n      <td>50</td>\n    </tr>\n    <tr>\n      <th>855</th>\n      <td>Mathilde</td>\n      <td>Gey</td>\n      <td>2011</td>\n      <td>Startgemeinschaft Dresden</td>\n      <td>2010 &amp; 2011</td>\n      <td>0</td>\n      <td>0</td>\n      <td>0</td>\n      <td>0</td>\n      <td>10</td>\n      <td>...</td>\n      <td>0</td>\n      <td>0</td>\n      <td>0</td>\n      <td>0</td>\n      <td>0</td>\n      <td>0</td>\n      <td>0</td>\n      <td>0</td>\n      <td>0</td>\n      <td>44</td>\n    </tr>\n    <tr>\n      <th>105</th>\n      <td>Josephine</td>\n      <td>Köhler</td>\n      <td>2011</td>\n      <td>Tauchclub NEMO Plauen e.V.</td>\n      <td>2010 &amp; 2011</td>\n      <td>0</td>\n      <td>24</td>\n      <td>0</td>\n      <td>0</td>\n      <td>0</td>\n      <td>...</td>\n      <td>0</td>\n      <td>0</td>\n      <td>0</td>\n      <td>0</td>\n      <td>0</td>\n      <td>0</td>\n      <td>0</td>\n      <td>0</td>\n      <td>0</td>\n      <td>44</td>\n    </tr>\n    <tr>\n      <th>856</th>\n      <td>Mia</td>\n      <td>Oehme</td>\n      <td>2011</td>\n      <td>Startgemeinschaft Dresden</td>\n      <td>2010 &amp; 2011</td>\n      <td>0</td>\n      <td>0</td>\n      <td>0</td>\n      <td>0</td>\n      <td>12</td>\n      <td>...</td>\n      <td>0</td>\n      <td>0</td>\n      <td>0</td>\n      <td>0</td>\n      <td>0</td>\n      <td>0</td>\n      <td>0</td>\n      <td>0</td>\n      <td>0</td>\n      <td>30</td>\n    </tr>\n    <tr>\n      <th>851</th>\n      <td>Klara</td>\n      <td>Kirchner</td>\n      <td>2010</td>\n      <td>Startgemeinschaft Dresden</td>\n      <td>2010 &amp; 2011</td>\n      <td>0</td>\n      <td>0</td>\n      <td>0</td>\n      <td>0</td>\n      <td>0</td>\n      <td>...</td>\n      <td>0</td>\n      <td>0</td>\n      <td>0</td>\n      <td>0</td>\n      <td>0</td>\n      <td>0</td>\n      <td>0</td>\n      <td>0</td>\n      <td>0</td>\n      <td>0</td>\n    </tr>\n    <tr>\n      <th>322</th>\n      <td>Lisa</td>\n      <td>Kossar</td>\n      <td>2012</td>\n      <td>SC DHfK Leipzig Flossenschwimmen</td>\n      <td>2012 &amp; 2013</td>\n      <td>0</td>\n      <td>50</td>\n      <td>0</td>\n      <td>0</td>\n      <td>50</td>\n      <td>...</td>\n      <td>0</td>\n      <td>0</td>\n      <td>0</td>\n      <td>0</td>\n      <td>0</td>\n      <td>0</td>\n      <td>0</td>\n      <td>0</td>\n      <td>0</td>\n      <td>150</td>\n    </tr>\n    <tr>\n      <th>107</th>\n      <td>Lina</td>\n      <td>Küthemann</td>\n      <td>2013</td>\n      <td>Tauchclub NEMO Plauen e.V.</td>\n      <td>2012 &amp; 2013</td>\n      <td>0</td>\n      <td>39</td>\n      <td>0</td>\n      <td>0</td>\n      <td>46</td>\n      <td>...</td>\n      <td>0</td>\n      <td>0</td>\n      <td>0</td>\n      <td>0</td>\n      <td>0</td>\n      <td>0</td>\n      <td>0</td>\n      <td>0</td>\n      <td>0</td>\n      <td>131</td>\n    </tr>\n    <tr>\n      <th>313</th>\n      <td>Tabea</td>\n      <td>Amelung</td>\n      <td>2013</td>\n      <td>SC DHfK Leipzig Flossenschwimmen</td>\n      <td>2012 &amp; 2013</td>\n      <td>0</td>\n      <td>46</td>\n      <td>0</td>\n      <td>0</td>\n      <td>36</td>\n      <td>...</td>\n      <td>0</td>\n      <td>0</td>\n      <td>0</td>\n      <td>0</td>\n      <td>0</td>\n      <td>0</td>\n      <td>0</td>\n      <td>0</td>\n      <td>0</td>\n      <td>130</td>\n    </tr>\n    <tr>\n      <th>325</th>\n      <td>Laura</td>\n      <td>Hauk</td>\n      <td>2012</td>\n      <td>SC DHfK Leipzig Flossenschwimmen</td>\n      <td>2012 &amp; 2013</td>\n      <td>0</td>\n      <td>0</td>\n      <td>0</td>\n      <td>0</td>\n      <td>42</td>\n      <td>...</td>\n      <td>0</td>\n      <td>0</td>\n      <td>0</td>\n      <td>0</td>\n      <td>0</td>\n      <td>0</td>\n      <td>0</td>\n      <td>0</td>\n      <td>0</td>\n      <td>130</td>\n    </tr>\n    <tr>\n      <th>845</th>\n      <td>Ella Henriette</td>\n      <td>Körner</td>\n      <td>2012</td>\n      <td>Startgemeinschaft Dresden</td>\n      <td>2012 &amp; 2013</td>\n      <td>0</td>\n      <td>0</td>\n      <td>0</td>\n      <td>0</td>\n      <td>39</td>\n      <td>...</td>\n      <td>0</td>\n      <td>0</td>\n      <td>0</td>\n      <td>0</td>\n      <td>0</td>\n      <td>0</td>\n      <td>0</td>\n      <td>0</td>\n      <td>0</td>\n      <td>128</td>\n    </tr>\n    <tr>\n      <th>323</th>\n      <td>Lilly</td>\n      <td>Kannenberg</td>\n      <td>2013</td>\n      <td>SC DHfK Leipzig Flossenschwimmen</td>\n      <td>2012 &amp; 2013</td>\n      <td>0</td>\n      <td>42</td>\n      <td>0</td>\n      <td>0</td>\n      <td>33</td>\n      <td>...</td>\n      <td>0</td>\n      <td>0</td>\n      <td>0</td>\n      <td>0</td>\n      <td>0</td>\n      <td>0</td>\n      <td>0</td>\n      <td>0</td>\n      <td>0</td>\n      <td>127</td>\n    </tr>\n    <tr>\n      <th>846</th>\n      <td>Fjora</td>\n      <td>Bernhardt</td>\n      <td>2012</td>\n      <td>Startgemeinschaft Dresden</td>\n      <td>2012 &amp; 2013</td>\n      <td>0</td>\n      <td>0</td>\n      <td>0</td>\n      <td>0</td>\n      <td>30</td>\n      <td>...</td>\n      <td>0</td>\n      <td>0</td>\n      <td>0</td>\n      <td>0</td>\n      <td>0</td>\n      <td>0</td>\n      <td>0</td>\n      <td>0</td>\n      <td>0</td>\n      <td>102</td>\n    </tr>\n    <tr>\n      <th>451</th>\n      <td>Lilou</td>\n      <td>Gralka</td>\n      <td>2012</td>\n      <td>1. Chemnitzer Tauchverein e.V.</td>\n      <td>2012 &amp; 2013</td>\n      <td>0</td>\n      <td>0</td>\n      <td>0</td>\n      <td>0</td>\n      <td>0</td>\n      <td>...</td>\n      <td>0</td>\n      <td>0</td>\n      <td>0</td>\n      <td>0</td>\n      <td>0</td>\n      <td>0</td>\n      <td>0</td>\n      <td>0</td>\n      <td>0</td>\n      <td>60</td>\n    </tr>\n    <tr>\n      <th>454</th>\n      <td>Ida Marie</td>\n      <td>Laasner</td>\n      <td>2012</td>\n      <td>1. Chemnitzer Tauchverein e.V.</td>\n      <td>2012 &amp; 2013</td>\n      <td>0</td>\n      <td>0</td>\n      <td>0</td>\n      <td>0</td>\n      <td>0</td>\n      <td>...</td>\n      <td>0</td>\n      <td>0</td>\n      <td>0</td>\n      <td>0</td>\n      <td>0</td>\n      <td>0</td>\n      <td>0</td>\n      <td>0</td>\n      <td>0</td>\n      <td>60</td>\n    </tr>\n    <tr>\n      <th>328</th>\n      <td>Clara Sophie</td>\n      <td>Paulmann</td>\n      <td>2014</td>\n      <td>SC DHfK Leipzig Flossenschwimmen</td>\n      <td>2014 &amp; jünger</td>\n      <td>0</td>\n      <td>0</td>\n      <td>0</td>\n      <td>0</td>\n      <td>0</td>\n      <td>...</td>\n      <td>0</td>\n      <td>0</td>\n      <td>0</td>\n      <td>0</td>\n      <td>0</td>\n      <td>0</td>\n      <td>0</td>\n      <td>0</td>\n      <td>0</td>\n      <td>150</td>\n    </tr>\n    <tr>\n      <th>9</th>\n      <td>Miriam</td>\n      <td>Sorgalla</td>\n      <td>2015</td>\n      <td>SC Riesa (TC)</td>\n      <td>2014 &amp; jünger</td>\n      <td>0</td>\n      <td>50</td>\n      <td>0</td>\n      <td>0</td>\n      <td>0</td>\n      <td>...</td>\n      <td>0</td>\n      <td>0</td>\n      <td>0</td>\n      <td>0</td>\n      <td>0</td>\n      <td>0</td>\n      <td>0</td>\n      <td>0</td>\n      <td>0</td>\n      <td>142</td>\n    </tr>\n    <tr>\n      <th>7</th>\n      <td>Mathilde</td>\n      <td>Näther</td>\n      <td>2014</td>\n      <td>SC Riesa (TC)</td>\n      <td>2014 &amp; jünger</td>\n      <td>0</td>\n      <td>46</td>\n      <td>0</td>\n      <td>0</td>\n      <td>0</td>\n      <td>...</td>\n      <td>0</td>\n      <td>0</td>\n      <td>0</td>\n      <td>0</td>\n      <td>0</td>\n      <td>0</td>\n      <td>0</td>\n      <td>0</td>\n      <td>0</td>\n      <td>134</td>\n    </tr>\n  </tbody>\n</table>\n<p>44 rows × 30 columns</p>\n</div>"
     },
     "execution_count": 62,
     "metadata": {},
     "output_type": "execute_result"
    }
   ],
   "source": [
    "df_female = pd.DataFrame.from_dict(rows_f, orient=\"index\", columns=headers_f)\n",
    "df_female[\"Summe\"] = df_female.apply(calc_points_per_athlete, axis=1)\n",
    "df_female.sort_values(by=[\"Altersklasse\", \"Summe\"], ascending=[True, False], inplace=True)\n",
    "df_female"
   ],
   "metadata": {
    "collapsed": false,
    "ExecuteTime": {
     "start_time": "2023-07-30T12:56:15.520646Z",
     "end_time": "2023-07-30T12:56:15.559304Z"
    }
   }
  },
  {
   "cell_type": "markdown",
   "source": [
    "## Ergebnisse Männlich\n"
   ],
   "metadata": {
    "collapsed": false
   }
  },
  {
   "cell_type": "code",
   "execution_count": 63,
   "outputs": [
    {
     "data": {
      "text/plain": "           Vorname     Nachname  Geb. Jahr                            Verein   \n456           Emil       Lorenz       2006    1. Chemnitzer Tauchverein e.V.  \\\n329     Ben Joseph      Schoodt       2007  SC DHfK Leipzig Flossenschwimmen   \n113            Tim        Kaden       2007        Tauchclub NEMO Plauen e.V.   \n324           Leon         Hauk       2008  SC DHfK Leipzig Flossenschwimmen   \n458          Alwin       Müller       2009    1. Chemnitzer Tauchverein e.V.   \n450          Simon         Elle       2009    1. Chemnitzer Tauchverein e.V.   \n331   Alex Michael       Berger       2008  SC DHfK Leipzig Flossenschwimmen   \n844      Christoph       Hübner       2009         Startgemeinschaft Dresden   \n445     Pepe Milan       Becker       2011                      TC Delitzsch   \n448         Viktor   Yemelianov       2010    1. Chemnitzer Tauchverein e.V.   \n854          Marco     Buchmann       2011         Startgemeinschaft Dresden   \n316         Mykyta  Kulchytskyi       2012  SC DHfK Leipzig Flossenschwimmen   \n318         Marten     Schnepel       2012  SC DHfK Leipzig Flossenschwimmen   \n110           Paul     Hartmann       2013        Tauchclub NEMO Plauen e.V.   \n447            Yan      Ilianyi       2012    1. Chemnitzer Tauchverein e.V.   \n104        Etienne       Hertel       2013        Tauchclub NEMO Plauen e.V.   \n114        Vincent          Kad       2013        Tauchclub NEMO Plauen e.V.   \n103  Charlie James          Ngo       2012        Tauchclub NEMO Plauen e.V.   \n847         Gustav   Schewitzer       2013         Startgemeinschaft Dresden   \n457            Ben     Schiller       2013    1. Chemnitzer Tauchverein e.V.   \n330          Arved        Beyer       2013  SC DHfK Leipzig Flossenschwimmen   \n109       Max-Leon     Michalke       2014        Tauchclub NEMO Plauen e.V.   \n10             Neo     vom Hoff       2014                     SC Riesa (TC)   \n8       Maximilian        Fleck       2014                     SC Riesa (TC)   \n\n      Altersklasse  200 MEDLEY  200 SURFACE  100 BREAST  50 FLY  25 APNEA   \n456    2006 & 2007           0            0           0       0        50  \\\n329    2006 & 2007           0            0           0       0        46   \n113    2006 & 2007           0           50           0       0         0   \n324    2008 & 2009           0            0           0       0        46   \n458    2008 & 2009           0           50           0       0        42   \n450    2008 & 2009           0            0           0       0        39   \n331    2008 & 2009           0            0           0       0        50   \n844    2008 & 2009           0            0           0       0         0   \n445    2010 & 2011           0           50           0       0        50   \n448    2010 & 2011           0           46           0       0         0   \n854    2010 & 2011           0            0           0       0        46   \n316    2012 & 2013           0           50           0       0        50   \n318    2012 & 2013           0            0           0       0        46   \n110    2012 & 2013           0           46           0       0        42   \n447    2012 & 2013           0           39           0       0         0   \n104    2012 & 2013           0           42           0       0        36   \n114    2012 & 2013           0           36           0       0        30   \n103    2012 & 2013           0           33           0       0         0   \n847    2012 & 2013           0            0           0       0        39   \n457    2012 & 2013           0           30           0       0         0   \n330    2012 & 2013           0            0           0       0        33   \n109  2014 & jünger           0           50           0       0         0   \n10   2014 & jünger           0           46           0       0         0   \n8    2014 & jünger           0           42           0       0         0   \n\n     ...  50 FREE  200 FREE  50 BACK  50 BREAST  50 FREE  50 FLY  100 FREE   \n456  ...        0         0        0          0        0       0         0  \\\n329  ...        0         0        0          0        0       0         0   \n113  ...        0         0        0          0        0       0         0   \n324  ...        0         0        0          0        0       0         0   \n458  ...        0         0        0          0        0       0         0   \n450  ...        0         0        0          0        0       0         0   \n331  ...        0         0        0          0        0       0         0   \n844  ...        0         0        0          0        0       0         0   \n445  ...        0         0        0          0        0       0         0   \n448  ...        0         0        0          0        0       0         0   \n854  ...        0         0        0          0        0       0         0   \n316  ...        0         0        0          0        0       0         0   \n318  ...        0         0        0          0        0       0         0   \n110  ...        0         0        0          0        0       0         0   \n447  ...        0         0        0          0        0       0         0   \n104  ...        0         0        0          0        0       0         0   \n114  ...        0         0        0          0        0       0         0   \n103  ...        0         0        0          0        0       0         0   \n847  ...        0         0        0          0        0       0         0   \n457  ...        0         0        0          0        0       0         0   \n330  ...        0         0        0          0        0       0         0   \n109  ...        0         0        0          0        0       0         0   \n10   ...        0         0        0          0        0       0         0   \n8    ...        0         0        0          0        0       0         0   \n\n     100 FLY  200 BACK  Summe  \n456        0         0    150  \n329        0         0    142  \n113        0         0    138  \n324        0         0    146  \n458        0         0    138  \n450        0         0    127  \n331        0         0    100  \n844        0         0     85  \n445        0         0    150  \n448        0         0    138  \n854        0         0    130  \n316        0         0    150  \n318        0         0    142  \n110        0         0    130  \n447        0         0    121  \n104        0         0    114  \n114        0         0    102  \n103        0         0     99  \n847        0         0     85  \n457        0         0     84  \n330        0         0     33  \n109        0         0    150  \n10         0         0    138  \n8          0         0    126  \n\n[24 rows x 30 columns]",
      "text/html": "<div>\n<style scoped>\n    .dataframe tbody tr th:only-of-type {\n        vertical-align: middle;\n    }\n\n    .dataframe tbody tr th {\n        vertical-align: top;\n    }\n\n    .dataframe thead th {\n        text-align: right;\n    }\n</style>\n<table border=\"1\" class=\"dataframe\">\n  <thead>\n    <tr style=\"text-align: right;\">\n      <th></th>\n      <th>Vorname</th>\n      <th>Nachname</th>\n      <th>Geb. Jahr</th>\n      <th>Verein</th>\n      <th>Altersklasse</th>\n      <th>200 MEDLEY</th>\n      <th>200 SURFACE</th>\n      <th>100 BREAST</th>\n      <th>50 FLY</th>\n      <th>25 APNEA</th>\n      <th>...</th>\n      <th>50 FREE</th>\n      <th>200 FREE</th>\n      <th>50 BACK</th>\n      <th>50 BREAST</th>\n      <th>50 FREE</th>\n      <th>50 FLY</th>\n      <th>100 FREE</th>\n      <th>100 FLY</th>\n      <th>200 BACK</th>\n      <th>Summe</th>\n    </tr>\n  </thead>\n  <tbody>\n    <tr>\n      <th>456</th>\n      <td>Emil</td>\n      <td>Lorenz</td>\n      <td>2006</td>\n      <td>1. Chemnitzer Tauchverein e.V.</td>\n      <td>2006 &amp; 2007</td>\n      <td>0</td>\n      <td>0</td>\n      <td>0</td>\n      <td>0</td>\n      <td>50</td>\n      <td>...</td>\n      <td>0</td>\n      <td>0</td>\n      <td>0</td>\n      <td>0</td>\n      <td>0</td>\n      <td>0</td>\n      <td>0</td>\n      <td>0</td>\n      <td>0</td>\n      <td>150</td>\n    </tr>\n    <tr>\n      <th>329</th>\n      <td>Ben Joseph</td>\n      <td>Schoodt</td>\n      <td>2007</td>\n      <td>SC DHfK Leipzig Flossenschwimmen</td>\n      <td>2006 &amp; 2007</td>\n      <td>0</td>\n      <td>0</td>\n      <td>0</td>\n      <td>0</td>\n      <td>46</td>\n      <td>...</td>\n      <td>0</td>\n      <td>0</td>\n      <td>0</td>\n      <td>0</td>\n      <td>0</td>\n      <td>0</td>\n      <td>0</td>\n      <td>0</td>\n      <td>0</td>\n      <td>142</td>\n    </tr>\n    <tr>\n      <th>113</th>\n      <td>Tim</td>\n      <td>Kaden</td>\n      <td>2007</td>\n      <td>Tauchclub NEMO Plauen e.V.</td>\n      <td>2006 &amp; 2007</td>\n      <td>0</td>\n      <td>50</td>\n      <td>0</td>\n      <td>0</td>\n      <td>0</td>\n      <td>...</td>\n      <td>0</td>\n      <td>0</td>\n      <td>0</td>\n      <td>0</td>\n      <td>0</td>\n      <td>0</td>\n      <td>0</td>\n      <td>0</td>\n      <td>0</td>\n      <td>138</td>\n    </tr>\n    <tr>\n      <th>324</th>\n      <td>Leon</td>\n      <td>Hauk</td>\n      <td>2008</td>\n      <td>SC DHfK Leipzig Flossenschwimmen</td>\n      <td>2008 &amp; 2009</td>\n      <td>0</td>\n      <td>0</td>\n      <td>0</td>\n      <td>0</td>\n      <td>46</td>\n      <td>...</td>\n      <td>0</td>\n      <td>0</td>\n      <td>0</td>\n      <td>0</td>\n      <td>0</td>\n      <td>0</td>\n      <td>0</td>\n      <td>0</td>\n      <td>0</td>\n      <td>146</td>\n    </tr>\n    <tr>\n      <th>458</th>\n      <td>Alwin</td>\n      <td>Müller</td>\n      <td>2009</td>\n      <td>1. Chemnitzer Tauchverein e.V.</td>\n      <td>2008 &amp; 2009</td>\n      <td>0</td>\n      <td>50</td>\n      <td>0</td>\n      <td>0</td>\n      <td>42</td>\n      <td>...</td>\n      <td>0</td>\n      <td>0</td>\n      <td>0</td>\n      <td>0</td>\n      <td>0</td>\n      <td>0</td>\n      <td>0</td>\n      <td>0</td>\n      <td>0</td>\n      <td>138</td>\n    </tr>\n    <tr>\n      <th>450</th>\n      <td>Simon</td>\n      <td>Elle</td>\n      <td>2009</td>\n      <td>1. Chemnitzer Tauchverein e.V.</td>\n      <td>2008 &amp; 2009</td>\n      <td>0</td>\n      <td>0</td>\n      <td>0</td>\n      <td>0</td>\n      <td>39</td>\n      <td>...</td>\n      <td>0</td>\n      <td>0</td>\n      <td>0</td>\n      <td>0</td>\n      <td>0</td>\n      <td>0</td>\n      <td>0</td>\n      <td>0</td>\n      <td>0</td>\n      <td>127</td>\n    </tr>\n    <tr>\n      <th>331</th>\n      <td>Alex Michael</td>\n      <td>Berger</td>\n      <td>2008</td>\n      <td>SC DHfK Leipzig Flossenschwimmen</td>\n      <td>2008 &amp; 2009</td>\n      <td>0</td>\n      <td>0</td>\n      <td>0</td>\n      <td>0</td>\n      <td>50</td>\n      <td>...</td>\n      <td>0</td>\n      <td>0</td>\n      <td>0</td>\n      <td>0</td>\n      <td>0</td>\n      <td>0</td>\n      <td>0</td>\n      <td>0</td>\n      <td>0</td>\n      <td>100</td>\n    </tr>\n    <tr>\n      <th>844</th>\n      <td>Christoph</td>\n      <td>Hübner</td>\n      <td>2009</td>\n      <td>Startgemeinschaft Dresden</td>\n      <td>2008 &amp; 2009</td>\n      <td>0</td>\n      <td>0</td>\n      <td>0</td>\n      <td>0</td>\n      <td>0</td>\n      <td>...</td>\n      <td>0</td>\n      <td>0</td>\n      <td>0</td>\n      <td>0</td>\n      <td>0</td>\n      <td>0</td>\n      <td>0</td>\n      <td>0</td>\n      <td>0</td>\n      <td>85</td>\n    </tr>\n    <tr>\n      <th>445</th>\n      <td>Pepe Milan</td>\n      <td>Becker</td>\n      <td>2011</td>\n      <td>TC Delitzsch</td>\n      <td>2010 &amp; 2011</td>\n      <td>0</td>\n      <td>50</td>\n      <td>0</td>\n      <td>0</td>\n      <td>50</td>\n      <td>...</td>\n      <td>0</td>\n      <td>0</td>\n      <td>0</td>\n      <td>0</td>\n      <td>0</td>\n      <td>0</td>\n      <td>0</td>\n      <td>0</td>\n      <td>0</td>\n      <td>150</td>\n    </tr>\n    <tr>\n      <th>448</th>\n      <td>Viktor</td>\n      <td>Yemelianov</td>\n      <td>2010</td>\n      <td>1. Chemnitzer Tauchverein e.V.</td>\n      <td>2010 &amp; 2011</td>\n      <td>0</td>\n      <td>46</td>\n      <td>0</td>\n      <td>0</td>\n      <td>0</td>\n      <td>...</td>\n      <td>0</td>\n      <td>0</td>\n      <td>0</td>\n      <td>0</td>\n      <td>0</td>\n      <td>0</td>\n      <td>0</td>\n      <td>0</td>\n      <td>0</td>\n      <td>138</td>\n    </tr>\n    <tr>\n      <th>854</th>\n      <td>Marco</td>\n      <td>Buchmann</td>\n      <td>2011</td>\n      <td>Startgemeinschaft Dresden</td>\n      <td>2010 &amp; 2011</td>\n      <td>0</td>\n      <td>0</td>\n      <td>0</td>\n      <td>0</td>\n      <td>46</td>\n      <td>...</td>\n      <td>0</td>\n      <td>0</td>\n      <td>0</td>\n      <td>0</td>\n      <td>0</td>\n      <td>0</td>\n      <td>0</td>\n      <td>0</td>\n      <td>0</td>\n      <td>130</td>\n    </tr>\n    <tr>\n      <th>316</th>\n      <td>Mykyta</td>\n      <td>Kulchytskyi</td>\n      <td>2012</td>\n      <td>SC DHfK Leipzig Flossenschwimmen</td>\n      <td>2012 &amp; 2013</td>\n      <td>0</td>\n      <td>50</td>\n      <td>0</td>\n      <td>0</td>\n      <td>50</td>\n      <td>...</td>\n      <td>0</td>\n      <td>0</td>\n      <td>0</td>\n      <td>0</td>\n      <td>0</td>\n      <td>0</td>\n      <td>0</td>\n      <td>0</td>\n      <td>0</td>\n      <td>150</td>\n    </tr>\n    <tr>\n      <th>318</th>\n      <td>Marten</td>\n      <td>Schnepel</td>\n      <td>2012</td>\n      <td>SC DHfK Leipzig Flossenschwimmen</td>\n      <td>2012 &amp; 2013</td>\n      <td>0</td>\n      <td>0</td>\n      <td>0</td>\n      <td>0</td>\n      <td>46</td>\n      <td>...</td>\n      <td>0</td>\n      <td>0</td>\n      <td>0</td>\n      <td>0</td>\n      <td>0</td>\n      <td>0</td>\n      <td>0</td>\n      <td>0</td>\n      <td>0</td>\n      <td>142</td>\n    </tr>\n    <tr>\n      <th>110</th>\n      <td>Paul</td>\n      <td>Hartmann</td>\n      <td>2013</td>\n      <td>Tauchclub NEMO Plauen e.V.</td>\n      <td>2012 &amp; 2013</td>\n      <td>0</td>\n      <td>46</td>\n      <td>0</td>\n      <td>0</td>\n      <td>42</td>\n      <td>...</td>\n      <td>0</td>\n      <td>0</td>\n      <td>0</td>\n      <td>0</td>\n      <td>0</td>\n      <td>0</td>\n      <td>0</td>\n      <td>0</td>\n      <td>0</td>\n      <td>130</td>\n    </tr>\n    <tr>\n      <th>447</th>\n      <td>Yan</td>\n      <td>Ilianyi</td>\n      <td>2012</td>\n      <td>1. Chemnitzer Tauchverein e.V.</td>\n      <td>2012 &amp; 2013</td>\n      <td>0</td>\n      <td>39</td>\n      <td>0</td>\n      <td>0</td>\n      <td>0</td>\n      <td>...</td>\n      <td>0</td>\n      <td>0</td>\n      <td>0</td>\n      <td>0</td>\n      <td>0</td>\n      <td>0</td>\n      <td>0</td>\n      <td>0</td>\n      <td>0</td>\n      <td>121</td>\n    </tr>\n    <tr>\n      <th>104</th>\n      <td>Etienne</td>\n      <td>Hertel</td>\n      <td>2013</td>\n      <td>Tauchclub NEMO Plauen e.V.</td>\n      <td>2012 &amp; 2013</td>\n      <td>0</td>\n      <td>42</td>\n      <td>0</td>\n      <td>0</td>\n      <td>36</td>\n      <td>...</td>\n      <td>0</td>\n      <td>0</td>\n      <td>0</td>\n      <td>0</td>\n      <td>0</td>\n      <td>0</td>\n      <td>0</td>\n      <td>0</td>\n      <td>0</td>\n      <td>114</td>\n    </tr>\n    <tr>\n      <th>114</th>\n      <td>Vincent</td>\n      <td>Kad</td>\n      <td>2013</td>\n      <td>Tauchclub NEMO Plauen e.V.</td>\n      <td>2012 &amp; 2013</td>\n      <td>0</td>\n      <td>36</td>\n      <td>0</td>\n      <td>0</td>\n      <td>30</td>\n      <td>...</td>\n      <td>0</td>\n      <td>0</td>\n      <td>0</td>\n      <td>0</td>\n      <td>0</td>\n      <td>0</td>\n      <td>0</td>\n      <td>0</td>\n      <td>0</td>\n      <td>102</td>\n    </tr>\n    <tr>\n      <th>103</th>\n      <td>Charlie James</td>\n      <td>Ngo</td>\n      <td>2012</td>\n      <td>Tauchclub NEMO Plauen e.V.</td>\n      <td>2012 &amp; 2013</td>\n      <td>0</td>\n      <td>33</td>\n      <td>0</td>\n      <td>0</td>\n      <td>0</td>\n      <td>...</td>\n      <td>0</td>\n      <td>0</td>\n      <td>0</td>\n      <td>0</td>\n      <td>0</td>\n      <td>0</td>\n      <td>0</td>\n      <td>0</td>\n      <td>0</td>\n      <td>99</td>\n    </tr>\n    <tr>\n      <th>847</th>\n      <td>Gustav</td>\n      <td>Schewitzer</td>\n      <td>2013</td>\n      <td>Startgemeinschaft Dresden</td>\n      <td>2012 &amp; 2013</td>\n      <td>0</td>\n      <td>0</td>\n      <td>0</td>\n      <td>0</td>\n      <td>39</td>\n      <td>...</td>\n      <td>0</td>\n      <td>0</td>\n      <td>0</td>\n      <td>0</td>\n      <td>0</td>\n      <td>0</td>\n      <td>0</td>\n      <td>0</td>\n      <td>0</td>\n      <td>85</td>\n    </tr>\n    <tr>\n      <th>457</th>\n      <td>Ben</td>\n      <td>Schiller</td>\n      <td>2013</td>\n      <td>1. Chemnitzer Tauchverein e.V.</td>\n      <td>2012 &amp; 2013</td>\n      <td>0</td>\n      <td>30</td>\n      <td>0</td>\n      <td>0</td>\n      <td>0</td>\n      <td>...</td>\n      <td>0</td>\n      <td>0</td>\n      <td>0</td>\n      <td>0</td>\n      <td>0</td>\n      <td>0</td>\n      <td>0</td>\n      <td>0</td>\n      <td>0</td>\n      <td>84</td>\n    </tr>\n    <tr>\n      <th>330</th>\n      <td>Arved</td>\n      <td>Beyer</td>\n      <td>2013</td>\n      <td>SC DHfK Leipzig Flossenschwimmen</td>\n      <td>2012 &amp; 2013</td>\n      <td>0</td>\n      <td>0</td>\n      <td>0</td>\n      <td>0</td>\n      <td>33</td>\n      <td>...</td>\n      <td>0</td>\n      <td>0</td>\n      <td>0</td>\n      <td>0</td>\n      <td>0</td>\n      <td>0</td>\n      <td>0</td>\n      <td>0</td>\n      <td>0</td>\n      <td>33</td>\n    </tr>\n    <tr>\n      <th>109</th>\n      <td>Max-Leon</td>\n      <td>Michalke</td>\n      <td>2014</td>\n      <td>Tauchclub NEMO Plauen e.V.</td>\n      <td>2014 &amp; jünger</td>\n      <td>0</td>\n      <td>50</td>\n      <td>0</td>\n      <td>0</td>\n      <td>0</td>\n      <td>...</td>\n      <td>0</td>\n      <td>0</td>\n      <td>0</td>\n      <td>0</td>\n      <td>0</td>\n      <td>0</td>\n      <td>0</td>\n      <td>0</td>\n      <td>0</td>\n      <td>150</td>\n    </tr>\n    <tr>\n      <th>10</th>\n      <td>Neo</td>\n      <td>vom Hoff</td>\n      <td>2014</td>\n      <td>SC Riesa (TC)</td>\n      <td>2014 &amp; jünger</td>\n      <td>0</td>\n      <td>46</td>\n      <td>0</td>\n      <td>0</td>\n      <td>0</td>\n      <td>...</td>\n      <td>0</td>\n      <td>0</td>\n      <td>0</td>\n      <td>0</td>\n      <td>0</td>\n      <td>0</td>\n      <td>0</td>\n      <td>0</td>\n      <td>0</td>\n      <td>138</td>\n    </tr>\n    <tr>\n      <th>8</th>\n      <td>Maximilian</td>\n      <td>Fleck</td>\n      <td>2014</td>\n      <td>SC Riesa (TC)</td>\n      <td>2014 &amp; jünger</td>\n      <td>0</td>\n      <td>42</td>\n      <td>0</td>\n      <td>0</td>\n      <td>0</td>\n      <td>...</td>\n      <td>0</td>\n      <td>0</td>\n      <td>0</td>\n      <td>0</td>\n      <td>0</td>\n      <td>0</td>\n      <td>0</td>\n      <td>0</td>\n      <td>0</td>\n      <td>126</td>\n    </tr>\n  </tbody>\n</table>\n<p>24 rows × 30 columns</p>\n</div>"
     },
     "execution_count": 63,
     "metadata": {},
     "output_type": "execute_result"
    }
   ],
   "source": [
    "df_male = pd.DataFrame.from_dict(rows_m, orient=\"index\", columns=headers_m)\n",
    "df_male[\"Summe\"] = df_male.apply(calc_points_per_athlete, axis=1)\n",
    "df_male.sort_values(by=[\"Altersklasse\", \"Summe\"], ascending=[True, False], inplace=True)\n",
    "df_male"
   ],
   "metadata": {
    "collapsed": false,
    "ExecuteTime": {
     "start_time": "2023-07-30T12:56:15.563817Z",
     "end_time": "2023-07-30T12:56:15.590767Z"
    }
   }
  },
  {
   "cell_type": "markdown",
   "source": [
    "# Export"
   ],
   "metadata": {
    "collapsed": false
   }
  },
  {
   "cell_type": "code",
   "execution_count": 64,
   "outputs": [],
   "source": [
    "with pd.ExcelWriter(output_file) as writer:\n",
    "    df_male.to_excel(writer, sheet_name=\"male\")\n",
    "    df_female.to_excel(writer, sheet_name=\"female\")"
   ],
   "metadata": {
    "collapsed": false,
    "ExecuteTime": {
     "start_time": "2023-07-30T12:56:15.586332Z",
     "end_time": "2023-07-30T12:56:15.638305Z"
    }
   }
  }
 ],
 "metadata": {
  "kernelspec": {
   "display_name": "Python 3",
   "language": "python",
   "name": "python3"
  },
  "language_info": {
   "codemirror_mode": {
    "name": "ipython",
    "version": 2
   },
   "file_extension": ".py",
   "mimetype": "text/x-python",
   "name": "python",
   "nbconvert_exporter": "python",
   "pygments_lexer": "ipython2",
   "version": "2.7.6"
  }
 },
 "nbformat": 4,
 "nbformat_minor": 0
}
