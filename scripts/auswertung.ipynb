{
 "cells": [
  {
   "cell_type": "markdown",
   "source": [
    "# Grundlegende Infos\n",
    "\n",
    "**Aufgabe:**\n",
    "Einlesen von Ergebnissdateien im LENEX Format zur vereinfachten Auswertung der Sachsenliga\n",
    "\n",
    "**Eingabedateien:** LEF-Dateien"
   ],
   "metadata": {
    "collapsed": false
   }
  },
  {
   "cell_type": "markdown",
   "source": [
    "# Notwendige Imports & Einstellungen & Vorbereitung"
   ],
   "metadata": {
    "collapsed": false
   }
  },
  {
   "cell_type": "markdown",
   "source": [
    "## Imports"
   ],
   "metadata": {
    "collapsed": false
   }
  },
  {
   "cell_type": "code",
   "execution_count": 3,
   "metadata": {
    "collapsed": true,
    "ExecuteTime": {
     "start_time": "2023-04-07T18:04:46.802036Z",
     "end_time": "2023-04-07T18:04:47.206819Z"
    }
   },
   "outputs": [],
   "source": [
    "import pandas as pd\n",
    "from lxml import etree"
   ]
  },
  {
   "cell_type": "markdown",
   "source": [
    "## Einstellungen"
   ],
   "metadata": {
    "collapsed": false
   }
  },
  {
   "cell_type": "code",
   "execution_count": 2,
   "outputs": [],
   "source": [
    "input_file = \"../data/230401-Zwickau-PR.lef\""
   ],
   "metadata": {
    "collapsed": false,
    "ExecuteTime": {
     "start_time": "2023-04-07T17:56:38.824877Z",
     "end_time": "2023-04-07T17:56:38.826959Z"
    }
   }
  },
  {
   "cell_type": "markdown",
   "source": [
    "## Einlesen der Datei"
   ],
   "metadata": {
    "collapsed": false
   }
  },
  {
   "cell_type": "code",
   "execution_count": 4,
   "outputs": [],
   "source": [
    "tree = etree.parse(input_file)\n",
    "root = tree.getroot()"
   ],
   "metadata": {
    "collapsed": false,
    "ExecuteTime": {
     "start_time": "2023-04-07T18:05:33.128224Z",
     "end_time": "2023-04-07T18:05:33.133205Z"
    }
   }
  },
  {
   "cell_type": "markdown",
   "source": [
    "# Einlesen der angebotenen Strecken"
   ],
   "metadata": {
    "collapsed": false
   }
  },
  {
   "cell_type": "code",
   "execution_count": 19,
   "outputs": [
    {
     "data": {
      "text/plain": "    ID Gender      Style Distance\n0    1      F    SURFACE      400\n1    2      M    SURFACE      400\n2    3      F  IMMERSION       50\n3    4      M  IMMERSION       50\n4    5      F      APNEA       50\n5    6      M      APNEA       50\n6    7      F    SURFACE      100\n7    8      M    SURFACE      100\n8    9      F    SURFACE      800\n9   10      M    SURFACE      800\n10  11      F      BIFIN       50\n11  12      M      BIFIN       50\n12  14      F    SURFACE       50\n13  15      M    SURFACE       50\n14  16      F    SURFACE     1500\n15  17      M    SURFACE     1500\n16  18      F  IMMERSION      100\n17  19      M  IMMERSION      100\n18  20      F    SURFACE      200\n19  21      M    SURFACE      200\n20  22      F  IMMERSION      400\n21  23      M  IMMERSION      400",
      "text/html": "<div>\n<style scoped>\n    .dataframe tbody tr th:only-of-type {\n        vertical-align: middle;\n    }\n\n    .dataframe tbody tr th {\n        vertical-align: top;\n    }\n\n    .dataframe thead th {\n        text-align: right;\n    }\n</style>\n<table border=\"1\" class=\"dataframe\">\n  <thead>\n    <tr style=\"text-align: right;\">\n      <th></th>\n      <th>ID</th>\n      <th>Gender</th>\n      <th>Style</th>\n      <th>Distance</th>\n    </tr>\n  </thead>\n  <tbody>\n    <tr>\n      <th>0</th>\n      <td>1</td>\n      <td>F</td>\n      <td>SURFACE</td>\n      <td>400</td>\n    </tr>\n    <tr>\n      <th>1</th>\n      <td>2</td>\n      <td>M</td>\n      <td>SURFACE</td>\n      <td>400</td>\n    </tr>\n    <tr>\n      <th>2</th>\n      <td>3</td>\n      <td>F</td>\n      <td>IMMERSION</td>\n      <td>50</td>\n    </tr>\n    <tr>\n      <th>3</th>\n      <td>4</td>\n      <td>M</td>\n      <td>IMMERSION</td>\n      <td>50</td>\n    </tr>\n    <tr>\n      <th>4</th>\n      <td>5</td>\n      <td>F</td>\n      <td>APNEA</td>\n      <td>50</td>\n    </tr>\n    <tr>\n      <th>5</th>\n      <td>6</td>\n      <td>M</td>\n      <td>APNEA</td>\n      <td>50</td>\n    </tr>\n    <tr>\n      <th>6</th>\n      <td>7</td>\n      <td>F</td>\n      <td>SURFACE</td>\n      <td>100</td>\n    </tr>\n    <tr>\n      <th>7</th>\n      <td>8</td>\n      <td>M</td>\n      <td>SURFACE</td>\n      <td>100</td>\n    </tr>\n    <tr>\n      <th>8</th>\n      <td>9</td>\n      <td>F</td>\n      <td>SURFACE</td>\n      <td>800</td>\n    </tr>\n    <tr>\n      <th>9</th>\n      <td>10</td>\n      <td>M</td>\n      <td>SURFACE</td>\n      <td>800</td>\n    </tr>\n    <tr>\n      <th>10</th>\n      <td>11</td>\n      <td>F</td>\n      <td>BIFIN</td>\n      <td>50</td>\n    </tr>\n    <tr>\n      <th>11</th>\n      <td>12</td>\n      <td>M</td>\n      <td>BIFIN</td>\n      <td>50</td>\n    </tr>\n    <tr>\n      <th>12</th>\n      <td>14</td>\n      <td>F</td>\n      <td>SURFACE</td>\n      <td>50</td>\n    </tr>\n    <tr>\n      <th>13</th>\n      <td>15</td>\n      <td>M</td>\n      <td>SURFACE</td>\n      <td>50</td>\n    </tr>\n    <tr>\n      <th>14</th>\n      <td>16</td>\n      <td>F</td>\n      <td>SURFACE</td>\n      <td>1500</td>\n    </tr>\n    <tr>\n      <th>15</th>\n      <td>17</td>\n      <td>M</td>\n      <td>SURFACE</td>\n      <td>1500</td>\n    </tr>\n    <tr>\n      <th>16</th>\n      <td>18</td>\n      <td>F</td>\n      <td>IMMERSION</td>\n      <td>100</td>\n    </tr>\n    <tr>\n      <th>17</th>\n      <td>19</td>\n      <td>M</td>\n      <td>IMMERSION</td>\n      <td>100</td>\n    </tr>\n    <tr>\n      <th>18</th>\n      <td>20</td>\n      <td>F</td>\n      <td>SURFACE</td>\n      <td>200</td>\n    </tr>\n    <tr>\n      <th>19</th>\n      <td>21</td>\n      <td>M</td>\n      <td>SURFACE</td>\n      <td>200</td>\n    </tr>\n    <tr>\n      <th>20</th>\n      <td>22</td>\n      <td>F</td>\n      <td>IMMERSION</td>\n      <td>400</td>\n    </tr>\n    <tr>\n      <th>21</th>\n      <td>23</td>\n      <td>M</td>\n      <td>IMMERSION</td>\n      <td>400</td>\n    </tr>\n  </tbody>\n</table>\n</div>"
     },
     "execution_count": 19,
     "metadata": {},
     "output_type": "execute_result"
    }
   ],
   "source": [
    "headers = [\"ID\", \"Gender\", \"Style\", \"Distance\"]\n",
    "rows = []\n",
    "for event in root.xpath(\"//EVENT\"):\n",
    "    style = event.xpath(\"SWIMSTYLE\")[0]\n",
    "\n",
    "    #Kick out relays\n",
    "    if int(style.get(\"relaycount\")) > 1:\n",
    "        continue\n",
    "\n",
    "    rows.append([event.get(\"eventid\"), event.get(\"gender\"), style.get(\"stroke\"), style.get(\"distance\")])\n",
    "\n",
    "df_events = pd.DataFrame(rows, columns=headers)\n",
    "df_events"
   ],
   "metadata": {
    "collapsed": false,
    "ExecuteTime": {
     "start_time": "2023-04-07T18:22:22.437795Z",
     "end_time": "2023-04-07T18:22:22.462804Z"
    }
   }
  }
 ],
 "metadata": {
  "kernelspec": {
   "display_name": "Python 3",
   "language": "python",
   "name": "python3"
  },
  "language_info": {
   "codemirror_mode": {
    "name": "ipython",
    "version": 2
   },
   "file_extension": ".py",
   "mimetype": "text/x-python",
   "name": "python",
   "nbconvert_exporter": "python",
   "pygments_lexer": "ipython2",
   "version": "2.7.6"
  }
 },
 "nbformat": 4,
 "nbformat_minor": 0
}
