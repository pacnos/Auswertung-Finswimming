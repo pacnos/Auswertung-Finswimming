{
 "cells": [
  {
   "cell_type": "markdown",
   "source": [
    "# Grundlegende Infos\n",
    "\n",
    "**Aufgabe:**\n",
    "Einlesen von Ergebnissdateien im LENEX Format zur vereinfachten Auswertung der Sachsenliga\n",
    "\n",
    "**Eingabedateien:** LEF-Dateien"
   ],
   "metadata": {
    "collapsed": false
   }
  },
  {
   "cell_type": "markdown",
   "source": [
    "# Notwendige Imports & Einstellungen & Vorbereitung"
   ],
   "metadata": {
    "collapsed": false
   }
  },
  {
   "cell_type": "markdown",
   "source": [
    "## Imports"
   ],
   "metadata": {
    "collapsed": false
   }
  },
  {
   "cell_type": "code",
   "execution_count": 7,
   "metadata": {
    "collapsed": true,
    "ExecuteTime": {
     "start_time": "2023-04-10T10:14:26.217639Z",
     "end_time": "2023-04-10T10:14:26.220173Z"
    }
   },
   "outputs": [],
   "source": [
    "import pandas as pd\n",
    "from lxml import etree\n",
    "from datetime import datetime, timedelta, date"
   ]
  },
  {
   "cell_type": "markdown",
   "source": [
    "## Einstellungen"
   ],
   "metadata": {
    "collapsed": false
   }
  },
  {
   "cell_type": "code",
   "execution_count": 2,
   "outputs": [],
   "source": [
    "input_file = \"../data/230401-Zwickau-PR.lef\"\n",
    "region_code_sax = 20"
   ],
   "metadata": {
    "collapsed": false,
    "ExecuteTime": {
     "start_time": "2023-04-10T10:12:54.106568Z",
     "end_time": "2023-04-10T10:12:54.111391Z"
    }
   }
  },
  {
   "cell_type": "markdown",
   "source": [
    "## Benötigte Klassen"
   ],
   "metadata": {
    "collapsed": false
   }
  },
  {
   "cell_type": "code",
   "execution_count": 34,
   "outputs": [],
   "source": [
    "class Athlete:\n",
    "\n",
    "    def __init__(self, name, first_name, club, gender, birth_date):\n",
    "        self.name = name\n",
    "        self.first_name = first_name\n",
    "        self.club = club\n",
    "        self.birth_data = datetime.strptime(birth_date, \"%Y-%m-%d\")\n",
    "        self.gender = gender\n",
    "        self.results = {}\n",
    "\n",
    "    def get_birth_year(self):\n",
    "        pass\n",
    "\n",
    "class Result:\n",
    "\n",
    "    def __init__(self, event_id, swim_time):\n",
    "        self.event_id = int(event_id)\n",
    "        # Parse swim time\n",
    "        t = datetime.strptime(swim_time,\"%H:%M:%S.%f\")\n",
    "        self.time = timedelta(hours=t.hour, minutes=t.minute, seconds=t.second, microseconds=t.microsecond)\n",
    "        self.points = 0"
   ],
   "metadata": {
    "collapsed": false,
    "ExecuteTime": {
     "start_time": "2023-04-10T10:50:26.637821Z",
     "end_time": "2023-04-10T10:50:26.639679Z"
    }
   }
  },
  {
   "cell_type": "markdown",
   "source": [
    "## Einlesen der Datei"
   ],
   "metadata": {
    "collapsed": false
   }
  },
  {
   "cell_type": "code",
   "execution_count": 4,
   "outputs": [],
   "source": [
    "tree = etree.parse(input_file)\n",
    "root = tree.getroot()"
   ],
   "metadata": {
    "collapsed": false,
    "ExecuteTime": {
     "start_time": "2023-04-10T10:12:54.113811Z",
     "end_time": "2023-04-10T10:12:54.119101Z"
    }
   }
  },
  {
   "cell_type": "markdown",
   "source": [
    "## Übersicht über alle relevanten Vereine\n",
    "Darstellung aller Clubs, welche aus Sachsen kommen"
   ],
   "metadata": {
    "collapsed": false
   }
  },
  {
   "cell_type": "code",
   "execution_count": 5,
   "outputs": [
    {
     "data": {
      "text/plain": "                               Name\n0    1. Chemnitzer Tauchverein e.V.\n1   Landestauchsportverband Sachsen\n2  SC DHfK Leipzig Flossenschwimmen\n3   SC Riesa Sekt. Flossenschwimmen\n4                        SG Dresden\n5        Tauchclub NEMO Plauen e.V.\n6                 Tauchsport Döbeln\n7                      TC Delitzsch",
      "text/html": "<div>\n<style scoped>\n    .dataframe tbody tr th:only-of-type {\n        vertical-align: middle;\n    }\n\n    .dataframe tbody tr th {\n        vertical-align: top;\n    }\n\n    .dataframe thead th {\n        text-align: right;\n    }\n</style>\n<table border=\"1\" class=\"dataframe\">\n  <thead>\n    <tr style=\"text-align: right;\">\n      <th></th>\n      <th>Name</th>\n    </tr>\n  </thead>\n  <tbody>\n    <tr>\n      <th>0</th>\n      <td>1. Chemnitzer Tauchverein e.V.</td>\n    </tr>\n    <tr>\n      <th>1</th>\n      <td>Landestauchsportverband Sachsen</td>\n    </tr>\n    <tr>\n      <th>2</th>\n      <td>SC DHfK Leipzig Flossenschwimmen</td>\n    </tr>\n    <tr>\n      <th>3</th>\n      <td>SC Riesa Sekt. Flossenschwimmen</td>\n    </tr>\n    <tr>\n      <th>4</th>\n      <td>SG Dresden</td>\n    </tr>\n    <tr>\n      <th>5</th>\n      <td>Tauchclub NEMO Plauen e.V.</td>\n    </tr>\n    <tr>\n      <th>6</th>\n      <td>Tauchsport Döbeln</td>\n    </tr>\n    <tr>\n      <th>7</th>\n      <td>TC Delitzsch</td>\n    </tr>\n  </tbody>\n</table>\n</div>"
     },
     "execution_count": 5,
     "metadata": {},
     "output_type": "execute_result"
    }
   ],
   "source": [
    "headers = [\"Name\"]\n",
    "rows = []\n",
    "for club in root.xpath(\"//CLUB\"):\n",
    "    if int(club.get(\"region\")) != region_code_sax:\n",
    "        continue\n",
    "    rows.append([club.get(\"name\"), ])\n",
    "\n",
    "df_clubs = pd.DataFrame(rows, columns=headers)\n",
    "df_clubs"
   ],
   "metadata": {
    "collapsed": false,
    "ExecuteTime": {
     "start_time": "2023-04-10T10:12:54.120991Z",
     "end_time": "2023-04-10T10:12:54.147759Z"
    }
   }
  },
  {
   "cell_type": "markdown",
   "source": [
    "# Einlesen der angebotenen Strecken"
   ],
   "metadata": {
    "collapsed": false
   }
  },
  {
   "cell_type": "code",
   "execution_count": 6,
   "outputs": [
    {
     "data": {
      "text/plain": "   Gender      Style Distance\nID                           \n1       F    SURFACE      400\n2       M    SURFACE      400\n3       F  IMMERSION       50\n4       M  IMMERSION       50\n5       F      APNEA       50\n6       M      APNEA       50\n7       F    SURFACE      100\n8       M    SURFACE      100\n9       F    SURFACE      800\n10      M    SURFACE      800\n11      F      BIFIN       50\n12      M      BIFIN       50\n14      F    SURFACE       50\n15      M    SURFACE       50\n16      F    SURFACE     1500\n17      M    SURFACE     1500\n18      F  IMMERSION      100\n19      M  IMMERSION      100\n20      F    SURFACE      200\n21      M    SURFACE      200\n22      F  IMMERSION      400\n23      M  IMMERSION      400",
      "text/html": "<div>\n<style scoped>\n    .dataframe tbody tr th:only-of-type {\n        vertical-align: middle;\n    }\n\n    .dataframe tbody tr th {\n        vertical-align: top;\n    }\n\n    .dataframe thead th {\n        text-align: right;\n    }\n</style>\n<table border=\"1\" class=\"dataframe\">\n  <thead>\n    <tr style=\"text-align: right;\">\n      <th></th>\n      <th>Gender</th>\n      <th>Style</th>\n      <th>Distance</th>\n    </tr>\n    <tr>\n      <th>ID</th>\n      <th></th>\n      <th></th>\n      <th></th>\n    </tr>\n  </thead>\n  <tbody>\n    <tr>\n      <th>1</th>\n      <td>F</td>\n      <td>SURFACE</td>\n      <td>400</td>\n    </tr>\n    <tr>\n      <th>2</th>\n      <td>M</td>\n      <td>SURFACE</td>\n      <td>400</td>\n    </tr>\n    <tr>\n      <th>3</th>\n      <td>F</td>\n      <td>IMMERSION</td>\n      <td>50</td>\n    </tr>\n    <tr>\n      <th>4</th>\n      <td>M</td>\n      <td>IMMERSION</td>\n      <td>50</td>\n    </tr>\n    <tr>\n      <th>5</th>\n      <td>F</td>\n      <td>APNEA</td>\n      <td>50</td>\n    </tr>\n    <tr>\n      <th>6</th>\n      <td>M</td>\n      <td>APNEA</td>\n      <td>50</td>\n    </tr>\n    <tr>\n      <th>7</th>\n      <td>F</td>\n      <td>SURFACE</td>\n      <td>100</td>\n    </tr>\n    <tr>\n      <th>8</th>\n      <td>M</td>\n      <td>SURFACE</td>\n      <td>100</td>\n    </tr>\n    <tr>\n      <th>9</th>\n      <td>F</td>\n      <td>SURFACE</td>\n      <td>800</td>\n    </tr>\n    <tr>\n      <th>10</th>\n      <td>M</td>\n      <td>SURFACE</td>\n      <td>800</td>\n    </tr>\n    <tr>\n      <th>11</th>\n      <td>F</td>\n      <td>BIFIN</td>\n      <td>50</td>\n    </tr>\n    <tr>\n      <th>12</th>\n      <td>M</td>\n      <td>BIFIN</td>\n      <td>50</td>\n    </tr>\n    <tr>\n      <th>14</th>\n      <td>F</td>\n      <td>SURFACE</td>\n      <td>50</td>\n    </tr>\n    <tr>\n      <th>15</th>\n      <td>M</td>\n      <td>SURFACE</td>\n      <td>50</td>\n    </tr>\n    <tr>\n      <th>16</th>\n      <td>F</td>\n      <td>SURFACE</td>\n      <td>1500</td>\n    </tr>\n    <tr>\n      <th>17</th>\n      <td>M</td>\n      <td>SURFACE</td>\n      <td>1500</td>\n    </tr>\n    <tr>\n      <th>18</th>\n      <td>F</td>\n      <td>IMMERSION</td>\n      <td>100</td>\n    </tr>\n    <tr>\n      <th>19</th>\n      <td>M</td>\n      <td>IMMERSION</td>\n      <td>100</td>\n    </tr>\n    <tr>\n      <th>20</th>\n      <td>F</td>\n      <td>SURFACE</td>\n      <td>200</td>\n    </tr>\n    <tr>\n      <th>21</th>\n      <td>M</td>\n      <td>SURFACE</td>\n      <td>200</td>\n    </tr>\n    <tr>\n      <th>22</th>\n      <td>F</td>\n      <td>IMMERSION</td>\n      <td>400</td>\n    </tr>\n    <tr>\n      <th>23</th>\n      <td>M</td>\n      <td>IMMERSION</td>\n      <td>400</td>\n    </tr>\n  </tbody>\n</table>\n</div>"
     },
     "execution_count": 6,
     "metadata": {},
     "output_type": "execute_result"
    }
   ],
   "source": [
    "headers = [\"ID\", \"Gender\", \"Style\", \"Distance\"]\n",
    "rows = []\n",
    "for event in root.xpath(\"//EVENT\"):\n",
    "    style = event.xpath(\"SWIMSTYLE\")[0]\n",
    "\n",
    "    #Kick out relays\n",
    "    if int(style.get(\"relaycount\")) > 1:\n",
    "        continue\n",
    "\n",
    "    rows.append([event.get(\"eventid\"), event.get(\"gender\"), style.get(\"stroke\"), style.get(\"distance\")])\n",
    "\n",
    "df_events = pd.DataFrame(rows, columns=headers)\n",
    "df_events = df_events.set_index([\"ID\",])\n",
    "df_events"
   ],
   "metadata": {
    "collapsed": false,
    "ExecuteTime": {
     "start_time": "2023-04-10T10:12:54.133196Z",
     "end_time": "2023-04-10T10:12:54.148168Z"
    }
   }
  },
  {
   "cell_type": "markdown",
   "source": [
    "# Einlesen der relevanten Athleten + Ergebnisse"
   ],
   "metadata": {
    "collapsed": false
   }
  },
  {
   "cell_type": "code",
   "execution_count": 33,
   "outputs": [
    {
     "name": "stdout",
     "output_type": "stream",
     "text": [
      "Es wurden 115 Athleten eingelesen\n"
     ]
    }
   ],
   "source": [
    "athletes = []\n",
    "\n",
    "for athlete_obj in root.xpath(\"//ATHLETE\"):\n",
    "    # Kick out athletes which are not part of the right club\n",
    "    club_region_id = athlete_obj.xpath('./ancestor::CLUB/@region')\n",
    "\n",
    "    if int(club_region_id[0]) != region_code_sax:\n",
    "        continue\n",
    "\n",
    "    # Create the athlete\n",
    "    club = athlete_obj.xpath('./ancestor::CLUB/@name')[0]\n",
    "    athlete = Athlete(athlete_obj.get(\"lastname\"), athlete_obj.get(\"firstname\"), club, athlete_obj.get(\"gender\"), athlete_obj.get(\"birthdate\"))\n",
    "\n",
    "\n",
    "    # Read the results\n",
    "    for result_obj in athlete_obj.xpath(\"RESULTS/RESULT\"):\n",
    "        event_id = int(result_obj.get(\"eventid\"))\n",
    "        result = Result(event_id, result_obj.get(\"swimtime\"))\n",
    "\n",
    "        athlete.results[event_id] = result\n",
    "\n",
    "    # Add the finished athlete object to the list\n",
    "    athletes.append(athlete)\n",
    "\n",
    "# Ausgabe Ergebnis\n",
    "print(\"Es wurden %d Athleten eingelesen\" % len(athletes))"
   ],
   "metadata": {
    "collapsed": false,
    "ExecuteTime": {
     "start_time": "2023-04-10T10:49:26.994019Z",
     "end_time": "2023-04-10T10:49:27.005388Z"
    }
   }
  },
  {
   "cell_type": "markdown",
   "source": [
    "# Auswerten nach Events"
   ],
   "metadata": {
    "collapsed": false
   }
  }
 ],
 "metadata": {
  "kernelspec": {
   "display_name": "Python 3",
   "language": "python",
   "name": "python3"
  },
  "language_info": {
   "codemirror_mode": {
    "name": "ipython",
    "version": 2
   },
   "file_extension": ".py",
   "mimetype": "text/x-python",
   "name": "python",
   "nbconvert_exporter": "python",
   "pygments_lexer": "ipython2",
   "version": "2.7.6"
  }
 },
 "nbformat": 4,
 "nbformat_minor": 0
}
