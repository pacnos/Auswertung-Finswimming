{
 "cells": [
  {
   "cell_type": "markdown",
   "source": [
    "# Grundlegende Infos\n",
    "\n",
    "**Aufgabe:**\n",
    "Einlesen von Ergebnissdateien im LENEX Format zur vereinfachten Auswertung der Sachsenliga\n",
    "\n",
    "**Eingabedateien:** LEF-Dateien"
   ],
   "metadata": {
    "collapsed": false
   }
  },
  {
   "cell_type": "markdown",
   "source": [
    "# Notwendige Imports & Vorbereitung"
   ],
   "metadata": {
    "collapsed": false
   }
  },
  {
   "cell_type": "markdown",
   "source": [
    "## Imports"
   ],
   "metadata": {
    "collapsed": false
   }
  },
  {
   "cell_type": "code",
   "execution_count": 68,
   "metadata": {
    "collapsed": true,
    "ExecuteTime": {
     "start_time": "2023-04-10T13:10:17.765100Z",
     "end_time": "2023-04-10T13:10:17.769248Z"
    }
   },
   "outputs": [],
   "source": [
    "import pandas as pd\n",
    "import numpy as np\n",
    "from lxml import etree\n",
    "from datetime import datetime, timedelta, date"
   ]
  },
  {
   "cell_type": "markdown",
   "source": [
    "## Benötigte Klassen"
   ],
   "metadata": {
    "collapsed": false
   }
  },
  {
   "cell_type": "code",
   "execution_count": 204,
   "outputs": [],
   "source": [
    "class Athlete:\n",
    "\n",
    "    def __init__(self, id, name, first_name, club, gender, birth_date):\n",
    "        self.id = int(id)\n",
    "        self.name = name\n",
    "        self.first_name = first_name\n",
    "        self.club = club\n",
    "        self.birth_date = datetime.strptime(birth_date, \"%Y-%m-%d\")\n",
    "        self.gender = gender\n",
    "        self.category = None\n",
    "        self.results = {}\n",
    "\n",
    "    def get_birth_year(self):\n",
    "        pass\n",
    "\n",
    "class Result:\n",
    "\n",
    "    def __init__(self, event_id, swim_time):\n",
    "        self.event_id = int(event_id)\n",
    "        # Parse swim time\n",
    "        t = datetime.strptime(swim_time,\"%H:%M:%S.%f\")\n",
    "        self.time = timedelta(hours=t.hour, minutes=t.minute, seconds=t.second, microseconds=t.microsecond)\n",
    "        self.points = 0\n",
    "\n",
    "    def get_time(self):\n",
    "        return self.time.total_seconds()"
   ],
   "metadata": {
    "collapsed": false,
    "ExecuteTime": {
     "start_time": "2023-04-10T17:34:31.808334Z",
     "end_time": "2023-04-10T17:34:31.809224Z"
    }
   }
  },
  {
   "cell_type": "markdown",
   "source": [
    "# Einstellungen"
   ],
   "metadata": {
    "collapsed": false
   }
  },
  {
   "cell_type": "markdown",
   "source": [
    "## Region"
   ],
   "metadata": {
    "collapsed": false
   }
  },
  {
   "cell_type": "code",
   "execution_count": 37,
   "outputs": [],
   "source": [
    "region_code_sax = 20"
   ],
   "metadata": {
    "collapsed": false,
    "ExecuteTime": {
     "start_time": "2023-04-10T11:20:38.050493Z",
     "end_time": "2023-04-10T11:20:38.054170Z"
    }
   }
  },
  {
   "cell_type": "markdown",
   "source": [
    "## Eingabedatei"
   ],
   "metadata": {
    "collapsed": false
   }
  },
  {
   "cell_type": "code",
   "execution_count": 38,
   "outputs": [],
   "source": [
    "input_file = \"../data/230401-Zwickau-PR.lef\"\n",
    "tree = etree.parse(input_file)\n",
    "root = tree.getroot()"
   ],
   "metadata": {
    "collapsed": false,
    "ExecuteTime": {
     "start_time": "2023-04-10T11:20:43.013873Z",
     "end_time": "2023-04-10T11:20:43.020565Z"
    }
   }
  },
  {
   "cell_type": "markdown",
   "source": [
    "## Kategorien"
   ],
   "metadata": {
    "collapsed": false
   }
  },
  {
   "cell_type": "code",
   "execution_count": 39,
   "outputs": [],
   "source": [
    "categories = {\n",
    "    \"2006 & 2007\": [2006, 2007],\n",
    "    \"2008 & 2009\": [2008, 2009],\n",
    "    \"2010 & 2011\": [2010, 2011],\n",
    "    \"2012 & 2013\": [2012, 2013],\n",
    "    \"2014 & jünger\": [2014, 2023],\n",
    "}"
   ],
   "metadata": {
    "collapsed": false,
    "ExecuteTime": {
     "start_time": "2023-04-10T11:24:40.871208Z",
     "end_time": "2023-04-10T11:24:40.872709Z"
    }
   }
  },
  {
   "cell_type": "markdown",
   "source": [
    "## Punkte"
   ],
   "metadata": {
    "collapsed": false
   }
  },
  {
   "cell_type": "code",
   "execution_count": 73,
   "outputs": [],
   "source": [
    "points = {\n",
    "    1: 50,\n",
    "    2: 46,\n",
    "    3: 42,\n",
    "    4: 39,\n",
    "    5: 36,\n",
    "    6: 33,\n",
    "    7: 30,\n",
    "    8: 27,\n",
    "    9: 24,\n",
    "    10: 22,\n",
    "    11: 20,\n",
    "    12: 18,\n",
    "    13: 16,\n",
    "    14: 14,\n",
    "    15: 12,\n",
    "    16: 10,\n",
    "    17: 8,\n",
    "    18: 7,\n",
    "    19: 6,\n",
    "    20: 5,\n",
    "    21: 4,\n",
    "    22: 3,\n",
    "    23: 2,\n",
    "    24: 1\n",
    "}\n",
    "\n",
    "def convert_place_to_points(place):\n",
    "    if place in points:\n",
    "        return points[place]\n",
    "    else:\n",
    "        return 1"
   ],
   "metadata": {
    "collapsed": false,
    "ExecuteTime": {
     "start_time": "2023-04-10T13:18:11.245677Z",
     "end_time": "2023-04-10T13:18:11.249622Z"
    }
   }
  },
  {
   "cell_type": "markdown",
   "source": [
    "## Übersicht über alle relevanten Vereine\n",
    "Darstellung aller Clubs, welche aus Sachsen kommen"
   ],
   "metadata": {
    "collapsed": false
   }
  },
  {
   "cell_type": "code",
   "execution_count": 5,
   "outputs": [
    {
     "data": {
      "text/plain": "                               Name\n0    1. Chemnitzer Tauchverein e.V.\n1   Landestauchsportverband Sachsen\n2  SC DHfK Leipzig Flossenschwimmen\n3   SC Riesa Sekt. Flossenschwimmen\n4                        SG Dresden\n5        Tauchclub NEMO Plauen e.V.\n6                 Tauchsport Döbeln\n7                      TC Delitzsch",
      "text/html": "<div>\n<style scoped>\n    .dataframe tbody tr th:only-of-type {\n        vertical-align: middle;\n    }\n\n    .dataframe tbody tr th {\n        vertical-align: top;\n    }\n\n    .dataframe thead th {\n        text-align: right;\n    }\n</style>\n<table border=\"1\" class=\"dataframe\">\n  <thead>\n    <tr style=\"text-align: right;\">\n      <th></th>\n      <th>Name</th>\n    </tr>\n  </thead>\n  <tbody>\n    <tr>\n      <th>0</th>\n      <td>1. Chemnitzer Tauchverein e.V.</td>\n    </tr>\n    <tr>\n      <th>1</th>\n      <td>Landestauchsportverband Sachsen</td>\n    </tr>\n    <tr>\n      <th>2</th>\n      <td>SC DHfK Leipzig Flossenschwimmen</td>\n    </tr>\n    <tr>\n      <th>3</th>\n      <td>SC Riesa Sekt. Flossenschwimmen</td>\n    </tr>\n    <tr>\n      <th>4</th>\n      <td>SG Dresden</td>\n    </tr>\n    <tr>\n      <th>5</th>\n      <td>Tauchclub NEMO Plauen e.V.</td>\n    </tr>\n    <tr>\n      <th>6</th>\n      <td>Tauchsport Döbeln</td>\n    </tr>\n    <tr>\n      <th>7</th>\n      <td>TC Delitzsch</td>\n    </tr>\n  </tbody>\n</table>\n</div>"
     },
     "execution_count": 5,
     "metadata": {},
     "output_type": "execute_result"
    }
   ],
   "source": [
    "headers = [\"Name\"]\n",
    "rows = []\n",
    "for club in root.xpath(\"//CLUB\"):\n",
    "    if int(club.get(\"region\")) != region_code_sax:\n",
    "        continue\n",
    "    rows.append([club.get(\"name\"), ])\n",
    "\n",
    "df_clubs = pd.DataFrame(rows, columns=headers)\n",
    "df_clubs"
   ],
   "metadata": {
    "collapsed": false,
    "ExecuteTime": {
     "start_time": "2023-04-10T10:12:54.120991Z",
     "end_time": "2023-04-10T10:12:54.147759Z"
    }
   }
  },
  {
   "cell_type": "markdown",
   "source": [
    "## Übersicht der angebotenen Strecken\n",
    "Darstellung aller Strecken, welche für die Auswertung relevant sind (Alles außer Staffeln)"
   ],
   "metadata": {
    "collapsed": false
   }
  },
  {
   "cell_type": "code",
   "execution_count": 120,
   "outputs": [
    {
     "data": {
      "text/plain": "   Gender      Style Distance\nID                           \n1       F    SURFACE      400\n2       M    SURFACE      400\n3       F  IMMERSION       50\n4       M  IMMERSION       50\n5       F      APNEA       50\n6       M      APNEA       50\n7       F    SURFACE      100\n8       M    SURFACE      100\n9       F    SURFACE      800\n10      M    SURFACE      800\n11      F      BIFIN       50\n12      M      BIFIN       50\n14      F    SURFACE       50\n15      M    SURFACE       50\n16      F    SURFACE     1500\n17      M    SURFACE     1500\n18      F  IMMERSION      100\n19      M  IMMERSION      100\n20      F    SURFACE      200\n21      M    SURFACE      200\n22      F  IMMERSION      400\n23      M  IMMERSION      400",
      "text/html": "<div>\n<style scoped>\n    .dataframe tbody tr th:only-of-type {\n        vertical-align: middle;\n    }\n\n    .dataframe tbody tr th {\n        vertical-align: top;\n    }\n\n    .dataframe thead th {\n        text-align: right;\n    }\n</style>\n<table border=\"1\" class=\"dataframe\">\n  <thead>\n    <tr style=\"text-align: right;\">\n      <th></th>\n      <th>Gender</th>\n      <th>Style</th>\n      <th>Distance</th>\n    </tr>\n    <tr>\n      <th>ID</th>\n      <th></th>\n      <th></th>\n      <th></th>\n    </tr>\n  </thead>\n  <tbody>\n    <tr>\n      <th>1</th>\n      <td>F</td>\n      <td>SURFACE</td>\n      <td>400</td>\n    </tr>\n    <tr>\n      <th>2</th>\n      <td>M</td>\n      <td>SURFACE</td>\n      <td>400</td>\n    </tr>\n    <tr>\n      <th>3</th>\n      <td>F</td>\n      <td>IMMERSION</td>\n      <td>50</td>\n    </tr>\n    <tr>\n      <th>4</th>\n      <td>M</td>\n      <td>IMMERSION</td>\n      <td>50</td>\n    </tr>\n    <tr>\n      <th>5</th>\n      <td>F</td>\n      <td>APNEA</td>\n      <td>50</td>\n    </tr>\n    <tr>\n      <th>6</th>\n      <td>M</td>\n      <td>APNEA</td>\n      <td>50</td>\n    </tr>\n    <tr>\n      <th>7</th>\n      <td>F</td>\n      <td>SURFACE</td>\n      <td>100</td>\n    </tr>\n    <tr>\n      <th>8</th>\n      <td>M</td>\n      <td>SURFACE</td>\n      <td>100</td>\n    </tr>\n    <tr>\n      <th>9</th>\n      <td>F</td>\n      <td>SURFACE</td>\n      <td>800</td>\n    </tr>\n    <tr>\n      <th>10</th>\n      <td>M</td>\n      <td>SURFACE</td>\n      <td>800</td>\n    </tr>\n    <tr>\n      <th>11</th>\n      <td>F</td>\n      <td>BIFIN</td>\n      <td>50</td>\n    </tr>\n    <tr>\n      <th>12</th>\n      <td>M</td>\n      <td>BIFIN</td>\n      <td>50</td>\n    </tr>\n    <tr>\n      <th>14</th>\n      <td>F</td>\n      <td>SURFACE</td>\n      <td>50</td>\n    </tr>\n    <tr>\n      <th>15</th>\n      <td>M</td>\n      <td>SURFACE</td>\n      <td>50</td>\n    </tr>\n    <tr>\n      <th>16</th>\n      <td>F</td>\n      <td>SURFACE</td>\n      <td>1500</td>\n    </tr>\n    <tr>\n      <th>17</th>\n      <td>M</td>\n      <td>SURFACE</td>\n      <td>1500</td>\n    </tr>\n    <tr>\n      <th>18</th>\n      <td>F</td>\n      <td>IMMERSION</td>\n      <td>100</td>\n    </tr>\n    <tr>\n      <th>19</th>\n      <td>M</td>\n      <td>IMMERSION</td>\n      <td>100</td>\n    </tr>\n    <tr>\n      <th>20</th>\n      <td>F</td>\n      <td>SURFACE</td>\n      <td>200</td>\n    </tr>\n    <tr>\n      <th>21</th>\n      <td>M</td>\n      <td>SURFACE</td>\n      <td>200</td>\n    </tr>\n    <tr>\n      <th>22</th>\n      <td>F</td>\n      <td>IMMERSION</td>\n      <td>400</td>\n    </tr>\n    <tr>\n      <th>23</th>\n      <td>M</td>\n      <td>IMMERSION</td>\n      <td>400</td>\n    </tr>\n  </tbody>\n</table>\n</div>"
     },
     "execution_count": 120,
     "metadata": {},
     "output_type": "execute_result"
    }
   ],
   "source": [
    "headers = [\"ID\", \"Gender\", \"Style\", \"Distance\"]\n",
    "rows = []\n",
    "for event in root.xpath(\"//EVENT\"):\n",
    "    style = event.xpath(\"SWIMSTYLE\")[0]\n",
    "\n",
    "    #Kick out relays\n",
    "    if int(style.get(\"relaycount\")) > 1:\n",
    "        continue\n",
    "\n",
    "    rows.append([event.get(\"eventid\"), event.get(\"gender\"), style.get(\"stroke\"), style.get(\"distance\")])\n",
    "\n",
    "df_events = pd.DataFrame(rows, columns=headers)\n",
    "df_events = df_events.set_index([\"ID\",])\n",
    "df_events.sort_index()\n",
    "df_events"
   ],
   "metadata": {
    "collapsed": false,
    "ExecuteTime": {
     "start_time": "2023-04-10T16:04:27.631003Z",
     "end_time": "2023-04-10T16:04:27.647659Z"
    }
   }
  },
  {
   "cell_type": "markdown",
   "source": [
    "# Einlesen der relevanten Athleten + Ergebnisse"
   ],
   "metadata": {
    "collapsed": false
   }
  },
  {
   "cell_type": "code",
   "execution_count": 205,
   "outputs": [
    {
     "name": "stdout",
     "output_type": "stream",
     "text": [
      "Es wurden 115 Athleten eingelesen\n"
     ]
    }
   ],
   "source": [
    "athletes = {}\n",
    "\n",
    "for athlete_obj in root.xpath(\"//ATHLETE\"):\n",
    "    # Kick out athletes which are not part of the right club\n",
    "    club_region_id = athlete_obj.xpath('./ancestor::CLUB/@region')\n",
    "\n",
    "    if int(club_region_id[0]) != region_code_sax:\n",
    "        continue\n",
    "\n",
    "    # Create the athlete\n",
    "    club = athlete_obj.xpath('./ancestor::CLUB/@name')[0]\n",
    "    athlete = Athlete(athlete_obj.get(\"athleteid\"), athlete_obj.get(\"lastname\"), athlete_obj.get(\"firstname\"), club, athlete_obj.get(\"gender\"), athlete_obj.get(\"birthdate\"))\n",
    "\n",
    "\n",
    "    # Read the results\n",
    "    for result_obj in athlete_obj.xpath(\"RESULTS/RESULT\"):\n",
    "        event_id = int(result_obj.get(\"eventid\"))\n",
    "\n",
    "        # Kick out not finished results\n",
    "        if result_obj.get(\"status\") is not None:\n",
    "            continue\n",
    "\n",
    "        result = Result(event_id, result_obj.get(\"swimtime\"))\n",
    "\n",
    "        athlete.results[event_id] = result\n",
    "\n",
    "    # Add the finished athlete object to the list\n",
    "    athletes[athlete.id] = athlete\n",
    "\n",
    "# Ausgabe Ergebnis\n",
    "print(\"Es wurden %d Athleten eingelesen\" % len(athletes))"
   ],
   "metadata": {
    "collapsed": false,
    "ExecuteTime": {
     "start_time": "2023-04-10T17:34:45.049188Z",
     "end_time": "2023-04-10T17:34:45.070203Z"
    }
   }
  },
  {
   "cell_type": "markdown",
   "source": [
    "# Auswertung"
   ],
   "metadata": {
    "collapsed": false
   }
  },
  {
   "cell_type": "markdown",
   "source": [
    "## Berechnung der Ergebnisse"
   ],
   "metadata": {
    "collapsed": false
   }
  },
  {
   "cell_type": "code",
   "execution_count": 207,
   "outputs": [],
   "source": [
    "def calculate_points_for_event(event_id: int, category):\n",
    "    # Basic definition\n",
    "    headers = [\"ID\", \"Vorname\", \"Nachname\", \"Zeit\"]\n",
    "    rows = []\n",
    "\n",
    "    # Iterate through athletes\n",
    "    for athlete_id, athlete in athletes.items():\n",
    "        # Check for age & add category\n",
    "        if not(categories[category][0] <= athlete.birth_date.year <= categories[category][1]):\n",
    "            continue\n",
    "\n",
    "        athlete.category = category\n",
    "\n",
    "        # Check for event id\n",
    "        if event_id not in athlete.results:\n",
    "            continue\n",
    "\n",
    "        row = [athlete.id, athlete.first_name, athlete.name, athlete.results[event_id].get_time()]\n",
    "        rows.append(row)\n",
    "\n",
    "    # Create the dataframe\n",
    "    df_event_results = pd.DataFrame(data=rows, columns=headers)\n",
    "\n",
    "    # Sort the dataframe\n",
    "    df_event_results.sort_values(by=\"Zeit\", inplace=True)\n",
    "\n",
    "    # Determine the place\n",
    "    df_event_results[\"place\"] = np.arange(1, len(df_event_results)+1)\n",
    "\n",
    "    # Convert the place to points\n",
    "    df_event_results[\"points\"] = df_event_results[\"place\"].apply(convert_place_to_points)\n",
    "\n",
    "    # Write back the points\n",
    "    for index, row in df_event_results.iterrows():\n",
    "        athletes[row[\"ID\"]].results[event_id].points = row[\"points\"]\n",
    "\n",
    "# Iterate through events\n",
    "for event_index, event_row in df_events.iterrows():\n",
    "    # Iterate through categories\n",
    "    for cat_key, cat_item in categories.items():\n",
    "        calculate_points_for_event(int(event_index), cat_key)\n"
   ],
   "metadata": {
    "collapsed": false,
    "ExecuteTime": {
     "start_time": "2023-04-10T17:35:50.625558Z",
     "end_time": "2023-04-10T17:35:50.686302Z"
    }
   }
  },
  {
   "cell_type": "markdown",
   "source": [
    "## Zusammenbauen der Ergebnis-Tabelle"
   ],
   "metadata": {
    "collapsed": false
   }
  },
  {
   "cell_type": "markdown",
   "source": [
    "## Header"
   ],
   "metadata": {
    "collapsed": false
   }
  },
  {
   "cell_type": "code",
   "execution_count": 208,
   "outputs": [],
   "source": [
    "#Headers\n",
    "headers_f = [\"Vorname\", \"Nachname\", \"Geb. Jahr\", \"Verein\", \"Altersklasse\"]\n",
    "headers_m = [\"Vorname\", \"Nachname\", \"Geb. Jahr\", \"Verein\", \"Altersklasse\"]\n",
    "for event_index, event_row in df_events.iterrows():\n",
    "    if event_row[\"Gender\"] == \"F\":\n",
    "        headers_f.append(\"%s %s\" % (event_row[\"Distance\"], event_row[\"Style\"]))\n",
    "    else:\n",
    "        headers_m.append(\"%s %s\" % (event_row[\"Distance\"], event_row[\"Style\"]))"
   ],
   "metadata": {
    "collapsed": false,
    "ExecuteTime": {
     "start_time": "2023-04-10T17:36:12.271997Z",
     "end_time": "2023-04-10T17:36:12.274749Z"
    }
   }
  },
  {
   "cell_type": "markdown",
   "source": [
    "## Athleten"
   ],
   "metadata": {
    "collapsed": false
   }
  },
  {
   "cell_type": "code",
   "execution_count": 209,
   "outputs": [],
   "source": [
    "def get_rows_for_gender(gender):\n",
    "    rows = {}\n",
    "    for event_index, event_row in df_events.iterrows():\n",
    "\n",
    "        # Select for gender\n",
    "        if event_row[\"Gender\"] != gender:\n",
    "            continue\n",
    "\n",
    "        for athlete_id, athlete in athletes.items():\n",
    "\n",
    "            # Handle only athletes of specific gender\n",
    "            if athlete.gender != gender:\n",
    "                continue\n",
    "\n",
    "            # Check if athlete exists\n",
    "            if athlete_id not in rows:\n",
    "                rows[athlete_id] = [athlete.first_name, athlete.name, athlete.birth_date.year, athlete.club, athlete.category]\n",
    "\n",
    "            if int(event_index) in athlete.results:\n",
    "                rows[athlete_id].append(athlete.results[int(event_index)].points)\n",
    "            else:\n",
    "                rows[athlete_id].append(0)\n",
    "\n",
    "    return rows\n",
    "\n",
    "rows_f = get_rows_for_gender(\"F\")\n",
    "rows_m = get_rows_for_gender(\"M\")"
   ],
   "metadata": {
    "collapsed": false,
    "ExecuteTime": {
     "start_time": "2023-04-10T17:36:31.274315Z",
     "end_time": "2023-04-10T17:36:31.275612Z"
    }
   }
  },
  {
   "cell_type": "markdown",
   "source": [
    "## Berechnung der Punkte je Zeile"
   ],
   "metadata": {
    "collapsed": false
   }
  },
  {
   "cell_type": "code",
   "execution_count": 212,
   "outputs": [],
   "source": [
    "def calc_points_per_athlete(row):\n",
    "    # Remove Name columns\n",
    "    row = row.tail(-5)\n",
    "    # Convert to numbers\n",
    "    row = pd.to_numeric(row)\n",
    "    # Get the 3 largest numbers\n",
    "    row = row.nlargest(3)\n",
    "    # Create the sum\n",
    "    sum = row.sum()\n",
    "\n",
    "    return sum"
   ],
   "metadata": {
    "collapsed": false,
    "ExecuteTime": {
     "start_time": "2023-04-10T17:36:50.376734Z",
     "end_time": "2023-04-10T17:36:50.378588Z"
    }
   }
  },
  {
   "cell_type": "markdown",
   "source": [
    "## Ergebnisse Weiblich"
   ],
   "metadata": {
    "collapsed": false
   }
  },
  {
   "cell_type": "code",
   "execution_count": 220,
   "outputs": [
    {
     "data": {
      "text/plain": "               Vorname   Nachname  Geb. Jahr   \n169  Leonie-Florentine      Holtz       2007  \\\n111    Johanna Hermine    Ullrich       2007   \n272              Lotte  Marquardt       2007   \n275          Josephine    Neumann       2006   \n14             Johanna    Elenkow       2006   \n..                 ...        ...        ...   \n291              Lotte   Klabunde       2002   \n124              Julia  Prochaska       2003   \n130              Petra    Saliger       1964   \n131             Renate     Reuter       1953   \n148                Jil   Gusmanov       1999   \n\n                               Verein Altersklasse  400 SURFACE  50 IMMERSION   \n169  SC DHfK Leipzig Flossenschwimmen  2006 & 2007           50             0  \\\n111    1. Chemnitzer Tauchverein e.V.  2006 & 2007            0             0   \n272                        SG Dresden  2006 & 2007            0             0   \n275                        SG Dresden  2006 & 2007            0             0   \n14                  Tauchsport Döbeln  2006 & 2007            0             0   \n..                                ...          ...          ...           ...   \n291                        SG Dresden         None            0             0   \n124        Tauchclub NEMO Plauen e.V.         None            0             0   \n130        Tauchclub NEMO Plauen e.V.         None            0             0   \n131        Tauchclub NEMO Plauen e.V.         None            0             0   \n148                      TC Delitzsch         None            0             0   \n\n     50 APNEA  100 SURFACE  800 SURFACE  50 BIFIN  50 SURFACE  1500 SURFACE   \n169         0            0            0         0          50             0  \\\n111        50            0           50         0           0             0   \n272        46           50            0         0          46             0   \n275        42           46            0         0          42             0   \n14         33           42            0         0          39             0   \n..        ...          ...          ...       ...         ...           ...   \n291         0            0            0         0           0             0   \n124         0            0            0         0           0             0   \n130         0            0            0         0           0             0   \n131         0            0            0         0           0             0   \n148         0            0            0         0           0             0   \n\n     100 IMMERSION  200 SURFACE  400 IMMERSION  Summe  \n169             50            0              0    150  \n111             46            0              0    146  \n272             42            0              0    142  \n275              0           50              0    138  \n14               0           46              0    127  \n..             ...          ...            ...    ...  \n291              0            0              0      0  \n124              0            0              0      0  \n130              0            0              0      0  \n131              0            0              0      0  \n148              0            0              0      0  \n\n[63 rows x 17 columns]",
      "text/html": "<div>\n<style scoped>\n    .dataframe tbody tr th:only-of-type {\n        vertical-align: middle;\n    }\n\n    .dataframe tbody tr th {\n        vertical-align: top;\n    }\n\n    .dataframe thead th {\n        text-align: right;\n    }\n</style>\n<table border=\"1\" class=\"dataframe\">\n  <thead>\n    <tr style=\"text-align: right;\">\n      <th></th>\n      <th>Vorname</th>\n      <th>Nachname</th>\n      <th>Geb. Jahr</th>\n      <th>Verein</th>\n      <th>Altersklasse</th>\n      <th>400 SURFACE</th>\n      <th>50 IMMERSION</th>\n      <th>50 APNEA</th>\n      <th>100 SURFACE</th>\n      <th>800 SURFACE</th>\n      <th>50 BIFIN</th>\n      <th>50 SURFACE</th>\n      <th>1500 SURFACE</th>\n      <th>100 IMMERSION</th>\n      <th>200 SURFACE</th>\n      <th>400 IMMERSION</th>\n      <th>Summe</th>\n    </tr>\n  </thead>\n  <tbody>\n    <tr>\n      <th>169</th>\n      <td>Leonie-Florentine</td>\n      <td>Holtz</td>\n      <td>2007</td>\n      <td>SC DHfK Leipzig Flossenschwimmen</td>\n      <td>2006 &amp; 2007</td>\n      <td>50</td>\n      <td>0</td>\n      <td>0</td>\n      <td>0</td>\n      <td>0</td>\n      <td>0</td>\n      <td>50</td>\n      <td>0</td>\n      <td>50</td>\n      <td>0</td>\n      <td>0</td>\n      <td>150</td>\n    </tr>\n    <tr>\n      <th>111</th>\n      <td>Johanna Hermine</td>\n      <td>Ullrich</td>\n      <td>2007</td>\n      <td>1. Chemnitzer Tauchverein e.V.</td>\n      <td>2006 &amp; 2007</td>\n      <td>0</td>\n      <td>0</td>\n      <td>50</td>\n      <td>0</td>\n      <td>50</td>\n      <td>0</td>\n      <td>0</td>\n      <td>0</td>\n      <td>46</td>\n      <td>0</td>\n      <td>0</td>\n      <td>146</td>\n    </tr>\n    <tr>\n      <th>272</th>\n      <td>Lotte</td>\n      <td>Marquardt</td>\n      <td>2007</td>\n      <td>SG Dresden</td>\n      <td>2006 &amp; 2007</td>\n      <td>0</td>\n      <td>0</td>\n      <td>46</td>\n      <td>50</td>\n      <td>0</td>\n      <td>0</td>\n      <td>46</td>\n      <td>0</td>\n      <td>42</td>\n      <td>0</td>\n      <td>0</td>\n      <td>142</td>\n    </tr>\n    <tr>\n      <th>275</th>\n      <td>Josephine</td>\n      <td>Neumann</td>\n      <td>2006</td>\n      <td>SG Dresden</td>\n      <td>2006 &amp; 2007</td>\n      <td>0</td>\n      <td>0</td>\n      <td>42</td>\n      <td>46</td>\n      <td>0</td>\n      <td>0</td>\n      <td>42</td>\n      <td>0</td>\n      <td>0</td>\n      <td>50</td>\n      <td>0</td>\n      <td>138</td>\n    </tr>\n    <tr>\n      <th>14</th>\n      <td>Johanna</td>\n      <td>Elenkow</td>\n      <td>2006</td>\n      <td>Tauchsport Döbeln</td>\n      <td>2006 &amp; 2007</td>\n      <td>0</td>\n      <td>0</td>\n      <td>33</td>\n      <td>42</td>\n      <td>0</td>\n      <td>0</td>\n      <td>39</td>\n      <td>0</td>\n      <td>0</td>\n      <td>46</td>\n      <td>0</td>\n      <td>127</td>\n    </tr>\n    <tr>\n      <th>...</th>\n      <td>...</td>\n      <td>...</td>\n      <td>...</td>\n      <td>...</td>\n      <td>...</td>\n      <td>...</td>\n      <td>...</td>\n      <td>...</td>\n      <td>...</td>\n      <td>...</td>\n      <td>...</td>\n      <td>...</td>\n      <td>...</td>\n      <td>...</td>\n      <td>...</td>\n      <td>...</td>\n      <td>...</td>\n    </tr>\n    <tr>\n      <th>291</th>\n      <td>Lotte</td>\n      <td>Klabunde</td>\n      <td>2002</td>\n      <td>SG Dresden</td>\n      <td>None</td>\n      <td>0</td>\n      <td>0</td>\n      <td>0</td>\n      <td>0</td>\n      <td>0</td>\n      <td>0</td>\n      <td>0</td>\n      <td>0</td>\n      <td>0</td>\n      <td>0</td>\n      <td>0</td>\n      <td>0</td>\n    </tr>\n    <tr>\n      <th>124</th>\n      <td>Julia</td>\n      <td>Prochaska</td>\n      <td>2003</td>\n      <td>Tauchclub NEMO Plauen e.V.</td>\n      <td>None</td>\n      <td>0</td>\n      <td>0</td>\n      <td>0</td>\n      <td>0</td>\n      <td>0</td>\n      <td>0</td>\n      <td>0</td>\n      <td>0</td>\n      <td>0</td>\n      <td>0</td>\n      <td>0</td>\n      <td>0</td>\n    </tr>\n    <tr>\n      <th>130</th>\n      <td>Petra</td>\n      <td>Saliger</td>\n      <td>1964</td>\n      <td>Tauchclub NEMO Plauen e.V.</td>\n      <td>None</td>\n      <td>0</td>\n      <td>0</td>\n      <td>0</td>\n      <td>0</td>\n      <td>0</td>\n      <td>0</td>\n      <td>0</td>\n      <td>0</td>\n      <td>0</td>\n      <td>0</td>\n      <td>0</td>\n      <td>0</td>\n    </tr>\n    <tr>\n      <th>131</th>\n      <td>Renate</td>\n      <td>Reuter</td>\n      <td>1953</td>\n      <td>Tauchclub NEMO Plauen e.V.</td>\n      <td>None</td>\n      <td>0</td>\n      <td>0</td>\n      <td>0</td>\n      <td>0</td>\n      <td>0</td>\n      <td>0</td>\n      <td>0</td>\n      <td>0</td>\n      <td>0</td>\n      <td>0</td>\n      <td>0</td>\n      <td>0</td>\n    </tr>\n    <tr>\n      <th>148</th>\n      <td>Jil</td>\n      <td>Gusmanov</td>\n      <td>1999</td>\n      <td>TC Delitzsch</td>\n      <td>None</td>\n      <td>0</td>\n      <td>0</td>\n      <td>0</td>\n      <td>0</td>\n      <td>0</td>\n      <td>0</td>\n      <td>0</td>\n      <td>0</td>\n      <td>0</td>\n      <td>0</td>\n      <td>0</td>\n      <td>0</td>\n    </tr>\n  </tbody>\n</table>\n<p>63 rows × 17 columns</p>\n</div>"
     },
     "execution_count": 220,
     "metadata": {},
     "output_type": "execute_result"
    }
   ],
   "source": [
    "df_female = pd.DataFrame.from_dict(rows_f, orient=\"index\", columns=headers_f)\n",
    "df_female[\"Summe\"] = df_female.apply(calc_points_per_athlete, axis=1)\n",
    "df_female.sort_values(by=[\"Altersklasse\", \"Summe\"], ascending=[True, False], inplace=True)\n",
    "df_female"
   ],
   "metadata": {
    "collapsed": false,
    "ExecuteTime": {
     "start_time": "2023-04-10T17:43:03.985736Z",
     "end_time": "2023-04-10T17:43:04.000196Z"
    }
   }
  },
  {
   "cell_type": "markdown",
   "source": [
    "## Ergebnisse Männlich\n"
   ],
   "metadata": {
    "collapsed": false
   }
  },
  {
   "cell_type": "code",
   "execution_count": 219,
   "outputs": [
    {
     "data": {
      "text/plain": "          Vorname     Nachname  Geb. Jahr                            Verein   \n147        Niklas       Loßner       2006   SC Riesa Sekt. Flossenschwimmen  \\\n160    Ben Joseph      Schoodt       2007  SC DHfK Leipzig Flossenschwimmen   \n10    Christopher        Noack       2006                 Tauchsport Döbeln   \n259        Niklas      Loßner.       2006   Landestauchsportverband Sachsen   \n298   Christopher       Noack.       2006   Landestauchsportverband Sachsen   \n175        Mykyta       Batiuk       2009  SC DHfK Leipzig Flossenschwimmen   \n117       Yannick         Hans       2009    1. Chemnitzer Tauchverein e.V.   \n105         Alwin       Müller       2009    1. Chemnitzer Tauchverein e.V.   \n113         Simon         Elle       2009    1. Chemnitzer Tauchverein e.V.   \n168          Leon         Hauk       2008  SC DHfK Leipzig Flossenschwimmen   \n158  Alex Michael       Berger       2008  SC DHfK Leipzig Flossenschwimmen   \n269     Christoph       Hübner       2009                        SG Dresden   \n271        Viktor        Lange       2009                        SG Dresden   \n260        Mykyta      Batiuk.       2009   Landestauchsportverband Sachsen   \n150    Pepe Milan       Becker       2011                      TC Delitzsch   \n255          Pepe      Becker.       2011   Landestauchsportverband Sachsen   \n256          Nina   Schönherr.       2011   Landestauchsportverband Sachsen   \n257           Ida     Hönisch.       2011   Landestauchsportverband Sachsen   \n258          Lene      Berger.       2010   Landestauchsportverband Sachsen   \n266         Marco     Buchmann       2011                        SG Dresden   \n176        Mykyta  Kulchytskyi       2012  SC DHfK Leipzig Flossenschwimmen   \n104        Alfred      Münzner       2013    1. Chemnitzer Tauchverein e.V.   \n129          Paul     Hartmann       2013        Tauchclub NEMO Plauen e.V.   \n107           Ben     Schiller       2013    1. Chemnitzer Tauchverein e.V.   \n122       Etienne       Hertel       2013        Tauchclub NEMO Plauen e.V.   \n137       Vincent          Kad       2013        Tauchclub NEMO Plauen e.V.   \n116           Yan      Ilianyi       2012    1. Chemnitzer Tauchverein e.V.   \n159         Arved        Beyer       2013  SC DHfK Leipzig Flossenschwimmen   \n173        Marten     Schnepel       2012  SC DHfK Leipzig Flossenschwimmen   \n128      Max-Leon     Michalke       2014        Tauchclub NEMO Plauen e.V.   \n146           Neo     von Hoff       2014   SC Riesa Sekt. Flossenschwimmen   \n144    Maximilian        Fleck       2014   SC Riesa Sekt. Flossenschwimmen   \n112        Marcel       Porges       2005    1. Chemnitzer Tauchverein e.V.   \n299           Max    Poschart.       1994   Landestauchsportverband Sachsen   \n163        Duncan        Gaida       2001  SC DHfK Leipzig Flossenschwimmen   \n165         Felix    Wahlstadt       1999  SC DHfK Leipzig Flossenschwimmen   \n188        Stefan       Bordag       1978  SC DHfK Leipzig Flossenschwimmen   \n189        Thomas     Nehrdich       1977  SC DHfK Leipzig Flossenschwimmen   \n190       Torsten      Stelzig       1973  SC DHfK Leipzig Flossenschwimmen   \n192   Wolf-Dieter        Meier       1967  SC DHfK Leipzig Flossenschwimmen   \n290         Diana     Eckstein       1987  SC DHfK Leipzig Flossenschwimmen   \n264      Johannes        Böhme       1987                        SG Dresden   \n268        Stefan     Hoffmann       1978                        SG Dresden   \n277          Mike      Petrich       1999                        SG Dresden   \n278          Nick      Petrich       2005                        SG Dresden   \n121       Andreas       Reuter       1955        Tauchclub NEMO Plauen e.V.   \n132       Rüdiger         Senf       1959        Tauchclub NEMO Plauen e.V.   \n134          Sven         Gräf       1972        Tauchclub NEMO Plauen e.V.   \n11         Daniel      Winkler       1973                 Tauchsport Döbeln   \n12          Felix      Elenkow       2003                 Tauchsport Döbeln   \n13         Henrik         Muth       1962                 Tauchsport Döbeln   \n15         Oliver    Schuricht       1972                 Tauchsport Döbeln   \n\n      Altersklasse  400 SURFACE  50 IMMERSION  50 APNEA  100 SURFACE   \n147    2006 & 2007           50             0         0           50  \\\n160    2006 & 2007            0             0        50           46   \n10     2006 & 2007            0             0         0           42   \n259    2006 & 2007            0             0         0            0   \n298    2006 & 2007            0             0         0            0   \n175    2008 & 2009            0             0        50           50   \n117    2008 & 2009            0             0        46           42   \n105    2008 & 2009            0             0        42           39   \n113    2008 & 2009            0            50         0           27   \n168    2008 & 2009            0             0        39           36   \n158    2008 & 2009           50             0         0           46   \n269    2008 & 2009            0             0         0           30   \n271    2008 & 2009            0             0         0           33   \n260    2008 & 2009            0             0         0            0   \n150    2010 & 2011            0            50         0           50   \n255    2010 & 2011            0             0         0            0   \n256    2010 & 2011            0             0         0            0   \n257    2010 & 2011            0             0         0            0   \n258    2010 & 2011            0             0         0            0   \n266    2010 & 2011            0             0         0            0   \n176    2012 & 2013            0             0         0           50   \n104    2012 & 2013           50             0         0            0   \n129    2012 & 2013            0             0         0           46   \n107    2012 & 2013            0             0         0           42   \n122    2012 & 2013           46             0         0           30   \n137    2012 & 2013            0             0         0           36   \n116    2012 & 2013            0             0         0           39   \n159    2012 & 2013            0             0         0           33   \n173    2012 & 2013            0             0         0            0   \n128  2014 & jünger            0             0         0           50   \n146  2014 & jünger            0             0         0           46   \n144  2014 & jünger            0             0         0           42   \n112           None            0             0         0            0   \n299           None            0             0         0            0   \n163           None            0             0         0            0   \n165           None            0             0         0            0   \n188           None            0             0         0            0   \n189           None            0             0         0            0   \n190           None            0             0         0            0   \n192           None            0             0         0            0   \n290           None            0             0         0            0   \n264           None            0             0         0            0   \n268           None            0             0         0            0   \n277           None            0             0         0            0   \n278           None            0             0         0            0   \n121           None            0             0         0            0   \n132           None            0             0         0            0   \n134           None            0             0         0            0   \n11            None            0             0         0            0   \n12            None            0             0         0            0   \n13            None            0             0         0            0   \n15            None            0             0         0            0   \n\n     800 SURFACE  50 BIFIN  50 SURFACE  1500 SURFACE  100 IMMERSION   \n147            0         0          50             0              0  \\\n160            0         0          46             0              0   \n10             0         0          42             0              0   \n259            0         0           0             0              0   \n298            0         0           0             0              0   \n175            0         0          50             0              0   \n117            0         0          46             0              0   \n105            0         0          42             0              0   \n113            0         0          30             0              0   \n168            0         0          39             0              0   \n158            0         0           0             0              0   \n269            0         0          36             0              0   \n271            0         0          33             0              0   \n260            0         0           0             0              0   \n150            0         0          50             0             50   \n255            0         0           0             0              0   \n256            0         0           0             0              0   \n257            0         0           0             0              0   \n258            0         0           0             0              0   \n266            0         0           0             0              0   \n176            0         0          50             0              0   \n104            0         0          46             0              0   \n129            0         0          42             0              0   \n107            0         0          39             0              0   \n122            0         0          27             0              0   \n137            0         0          36             0              0   \n116            0         0          33             0              0   \n159            0         0          30             0              0   \n173            0         0           0             0              0   \n128            0         0          50             0              0   \n146            0         0          46             0              0   \n144            0         0          42             0              0   \n112            0         0           0             0              0   \n299            0         0           0             0              0   \n163            0         0           0             0              0   \n165            0         0           0             0              0   \n188            0         0           0             0              0   \n189            0         0           0             0              0   \n190            0         0           0             0              0   \n192            0         0           0             0              0   \n290            0         0           0             0              0   \n264            0         0           0             0              0   \n268            0         0           0             0              0   \n277            0         0           0             0              0   \n278            0         0           0             0              0   \n121            0         0           0             0              0   \n132            0         0           0             0              0   \n134            0         0           0             0              0   \n11             0         0           0             0              0   \n12             0         0           0             0              0   \n13             0         0           0             0              0   \n15             0         0           0             0              0   \n\n     200 SURFACE  400 IMMERSION  Summe  \n147           46              0    150  \n160           50              0    146  \n10             0              0     84  \n259            0              0      0  \n298            0              0      0  \n175            0              0    150  \n117           50              0    142  \n105           46              0    130  \n113           42              0    122  \n168            0              0    114  \n158            0              0     96  \n269            0              0     66  \n271            0              0     66  \n260            0              0      0  \n150           50              0    150  \n255            0              0      0  \n256            0              0      0  \n257            0              0      0  \n258            0              0      0  \n266            0              0      0  \n176           50              0    150  \n104           42              0    138  \n129           46              0    134  \n107           39              0    120  \n122           36              0    112  \n137           33              0    105  \n116            0              0     72  \n159            0              0     63  \n173            0              0      0  \n128           50              0    150  \n146            0              0     92  \n144            0              0     84  \n112            0              0      0  \n299            0              0      0  \n163            0              0      0  \n165            0              0      0  \n188            0              0      0  \n189            0              0      0  \n190            0              0      0  \n192            0              0      0  \n290            0              0      0  \n264            0              0      0  \n268            0              0      0  \n277            0              0      0  \n278            0              0      0  \n121            0              0      0  \n132            0              0      0  \n134            0              0      0  \n11             0              0      0  \n12             0              0      0  \n13             0              0      0  \n15             0              0      0  ",
      "text/html": "<div>\n<style scoped>\n    .dataframe tbody tr th:only-of-type {\n        vertical-align: middle;\n    }\n\n    .dataframe tbody tr th {\n        vertical-align: top;\n    }\n\n    .dataframe thead th {\n        text-align: right;\n    }\n</style>\n<table border=\"1\" class=\"dataframe\">\n  <thead>\n    <tr style=\"text-align: right;\">\n      <th></th>\n      <th>Vorname</th>\n      <th>Nachname</th>\n      <th>Geb. Jahr</th>\n      <th>Verein</th>\n      <th>Altersklasse</th>\n      <th>400 SURFACE</th>\n      <th>50 IMMERSION</th>\n      <th>50 APNEA</th>\n      <th>100 SURFACE</th>\n      <th>800 SURFACE</th>\n      <th>50 BIFIN</th>\n      <th>50 SURFACE</th>\n      <th>1500 SURFACE</th>\n      <th>100 IMMERSION</th>\n      <th>200 SURFACE</th>\n      <th>400 IMMERSION</th>\n      <th>Summe</th>\n    </tr>\n  </thead>\n  <tbody>\n    <tr>\n      <th>147</th>\n      <td>Niklas</td>\n      <td>Loßner</td>\n      <td>2006</td>\n      <td>SC Riesa Sekt. Flossenschwimmen</td>\n      <td>2006 &amp; 2007</td>\n      <td>50</td>\n      <td>0</td>\n      <td>0</td>\n      <td>50</td>\n      <td>0</td>\n      <td>0</td>\n      <td>50</td>\n      <td>0</td>\n      <td>0</td>\n      <td>46</td>\n      <td>0</td>\n      <td>150</td>\n    </tr>\n    <tr>\n      <th>160</th>\n      <td>Ben Joseph</td>\n      <td>Schoodt</td>\n      <td>2007</td>\n      <td>SC DHfK Leipzig Flossenschwimmen</td>\n      <td>2006 &amp; 2007</td>\n      <td>0</td>\n      <td>0</td>\n      <td>50</td>\n      <td>46</td>\n      <td>0</td>\n      <td>0</td>\n      <td>46</td>\n      <td>0</td>\n      <td>0</td>\n      <td>50</td>\n      <td>0</td>\n      <td>146</td>\n    </tr>\n    <tr>\n      <th>10</th>\n      <td>Christopher</td>\n      <td>Noack</td>\n      <td>2006</td>\n      <td>Tauchsport Döbeln</td>\n      <td>2006 &amp; 2007</td>\n      <td>0</td>\n      <td>0</td>\n      <td>0</td>\n      <td>42</td>\n      <td>0</td>\n      <td>0</td>\n      <td>42</td>\n      <td>0</td>\n      <td>0</td>\n      <td>0</td>\n      <td>0</td>\n      <td>84</td>\n    </tr>\n    <tr>\n      <th>259</th>\n      <td>Niklas</td>\n      <td>Loßner.</td>\n      <td>2006</td>\n      <td>Landestauchsportverband Sachsen</td>\n      <td>2006 &amp; 2007</td>\n      <td>0</td>\n      <td>0</td>\n      <td>0</td>\n      <td>0</td>\n      <td>0</td>\n      <td>0</td>\n      <td>0</td>\n      <td>0</td>\n      <td>0</td>\n      <td>0</td>\n      <td>0</td>\n      <td>0</td>\n    </tr>\n    <tr>\n      <th>298</th>\n      <td>Christopher</td>\n      <td>Noack.</td>\n      <td>2006</td>\n      <td>Landestauchsportverband Sachsen</td>\n      <td>2006 &amp; 2007</td>\n      <td>0</td>\n      <td>0</td>\n      <td>0</td>\n      <td>0</td>\n      <td>0</td>\n      <td>0</td>\n      <td>0</td>\n      <td>0</td>\n      <td>0</td>\n      <td>0</td>\n      <td>0</td>\n      <td>0</td>\n    </tr>\n    <tr>\n      <th>175</th>\n      <td>Mykyta</td>\n      <td>Batiuk</td>\n      <td>2009</td>\n      <td>SC DHfK Leipzig Flossenschwimmen</td>\n      <td>2008 &amp; 2009</td>\n      <td>0</td>\n      <td>0</td>\n      <td>50</td>\n      <td>50</td>\n      <td>0</td>\n      <td>0</td>\n      <td>50</td>\n      <td>0</td>\n      <td>0</td>\n      <td>0</td>\n      <td>0</td>\n      <td>150</td>\n    </tr>\n    <tr>\n      <th>117</th>\n      <td>Yannick</td>\n      <td>Hans</td>\n      <td>2009</td>\n      <td>1. Chemnitzer Tauchverein e.V.</td>\n      <td>2008 &amp; 2009</td>\n      <td>0</td>\n      <td>0</td>\n      <td>46</td>\n      <td>42</td>\n      <td>0</td>\n      <td>0</td>\n      <td>46</td>\n      <td>0</td>\n      <td>0</td>\n      <td>50</td>\n      <td>0</td>\n      <td>142</td>\n    </tr>\n    <tr>\n      <th>105</th>\n      <td>Alwin</td>\n      <td>Müller</td>\n      <td>2009</td>\n      <td>1. Chemnitzer Tauchverein e.V.</td>\n      <td>2008 &amp; 2009</td>\n      <td>0</td>\n      <td>0</td>\n      <td>42</td>\n      <td>39</td>\n      <td>0</td>\n      <td>0</td>\n      <td>42</td>\n      <td>0</td>\n      <td>0</td>\n      <td>46</td>\n      <td>0</td>\n      <td>130</td>\n    </tr>\n    <tr>\n      <th>113</th>\n      <td>Simon</td>\n      <td>Elle</td>\n      <td>2009</td>\n      <td>1. Chemnitzer Tauchverein e.V.</td>\n      <td>2008 &amp; 2009</td>\n      <td>0</td>\n      <td>50</td>\n      <td>0</td>\n      <td>27</td>\n      <td>0</td>\n      <td>0</td>\n      <td>30</td>\n      <td>0</td>\n      <td>0</td>\n      <td>42</td>\n      <td>0</td>\n      <td>122</td>\n    </tr>\n    <tr>\n      <th>168</th>\n      <td>Leon</td>\n      <td>Hauk</td>\n      <td>2008</td>\n      <td>SC DHfK Leipzig Flossenschwimmen</td>\n      <td>2008 &amp; 2009</td>\n      <td>0</td>\n      <td>0</td>\n      <td>39</td>\n      <td>36</td>\n      <td>0</td>\n      <td>0</td>\n      <td>39</td>\n      <td>0</td>\n      <td>0</td>\n      <td>0</td>\n      <td>0</td>\n      <td>114</td>\n    </tr>\n    <tr>\n      <th>158</th>\n      <td>Alex Michael</td>\n      <td>Berger</td>\n      <td>2008</td>\n      <td>SC DHfK Leipzig Flossenschwimmen</td>\n      <td>2008 &amp; 2009</td>\n      <td>50</td>\n      <td>0</td>\n      <td>0</td>\n      <td>46</td>\n      <td>0</td>\n      <td>0</td>\n      <td>0</td>\n      <td>0</td>\n      <td>0</td>\n      <td>0</td>\n      <td>0</td>\n      <td>96</td>\n    </tr>\n    <tr>\n      <th>269</th>\n      <td>Christoph</td>\n      <td>Hübner</td>\n      <td>2009</td>\n      <td>SG Dresden</td>\n      <td>2008 &amp; 2009</td>\n      <td>0</td>\n      <td>0</td>\n      <td>0</td>\n      <td>30</td>\n      <td>0</td>\n      <td>0</td>\n      <td>36</td>\n      <td>0</td>\n      <td>0</td>\n      <td>0</td>\n      <td>0</td>\n      <td>66</td>\n    </tr>\n    <tr>\n      <th>271</th>\n      <td>Viktor</td>\n      <td>Lange</td>\n      <td>2009</td>\n      <td>SG Dresden</td>\n      <td>2008 &amp; 2009</td>\n      <td>0</td>\n      <td>0</td>\n      <td>0</td>\n      <td>33</td>\n      <td>0</td>\n      <td>0</td>\n      <td>33</td>\n      <td>0</td>\n      <td>0</td>\n      <td>0</td>\n      <td>0</td>\n      <td>66</td>\n    </tr>\n    <tr>\n      <th>260</th>\n      <td>Mykyta</td>\n      <td>Batiuk.</td>\n      <td>2009</td>\n      <td>Landestauchsportverband Sachsen</td>\n      <td>2008 &amp; 2009</td>\n      <td>0</td>\n      <td>0</td>\n      <td>0</td>\n      <td>0</td>\n      <td>0</td>\n      <td>0</td>\n      <td>0</td>\n      <td>0</td>\n      <td>0</td>\n      <td>0</td>\n      <td>0</td>\n      <td>0</td>\n    </tr>\n    <tr>\n      <th>150</th>\n      <td>Pepe Milan</td>\n      <td>Becker</td>\n      <td>2011</td>\n      <td>TC Delitzsch</td>\n      <td>2010 &amp; 2011</td>\n      <td>0</td>\n      <td>50</td>\n      <td>0</td>\n      <td>50</td>\n      <td>0</td>\n      <td>0</td>\n      <td>50</td>\n      <td>0</td>\n      <td>50</td>\n      <td>50</td>\n      <td>0</td>\n      <td>150</td>\n    </tr>\n    <tr>\n      <th>255</th>\n      <td>Pepe</td>\n      <td>Becker.</td>\n      <td>2011</td>\n      <td>Landestauchsportverband Sachsen</td>\n      <td>2010 &amp; 2011</td>\n      <td>0</td>\n      <td>0</td>\n      <td>0</td>\n      <td>0</td>\n      <td>0</td>\n      <td>0</td>\n      <td>0</td>\n      <td>0</td>\n      <td>0</td>\n      <td>0</td>\n      <td>0</td>\n      <td>0</td>\n    </tr>\n    <tr>\n      <th>256</th>\n      <td>Nina</td>\n      <td>Schönherr.</td>\n      <td>2011</td>\n      <td>Landestauchsportverband Sachsen</td>\n      <td>2010 &amp; 2011</td>\n      <td>0</td>\n      <td>0</td>\n      <td>0</td>\n      <td>0</td>\n      <td>0</td>\n      <td>0</td>\n      <td>0</td>\n      <td>0</td>\n      <td>0</td>\n      <td>0</td>\n      <td>0</td>\n      <td>0</td>\n    </tr>\n    <tr>\n      <th>257</th>\n      <td>Ida</td>\n      <td>Hönisch.</td>\n      <td>2011</td>\n      <td>Landestauchsportverband Sachsen</td>\n      <td>2010 &amp; 2011</td>\n      <td>0</td>\n      <td>0</td>\n      <td>0</td>\n      <td>0</td>\n      <td>0</td>\n      <td>0</td>\n      <td>0</td>\n      <td>0</td>\n      <td>0</td>\n      <td>0</td>\n      <td>0</td>\n      <td>0</td>\n    </tr>\n    <tr>\n      <th>258</th>\n      <td>Lene</td>\n      <td>Berger.</td>\n      <td>2010</td>\n      <td>Landestauchsportverband Sachsen</td>\n      <td>2010 &amp; 2011</td>\n      <td>0</td>\n      <td>0</td>\n      <td>0</td>\n      <td>0</td>\n      <td>0</td>\n      <td>0</td>\n      <td>0</td>\n      <td>0</td>\n      <td>0</td>\n      <td>0</td>\n      <td>0</td>\n      <td>0</td>\n    </tr>\n    <tr>\n      <th>266</th>\n      <td>Marco</td>\n      <td>Buchmann</td>\n      <td>2011</td>\n      <td>SG Dresden</td>\n      <td>2010 &amp; 2011</td>\n      <td>0</td>\n      <td>0</td>\n      <td>0</td>\n      <td>0</td>\n      <td>0</td>\n      <td>0</td>\n      <td>0</td>\n      <td>0</td>\n      <td>0</td>\n      <td>0</td>\n      <td>0</td>\n      <td>0</td>\n    </tr>\n    <tr>\n      <th>176</th>\n      <td>Mykyta</td>\n      <td>Kulchytskyi</td>\n      <td>2012</td>\n      <td>SC DHfK Leipzig Flossenschwimmen</td>\n      <td>2012 &amp; 2013</td>\n      <td>0</td>\n      <td>0</td>\n      <td>0</td>\n      <td>50</td>\n      <td>0</td>\n      <td>0</td>\n      <td>50</td>\n      <td>0</td>\n      <td>0</td>\n      <td>50</td>\n      <td>0</td>\n      <td>150</td>\n    </tr>\n    <tr>\n      <th>104</th>\n      <td>Alfred</td>\n      <td>Münzner</td>\n      <td>2013</td>\n      <td>1. Chemnitzer Tauchverein e.V.</td>\n      <td>2012 &amp; 2013</td>\n      <td>50</td>\n      <td>0</td>\n      <td>0</td>\n      <td>0</td>\n      <td>0</td>\n      <td>0</td>\n      <td>46</td>\n      <td>0</td>\n      <td>0</td>\n      <td>42</td>\n      <td>0</td>\n      <td>138</td>\n    </tr>\n    <tr>\n      <th>129</th>\n      <td>Paul</td>\n      <td>Hartmann</td>\n      <td>2013</td>\n      <td>Tauchclub NEMO Plauen e.V.</td>\n      <td>2012 &amp; 2013</td>\n      <td>0</td>\n      <td>0</td>\n      <td>0</td>\n      <td>46</td>\n      <td>0</td>\n      <td>0</td>\n      <td>42</td>\n      <td>0</td>\n      <td>0</td>\n      <td>46</td>\n      <td>0</td>\n      <td>134</td>\n    </tr>\n    <tr>\n      <th>107</th>\n      <td>Ben</td>\n      <td>Schiller</td>\n      <td>2013</td>\n      <td>1. Chemnitzer Tauchverein e.V.</td>\n      <td>2012 &amp; 2013</td>\n      <td>0</td>\n      <td>0</td>\n      <td>0</td>\n      <td>42</td>\n      <td>0</td>\n      <td>0</td>\n      <td>39</td>\n      <td>0</td>\n      <td>0</td>\n      <td>39</td>\n      <td>0</td>\n      <td>120</td>\n    </tr>\n    <tr>\n      <th>122</th>\n      <td>Etienne</td>\n      <td>Hertel</td>\n      <td>2013</td>\n      <td>Tauchclub NEMO Plauen e.V.</td>\n      <td>2012 &amp; 2013</td>\n      <td>46</td>\n      <td>0</td>\n      <td>0</td>\n      <td>30</td>\n      <td>0</td>\n      <td>0</td>\n      <td>27</td>\n      <td>0</td>\n      <td>0</td>\n      <td>36</td>\n      <td>0</td>\n      <td>112</td>\n    </tr>\n    <tr>\n      <th>137</th>\n      <td>Vincent</td>\n      <td>Kad</td>\n      <td>2013</td>\n      <td>Tauchclub NEMO Plauen e.V.</td>\n      <td>2012 &amp; 2013</td>\n      <td>0</td>\n      <td>0</td>\n      <td>0</td>\n      <td>36</td>\n      <td>0</td>\n      <td>0</td>\n      <td>36</td>\n      <td>0</td>\n      <td>0</td>\n      <td>33</td>\n      <td>0</td>\n      <td>105</td>\n    </tr>\n    <tr>\n      <th>116</th>\n      <td>Yan</td>\n      <td>Ilianyi</td>\n      <td>2012</td>\n      <td>1. Chemnitzer Tauchverein e.V.</td>\n      <td>2012 &amp; 2013</td>\n      <td>0</td>\n      <td>0</td>\n      <td>0</td>\n      <td>39</td>\n      <td>0</td>\n      <td>0</td>\n      <td>33</td>\n      <td>0</td>\n      <td>0</td>\n      <td>0</td>\n      <td>0</td>\n      <td>72</td>\n    </tr>\n    <tr>\n      <th>159</th>\n      <td>Arved</td>\n      <td>Beyer</td>\n      <td>2013</td>\n      <td>SC DHfK Leipzig Flossenschwimmen</td>\n      <td>2012 &amp; 2013</td>\n      <td>0</td>\n      <td>0</td>\n      <td>0</td>\n      <td>33</td>\n      <td>0</td>\n      <td>0</td>\n      <td>30</td>\n      <td>0</td>\n      <td>0</td>\n      <td>0</td>\n      <td>0</td>\n      <td>63</td>\n    </tr>\n    <tr>\n      <th>173</th>\n      <td>Marten</td>\n      <td>Schnepel</td>\n      <td>2012</td>\n      <td>SC DHfK Leipzig Flossenschwimmen</td>\n      <td>2012 &amp; 2013</td>\n      <td>0</td>\n      <td>0</td>\n      <td>0</td>\n      <td>0</td>\n      <td>0</td>\n      <td>0</td>\n      <td>0</td>\n      <td>0</td>\n      <td>0</td>\n      <td>0</td>\n      <td>0</td>\n      <td>0</td>\n    </tr>\n    <tr>\n      <th>128</th>\n      <td>Max-Leon</td>\n      <td>Michalke</td>\n      <td>2014</td>\n      <td>Tauchclub NEMO Plauen e.V.</td>\n      <td>2014 &amp; jünger</td>\n      <td>0</td>\n      <td>0</td>\n      <td>0</td>\n      <td>50</td>\n      <td>0</td>\n      <td>0</td>\n      <td>50</td>\n      <td>0</td>\n      <td>0</td>\n      <td>50</td>\n      <td>0</td>\n      <td>150</td>\n    </tr>\n    <tr>\n      <th>146</th>\n      <td>Neo</td>\n      <td>von Hoff</td>\n      <td>2014</td>\n      <td>SC Riesa Sekt. Flossenschwimmen</td>\n      <td>2014 &amp; jünger</td>\n      <td>0</td>\n      <td>0</td>\n      <td>0</td>\n      <td>46</td>\n      <td>0</td>\n      <td>0</td>\n      <td>46</td>\n      <td>0</td>\n      <td>0</td>\n      <td>0</td>\n      <td>0</td>\n      <td>92</td>\n    </tr>\n    <tr>\n      <th>144</th>\n      <td>Maximilian</td>\n      <td>Fleck</td>\n      <td>2014</td>\n      <td>SC Riesa Sekt. Flossenschwimmen</td>\n      <td>2014 &amp; jünger</td>\n      <td>0</td>\n      <td>0</td>\n      <td>0</td>\n      <td>42</td>\n      <td>0</td>\n      <td>0</td>\n      <td>42</td>\n      <td>0</td>\n      <td>0</td>\n      <td>0</td>\n      <td>0</td>\n      <td>84</td>\n    </tr>\n    <tr>\n      <th>112</th>\n      <td>Marcel</td>\n      <td>Porges</td>\n      <td>2005</td>\n      <td>1. Chemnitzer Tauchverein e.V.</td>\n      <td>None</td>\n      <td>0</td>\n      <td>0</td>\n      <td>0</td>\n      <td>0</td>\n      <td>0</td>\n      <td>0</td>\n      <td>0</td>\n      <td>0</td>\n      <td>0</td>\n      <td>0</td>\n      <td>0</td>\n      <td>0</td>\n    </tr>\n    <tr>\n      <th>299</th>\n      <td>Max</td>\n      <td>Poschart.</td>\n      <td>1994</td>\n      <td>Landestauchsportverband Sachsen</td>\n      <td>None</td>\n      <td>0</td>\n      <td>0</td>\n      <td>0</td>\n      <td>0</td>\n      <td>0</td>\n      <td>0</td>\n      <td>0</td>\n      <td>0</td>\n      <td>0</td>\n      <td>0</td>\n      <td>0</td>\n      <td>0</td>\n    </tr>\n    <tr>\n      <th>163</th>\n      <td>Duncan</td>\n      <td>Gaida</td>\n      <td>2001</td>\n      <td>SC DHfK Leipzig Flossenschwimmen</td>\n      <td>None</td>\n      <td>0</td>\n      <td>0</td>\n      <td>0</td>\n      <td>0</td>\n      <td>0</td>\n      <td>0</td>\n      <td>0</td>\n      <td>0</td>\n      <td>0</td>\n      <td>0</td>\n      <td>0</td>\n      <td>0</td>\n    </tr>\n    <tr>\n      <th>165</th>\n      <td>Felix</td>\n      <td>Wahlstadt</td>\n      <td>1999</td>\n      <td>SC DHfK Leipzig Flossenschwimmen</td>\n      <td>None</td>\n      <td>0</td>\n      <td>0</td>\n      <td>0</td>\n      <td>0</td>\n      <td>0</td>\n      <td>0</td>\n      <td>0</td>\n      <td>0</td>\n      <td>0</td>\n      <td>0</td>\n      <td>0</td>\n      <td>0</td>\n    </tr>\n    <tr>\n      <th>188</th>\n      <td>Stefan</td>\n      <td>Bordag</td>\n      <td>1978</td>\n      <td>SC DHfK Leipzig Flossenschwimmen</td>\n      <td>None</td>\n      <td>0</td>\n      <td>0</td>\n      <td>0</td>\n      <td>0</td>\n      <td>0</td>\n      <td>0</td>\n      <td>0</td>\n      <td>0</td>\n      <td>0</td>\n      <td>0</td>\n      <td>0</td>\n      <td>0</td>\n    </tr>\n    <tr>\n      <th>189</th>\n      <td>Thomas</td>\n      <td>Nehrdich</td>\n      <td>1977</td>\n      <td>SC DHfK Leipzig Flossenschwimmen</td>\n      <td>None</td>\n      <td>0</td>\n      <td>0</td>\n      <td>0</td>\n      <td>0</td>\n      <td>0</td>\n      <td>0</td>\n      <td>0</td>\n      <td>0</td>\n      <td>0</td>\n      <td>0</td>\n      <td>0</td>\n      <td>0</td>\n    </tr>\n    <tr>\n      <th>190</th>\n      <td>Torsten</td>\n      <td>Stelzig</td>\n      <td>1973</td>\n      <td>SC DHfK Leipzig Flossenschwimmen</td>\n      <td>None</td>\n      <td>0</td>\n      <td>0</td>\n      <td>0</td>\n      <td>0</td>\n      <td>0</td>\n      <td>0</td>\n      <td>0</td>\n      <td>0</td>\n      <td>0</td>\n      <td>0</td>\n      <td>0</td>\n      <td>0</td>\n    </tr>\n    <tr>\n      <th>192</th>\n      <td>Wolf-Dieter</td>\n      <td>Meier</td>\n      <td>1967</td>\n      <td>SC DHfK Leipzig Flossenschwimmen</td>\n      <td>None</td>\n      <td>0</td>\n      <td>0</td>\n      <td>0</td>\n      <td>0</td>\n      <td>0</td>\n      <td>0</td>\n      <td>0</td>\n      <td>0</td>\n      <td>0</td>\n      <td>0</td>\n      <td>0</td>\n      <td>0</td>\n    </tr>\n    <tr>\n      <th>290</th>\n      <td>Diana</td>\n      <td>Eckstein</td>\n      <td>1987</td>\n      <td>SC DHfK Leipzig Flossenschwimmen</td>\n      <td>None</td>\n      <td>0</td>\n      <td>0</td>\n      <td>0</td>\n      <td>0</td>\n      <td>0</td>\n      <td>0</td>\n      <td>0</td>\n      <td>0</td>\n      <td>0</td>\n      <td>0</td>\n      <td>0</td>\n      <td>0</td>\n    </tr>\n    <tr>\n      <th>264</th>\n      <td>Johannes</td>\n      <td>Böhme</td>\n      <td>1987</td>\n      <td>SG Dresden</td>\n      <td>None</td>\n      <td>0</td>\n      <td>0</td>\n      <td>0</td>\n      <td>0</td>\n      <td>0</td>\n      <td>0</td>\n      <td>0</td>\n      <td>0</td>\n      <td>0</td>\n      <td>0</td>\n      <td>0</td>\n      <td>0</td>\n    </tr>\n    <tr>\n      <th>268</th>\n      <td>Stefan</td>\n      <td>Hoffmann</td>\n      <td>1978</td>\n      <td>SG Dresden</td>\n      <td>None</td>\n      <td>0</td>\n      <td>0</td>\n      <td>0</td>\n      <td>0</td>\n      <td>0</td>\n      <td>0</td>\n      <td>0</td>\n      <td>0</td>\n      <td>0</td>\n      <td>0</td>\n      <td>0</td>\n      <td>0</td>\n    </tr>\n    <tr>\n      <th>277</th>\n      <td>Mike</td>\n      <td>Petrich</td>\n      <td>1999</td>\n      <td>SG Dresden</td>\n      <td>None</td>\n      <td>0</td>\n      <td>0</td>\n      <td>0</td>\n      <td>0</td>\n      <td>0</td>\n      <td>0</td>\n      <td>0</td>\n      <td>0</td>\n      <td>0</td>\n      <td>0</td>\n      <td>0</td>\n      <td>0</td>\n    </tr>\n    <tr>\n      <th>278</th>\n      <td>Nick</td>\n      <td>Petrich</td>\n      <td>2005</td>\n      <td>SG Dresden</td>\n      <td>None</td>\n      <td>0</td>\n      <td>0</td>\n      <td>0</td>\n      <td>0</td>\n      <td>0</td>\n      <td>0</td>\n      <td>0</td>\n      <td>0</td>\n      <td>0</td>\n      <td>0</td>\n      <td>0</td>\n      <td>0</td>\n    </tr>\n    <tr>\n      <th>121</th>\n      <td>Andreas</td>\n      <td>Reuter</td>\n      <td>1955</td>\n      <td>Tauchclub NEMO Plauen e.V.</td>\n      <td>None</td>\n      <td>0</td>\n      <td>0</td>\n      <td>0</td>\n      <td>0</td>\n      <td>0</td>\n      <td>0</td>\n      <td>0</td>\n      <td>0</td>\n      <td>0</td>\n      <td>0</td>\n      <td>0</td>\n      <td>0</td>\n    </tr>\n    <tr>\n      <th>132</th>\n      <td>Rüdiger</td>\n      <td>Senf</td>\n      <td>1959</td>\n      <td>Tauchclub NEMO Plauen e.V.</td>\n      <td>None</td>\n      <td>0</td>\n      <td>0</td>\n      <td>0</td>\n      <td>0</td>\n      <td>0</td>\n      <td>0</td>\n      <td>0</td>\n      <td>0</td>\n      <td>0</td>\n      <td>0</td>\n      <td>0</td>\n      <td>0</td>\n    </tr>\n    <tr>\n      <th>134</th>\n      <td>Sven</td>\n      <td>Gräf</td>\n      <td>1972</td>\n      <td>Tauchclub NEMO Plauen e.V.</td>\n      <td>None</td>\n      <td>0</td>\n      <td>0</td>\n      <td>0</td>\n      <td>0</td>\n      <td>0</td>\n      <td>0</td>\n      <td>0</td>\n      <td>0</td>\n      <td>0</td>\n      <td>0</td>\n      <td>0</td>\n      <td>0</td>\n    </tr>\n    <tr>\n      <th>11</th>\n      <td>Daniel</td>\n      <td>Winkler</td>\n      <td>1973</td>\n      <td>Tauchsport Döbeln</td>\n      <td>None</td>\n      <td>0</td>\n      <td>0</td>\n      <td>0</td>\n      <td>0</td>\n      <td>0</td>\n      <td>0</td>\n      <td>0</td>\n      <td>0</td>\n      <td>0</td>\n      <td>0</td>\n      <td>0</td>\n      <td>0</td>\n    </tr>\n    <tr>\n      <th>12</th>\n      <td>Felix</td>\n      <td>Elenkow</td>\n      <td>2003</td>\n      <td>Tauchsport Döbeln</td>\n      <td>None</td>\n      <td>0</td>\n      <td>0</td>\n      <td>0</td>\n      <td>0</td>\n      <td>0</td>\n      <td>0</td>\n      <td>0</td>\n      <td>0</td>\n      <td>0</td>\n      <td>0</td>\n      <td>0</td>\n      <td>0</td>\n    </tr>\n    <tr>\n      <th>13</th>\n      <td>Henrik</td>\n      <td>Muth</td>\n      <td>1962</td>\n      <td>Tauchsport Döbeln</td>\n      <td>None</td>\n      <td>0</td>\n      <td>0</td>\n      <td>0</td>\n      <td>0</td>\n      <td>0</td>\n      <td>0</td>\n      <td>0</td>\n      <td>0</td>\n      <td>0</td>\n      <td>0</td>\n      <td>0</td>\n      <td>0</td>\n    </tr>\n    <tr>\n      <th>15</th>\n      <td>Oliver</td>\n      <td>Schuricht</td>\n      <td>1972</td>\n      <td>Tauchsport Döbeln</td>\n      <td>None</td>\n      <td>0</td>\n      <td>0</td>\n      <td>0</td>\n      <td>0</td>\n      <td>0</td>\n      <td>0</td>\n      <td>0</td>\n      <td>0</td>\n      <td>0</td>\n      <td>0</td>\n      <td>0</td>\n      <td>0</td>\n    </tr>\n  </tbody>\n</table>\n</div>"
     },
     "execution_count": 219,
     "metadata": {},
     "output_type": "execute_result"
    }
   ],
   "source": [
    "df_male = pd.DataFrame.from_dict(rows_m, orient=\"index\", columns=headers_m)\n",
    "df_male[\"Summe\"] = df_male.apply(calc_points_per_athlete, axis=1)\n",
    "df_male.sort_values(by=[\"Altersklasse\", \"Summe\"], ascending=[True, False], inplace=True)\n",
    "df_male"
   ],
   "metadata": {
    "collapsed": false,
    "ExecuteTime": {
     "start_time": "2023-04-10T17:41:31.146755Z",
     "end_time": "2023-04-10T17:41:31.188747Z"
    }
   }
  }
 ],
 "metadata": {
  "kernelspec": {
   "display_name": "Python 3",
   "language": "python",
   "name": "python3"
  },
  "language_info": {
   "codemirror_mode": {
    "name": "ipython",
    "version": 2
   },
   "file_extension": ".py",
   "mimetype": "text/x-python",
   "name": "python",
   "nbconvert_exporter": "python",
   "pygments_lexer": "ipython2",
   "version": "2.7.6"
  }
 },
 "nbformat": 4,
 "nbformat_minor": 0
}
