{
 "cells": [
  {
   "cell_type": "markdown",
   "source": [
    "# Grundlegende Infos\n",
    "\n",
    "**Aufgabe:**\n",
    "Zusammenführen der Ergebnis-Dateien\n",
    "\n",
    "**Eingabedateien:** XLSX-Dateien"
   ],
   "metadata": {
    "collapsed": false
   }
  },
  {
   "cell_type": "markdown",
   "source": [
    "# Notwendige Imports & Vorbereitung\n",
    "## Imports"
   ],
   "metadata": {
    "collapsed": false
   }
  },
  {
   "cell_type": "code",
   "execution_count": 1,
   "metadata": {
    "collapsed": true,
    "ExecuteTime": {
     "start_time": "2023-07-30T18:07:12.258948Z",
     "end_time": "2023-07-30T18:07:12.484011Z"
    }
   },
   "outputs": [],
   "source": [
    "import pandas as pd\n",
    "import numpy as np\n",
    "from datetime import datetime, timedelta, date\n",
    "import os\n",
    "import sqlite3"
   ]
  },
  {
   "cell_type": "markdown",
   "source": [
    "## Anlegen der SQLite Datenbank"
   ],
   "metadata": {
    "collapsed": false
   }
  },
  {
   "cell_type": "code",
   "execution_count": 2,
   "outputs": [
    {
     "data": {
      "text/plain": "<sqlite3.Cursor at 0x13ea43dc0>"
     },
     "execution_count": 2,
     "metadata": {},
     "output_type": "execute_result"
    }
   ],
   "source": [
    "conn = sqlite3.connect(\"../working/db.sqlite\")\n",
    "\n",
    "stmt = \"\"\"\n",
    "create table athletes\n",
    "(\n",
    "    id         integer\n",
    "        constraint athletes_pk\n",
    "            primary key autoincrement,\n",
    "    name       TEXT,\n",
    "    first_name TEXT,\n",
    "    gender     TEXT,\n",
    "    year       TEXT,\n",
    "    club       TEXT,\n",
    "    category   TEXT\n",
    ");\n",
    "\"\"\"\n",
    "\n",
    "conn.execute(stmt)"
   ],
   "metadata": {
    "collapsed": false,
    "ExecuteTime": {
     "start_time": "2023-07-30T18:07:24.249758Z",
     "end_time": "2023-07-30T18:07:24.262800Z"
    }
   }
  },
  {
   "cell_type": "markdown",
   "source": [
    "# Einstellungen\n",
    "## Verzeichnisse"
   ],
   "metadata": {
    "collapsed": false
   }
  },
  {
   "cell_type": "code",
   "execution_count": 3,
   "outputs": [],
   "source": [
    "input_dir = \"../result\"\n",
    "output_dir = \"../finished\""
   ],
   "metadata": {
    "collapsed": false,
    "ExecuteTime": {
     "start_time": "2023-07-30T18:07:27.610573Z",
     "end_time": "2023-07-30T18:07:27.613445Z"
    }
   }
  },
  {
   "cell_type": "markdown",
   "source": [
    "# Notwendige Funktionen"
   ],
   "metadata": {
    "collapsed": false
   }
  },
  {
   "cell_type": "markdown",
   "source": [
    "**ID des Athleten**"
   ],
   "metadata": {
    "collapsed": false
   }
  },
  {
   "cell_type": "code",
   "execution_count": 4,
   "outputs": [],
   "source": [
    "def get_athlete_id (name, first_name, year):\n",
    "    stmt = \"\"\"\n",
    "        SELECT id from athletes WHERE name=? AND first_name=? AND year=?\n",
    "    \"\"\"\n",
    "    c = conn.cursor()\n",
    "    result = c.execute(stmt, (name, first_name, year))\n",
    "    id = c.fetchone()\n",
    "    c.close()\n",
    "    return id"
   ],
   "metadata": {
    "collapsed": false,
    "ExecuteTime": {
     "start_time": "2023-07-30T18:07:29.671014Z",
     "end_time": "2023-07-30T18:07:29.673686Z"
    }
   }
  },
  {
   "cell_type": "markdown",
   "source": [
    "**Einfügen eines Athleten**"
   ],
   "metadata": {
    "collapsed": false
   }
  },
  {
   "cell_type": "code",
   "execution_count": 13,
   "outputs": [],
   "source": [
    "def insert_athlete (name, first_name, year, gender, club, category):\n",
    "    # Check if athlete exists\n",
    "    if get_athlete_id(name, first_name, year) is not None:\n",
    "        return\n",
    "\n",
    "    # Insert Athlete\n",
    "    c = conn.cursor()\n",
    "\n",
    "    stmt = \"\"\"\n",
    "    insert into athletes (name, first_name, gender, \"year\", club, category) values (?, ?, ?, ?, ?, ?);\n",
    "    \"\"\"\n",
    "\n",
    "    c.execute(stmt, (name, first_name, gender, year, club, category))\n",
    "    conn.commit()\n",
    "    c.close()"
   ],
   "metadata": {
    "collapsed": false,
    "ExecuteTime": {
     "start_time": "2023-07-30T18:10:57.946333Z",
     "end_time": "2023-07-30T18:10:57.950171Z"
    }
   }
  },
  {
   "cell_type": "markdown",
   "source": [
    "# Einlesen der Athleten"
   ],
   "metadata": {
    "collapsed": false
   }
  },
  {
   "cell_type": "code",
   "execution_count": 16,
   "outputs": [],
   "source": [
    "row = []\n",
    "\n",
    "for file in os.listdir(input_dir):\n",
    "    # Ignore open files\n",
    "    if file.startswith(\"~\"):\n",
    "        continue\n",
    "\n",
    "    file_path = os.path.join(input_dir, file)\n",
    "\n",
    "    for gender in (\"male\", \"female\"):\n",
    "        df_excel = pd.read_excel(file_path, gender, index_col=0)\n",
    "\n",
    "        for index, row in df_excel.iterrows():\n",
    "            insert_athlete(row[\"Nachname\"], row[\"Vorname\"], row[\"Geb. Jahr\"], gender, row[\"Verein\"], row[\"Altersklasse\"])"
   ],
   "metadata": {
    "collapsed": false,
    "ExecuteTime": {
     "start_time": "2023-07-30T18:14:11.327326Z",
     "end_time": "2023-07-30T18:14:11.462094Z"
    }
   }
  },
  {
   "cell_type": "markdown",
   "source": [
    "# Einlesen der Ergebnisse"
   ],
   "metadata": {
    "collapsed": false
   }
  }
 ],
 "metadata": {
  "kernelspec": {
   "display_name": "Python 3",
   "language": "python",
   "name": "python3"
  },
  "language_info": {
   "codemirror_mode": {
    "name": "ipython",
    "version": 2
   },
   "file_extension": ".py",
   "mimetype": "text/x-python",
   "name": "python",
   "nbconvert_exporter": "python",
   "pygments_lexer": "ipython2",
   "version": "2.7.6"
  }
 },
 "nbformat": 4,
 "nbformat_minor": 0
}
