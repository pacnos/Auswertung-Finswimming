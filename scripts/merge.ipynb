{
 "cells": [
  {
   "cell_type": "markdown",
   "source": [
    "# Grundlegende Infos\n",
    "\n",
    "**Aufgabe:**\n",
    "Zusammenführen der Ergebnis-Dateien\n",
    "\n",
    "**Eingabedateien:** XLSX-Dateien"
   ],
   "metadata": {
    "collapsed": false
   }
  },
  {
   "cell_type": "markdown",
   "source": [
    "# Notwendige Imports & Vorbereitung\n",
    "## Imports"
   ],
   "metadata": {
    "collapsed": false
   }
  },
  {
   "cell_type": "code",
   "execution_count": 1,
   "metadata": {
    "collapsed": true,
    "ExecuteTime": {
     "start_time": "2023-07-30T18:07:12.258948Z",
     "end_time": "2023-07-30T18:07:12.484011Z"
    }
   },
   "outputs": [],
   "source": [
    "import pandas as pd\n",
    "import numpy as np\n",
    "from datetime import datetime, timedelta, date\n",
    "import os\n",
    "import sqlite3"
   ]
  },
  {
   "cell_type": "markdown",
   "source": [
    "## Anlegen der SQLite Datenbank"
   ],
   "metadata": {
    "collapsed": false
   }
  },
  {
   "cell_type": "code",
   "execution_count": 2,
   "outputs": [
    {
     "data": {
      "text/plain": "<sqlite3.Cursor at 0x13ea43dc0>"
     },
     "execution_count": 2,
     "metadata": {},
     "output_type": "execute_result"
    }
   ],
   "source": [
    "conn = sqlite3.connect(\"../working/db.sqlite\")\n",
    "\n",
    "stmt = \"\"\"\n",
    "create table athletes\n",
    "(\n",
    "    id         integer\n",
    "        constraint athletes_pk\n",
    "            primary key autoincrement,\n",
    "    name       TEXT,\n",
    "    first_name TEXT,\n",
    "    gender     TEXT,\n",
    "    year       TEXT,\n",
    "    club       TEXT,\n",
    "    category   TEXT\n",
    ");\n",
    "\"\"\"\n",
    "\n",
    "conn.execute(stmt)"
   ],
   "metadata": {
    "collapsed": false,
    "ExecuteTime": {
     "start_time": "2023-07-30T18:07:24.249758Z",
     "end_time": "2023-07-30T18:07:24.262800Z"
    }
   }
  },
  {
   "cell_type": "markdown",
   "source": [
    "# Einstellungen\n",
    "## Verzeichnisse"
   ],
   "metadata": {
    "collapsed": false
   }
  },
  {
   "cell_type": "code",
   "execution_count": 3,
   "outputs": [],
   "source": [
    "input_dir = \"../result\"\n",
    "output_dir = \"../finished\""
   ],
   "metadata": {
    "collapsed": false,
    "ExecuteTime": {
     "start_time": "2023-07-30T18:07:27.610573Z",
     "end_time": "2023-07-30T18:07:27.613445Z"
    }
   }
  },
  {
   "cell_type": "markdown",
   "source": [
    "# Notwendige Funktionen"
   ],
   "metadata": {
    "collapsed": false
   }
  },
  {
   "cell_type": "markdown",
   "source": [
    "**ID des Athleten**"
   ],
   "metadata": {
    "collapsed": false
   }
  },
  {
   "cell_type": "code",
   "execution_count": 21,
   "outputs": [],
   "source": [
    "def get_athlete_id (name, first_name, year):\n",
    "    stmt = \"\"\"\n",
    "        SELECT id from athletes WHERE name=? AND first_name=? AND year=?\n",
    "    \"\"\"\n",
    "    c = conn.cursor()\n",
    "    result = c.execute(stmt, (name, first_name, year))\n",
    "    id = c.fetchone()\n",
    "    c.close()\n",
    "    return id[0]"
   ],
   "metadata": {
    "collapsed": false,
    "ExecuteTime": {
     "start_time": "2023-07-30T18:23:46.248653Z",
     "end_time": "2023-07-30T18:23:46.250567Z"
    }
   }
  },
  {
   "cell_type": "markdown",
   "source": [
    "**Einfügen eines Athleten**"
   ],
   "metadata": {
    "collapsed": false
   }
  },
  {
   "cell_type": "code",
   "execution_count": 13,
   "outputs": [],
   "source": [
    "def insert_athlete (name, first_name, year, gender, club, category):\n",
    "    # Check if athlete exists\n",
    "    if get_athlete_id(name, first_name, year) is not None:\n",
    "        return\n",
    "\n",
    "    # Insert Athlete\n",
    "    c = conn.cursor()\n",
    "\n",
    "    stmt = \"\"\"\n",
    "    insert into athletes (name, first_name, gender, \"year\", club, category) values (?, ?, ?, ?, ?, ?);\n",
    "    \"\"\"\n",
    "\n",
    "    c.execute(stmt, (name, first_name, gender, year, club, category))\n",
    "    conn.commit()\n",
    "    c.close()"
   ],
   "metadata": {
    "collapsed": false,
    "ExecuteTime": {
     "start_time": "2023-07-30T18:10:57.946333Z",
     "end_time": "2023-07-30T18:10:57.950171Z"
    }
   }
  },
  {
   "cell_type": "markdown",
   "source": [
    "# Einlesen der Athleten"
   ],
   "metadata": {
    "collapsed": false
   }
  },
  {
   "cell_type": "code",
   "execution_count": 17,
   "outputs": [],
   "source": [
    "row = []\n",
    "\n",
    "for file in os.listdir(input_dir):\n",
    "    # Ignore open files\n",
    "    if file.startswith(\"~\"):\n",
    "        continue\n",
    "\n",
    "    file_path = os.path.join(input_dir, file)\n",
    "\n",
    "    for gender in (\"male\", \"female\"):\n",
    "        df_excel = pd.read_excel(file_path, gender, index_col=0)\n",
    "\n",
    "        for index, row in df_excel.iterrows():\n",
    "            insert_athlete(row[\"Nachname\"], row[\"Vorname\"], row[\"Geb. Jahr\"], gender, row[\"Verein\"], row[\"Altersklasse\"])\n",
    "\n",
    "conn.commit()"
   ],
   "metadata": {
    "collapsed": false,
    "ExecuteTime": {
     "start_time": "2023-07-30T18:21:50.800280Z",
     "end_time": "2023-07-30T18:21:50.882835Z"
    }
   }
  },
  {
   "cell_type": "markdown",
   "source": [
    "# Einlesen der Ergebnisse"
   ],
   "metadata": {
    "collapsed": false
   }
  },
  {
   "cell_type": "code",
   "execution_count": 24,
   "outputs": [],
   "source": [
    "cursor = conn.cursor()\n",
    "for file in os.listdir(input_dir):\n",
    "    # Ignore open files\n",
    "    if file.startswith(\"~\"):\n",
    "        continue\n",
    "\n",
    "    file_path = os.path.join(input_dir, file)\n",
    "\n",
    "    # Get table name\n",
    "    table_name = file.split(\".\",1)[0]\n",
    "\n",
    "    # Create the table\n",
    "    stmt = \"\"\"\n",
    "    create table if not exists %s\n",
    "    (\n",
    "        athlete_id integer,\n",
    "        sum        integer\n",
    "    );\n",
    "    \"\"\"\n",
    "    conn.execute(stmt % table_name)\n",
    "\n",
    "    insert_stmt = \"\"\"\n",
    "    insert into %s (athlete_id, \"sum\")\n",
    "    values (?, ?);\n",
    "    \"\"\"\n",
    "\n",
    "    # Add the points\n",
    "    for gender in (\"male\", \"female\"):\n",
    "        df_excel = pd.read_excel(file_path, gender, index_col=0)\n",
    "\n",
    "        for index, row in df_excel.iterrows():\n",
    "            athlete_id = get_athlete_id(row[\"Nachname\"], row[\"Vorname\"], row[\"Geb. Jahr\"])\n",
    "\n",
    "            if athlete_id is None:\n",
    "                raise Exception(\"No athlete found\")\n",
    "\n",
    "            cursor.execute(insert_stmt % table_name, (athlete_id, row[\"Summe\"]))\n",
    "\n",
    "\n",
    "conn.commit()\n",
    "cursor.close()"
   ],
   "metadata": {
    "collapsed": false,
    "ExecuteTime": {
     "start_time": "2023-07-30T18:27:50.351154Z",
     "end_time": "2023-07-30T18:27:50.436306Z"
    }
   }
  },
  {
   "cell_type": "markdown",
   "source": [
    "# Ausgeben der Ergebnisse"
   ],
   "metadata": {
    "collapsed": false
   }
  },
  {
   "cell_type": "code",
   "execution_count": 27,
   "outputs": [],
   "source": [
    "result_stmt = \"\"\"\n",
    "SELECT\n",
    "    a.name,\n",
    "    a.first_name,\n",
    "    a.gender,\n",
    "    a.year,\n",
    "    a.club,\n",
    "    a.category,\n",
    "    s.sum AS \"SM\",\n",
    "    l.sum AS \"LJS\"\n",
    "FROM\n",
    "    athletes AS a\n",
    "LEFT JOIN sm s on a.id = s.athlete_id\n",
    "LEFT JOIN ljs l on a.id = l.athlete_id\n",
    "WHERE category is NOT NULL\n",
    "\"\"\""
   ],
   "metadata": {
    "collapsed": false,
    "ExecuteTime": {
     "start_time": "2023-07-30T18:37:20.872696Z",
     "end_time": "2023-07-30T18:37:20.877989Z"
    }
   }
  },
  {
   "cell_type": "code",
   "execution_count": 30,
   "outputs": [],
   "source": [
    "def calc_points_per_athlete(row):\n",
    "    # Remove Name columns\n",
    "    row = row.tail(-6)\n",
    "    # Convert to numbers\n",
    "    row = pd.to_numeric(row)\n",
    "    # Get the 3 largest numbers\n",
    "    row = row.nlargest(3)\n",
    "    # Create the sum\n",
    "    sum = row.sum()\n",
    "\n",
    "    return sum"
   ],
   "metadata": {
    "collapsed": false,
    "ExecuteTime": {
     "start_time": "2023-07-30T18:41:15.041583Z",
     "end_time": "2023-07-30T18:41:15.042496Z"
    }
   }
  },
  {
   "cell_type": "code",
   "execution_count": 32,
   "outputs": [
    {
     "data": {
      "text/plain": "             name         first_name  gender  year   \n33        Ullrich    Johanna Hermine  female  2007  \\\n34      Marquardt              Lotte  female  2007   \n37  Bretschneider              Luisa  female  2007   \n35        Neumann          Josephine  female  2006   \n32          Holtz  Leonie-Florentine  female  2007   \n..            ...                ...     ...   ...   \n81     Schewitzer             Gustav    male  2013   \n29       Michalke           Max-Leon    male  2014   \n31          Fleck         Maximilian    male  2014   \n82       vom Hoff                Neo    male  2014   \n30       von Hoff                Neo    male  2014   \n\n                                club       category     SM    LJS  Summe  \n33    1. Chemnitzer Tauchverein e.V.    2006 & 2007  146.0  146.0  292.0  \n34                        SG Dresden    2006 & 2007  142.0  146.0  288.0  \n37                        SG Dresden    2006 & 2007  114.0  124.0  238.0  \n35                        SG Dresden    2006 & 2007  138.0   84.0  222.0  \n32  SC DHfK Leipzig Flossenschwimmen    2006 & 2007  150.0    0.0  150.0  \n..                               ...            ...    ...    ...    ...  \n81         Startgemeinschaft Dresden    2012 & 2013    0.0   85.0   85.0  \n29        Tauchclub NEMO Plauen e.V.  2014 & jünger  150.0  150.0  300.0  \n31   SC Riesa Sekt. Flossenschwimmen  2014 & jünger   84.0  126.0  210.0  \n82                     SC Riesa (TC)  2014 & jünger    0.0  138.0  138.0  \n30   SC Riesa Sekt. Flossenschwimmen  2014 & jünger   92.0    0.0   92.0  \n\n[97 rows x 9 columns]",
      "text/html": "<div>\n<style scoped>\n    .dataframe tbody tr th:only-of-type {\n        vertical-align: middle;\n    }\n\n    .dataframe tbody tr th {\n        vertical-align: top;\n    }\n\n    .dataframe thead th {\n        text-align: right;\n    }\n</style>\n<table border=\"1\" class=\"dataframe\">\n  <thead>\n    <tr style=\"text-align: right;\">\n      <th></th>\n      <th>name</th>\n      <th>first_name</th>\n      <th>gender</th>\n      <th>year</th>\n      <th>club</th>\n      <th>category</th>\n      <th>SM</th>\n      <th>LJS</th>\n      <th>Summe</th>\n    </tr>\n  </thead>\n  <tbody>\n    <tr>\n      <th>33</th>\n      <td>Ullrich</td>\n      <td>Johanna Hermine</td>\n      <td>female</td>\n      <td>2007</td>\n      <td>1. Chemnitzer Tauchverein e.V.</td>\n      <td>2006 &amp; 2007</td>\n      <td>146.0</td>\n      <td>146.0</td>\n      <td>292.0</td>\n    </tr>\n    <tr>\n      <th>34</th>\n      <td>Marquardt</td>\n      <td>Lotte</td>\n      <td>female</td>\n      <td>2007</td>\n      <td>SG Dresden</td>\n      <td>2006 &amp; 2007</td>\n      <td>142.0</td>\n      <td>146.0</td>\n      <td>288.0</td>\n    </tr>\n    <tr>\n      <th>37</th>\n      <td>Bretschneider</td>\n      <td>Luisa</td>\n      <td>female</td>\n      <td>2007</td>\n      <td>SG Dresden</td>\n      <td>2006 &amp; 2007</td>\n      <td>114.0</td>\n      <td>124.0</td>\n      <td>238.0</td>\n    </tr>\n    <tr>\n      <th>35</th>\n      <td>Neumann</td>\n      <td>Josephine</td>\n      <td>female</td>\n      <td>2006</td>\n      <td>SG Dresden</td>\n      <td>2006 &amp; 2007</td>\n      <td>138.0</td>\n      <td>84.0</td>\n      <td>222.0</td>\n    </tr>\n    <tr>\n      <th>32</th>\n      <td>Holtz</td>\n      <td>Leonie-Florentine</td>\n      <td>female</td>\n      <td>2007</td>\n      <td>SC DHfK Leipzig Flossenschwimmen</td>\n      <td>2006 &amp; 2007</td>\n      <td>150.0</td>\n      <td>0.0</td>\n      <td>150.0</td>\n    </tr>\n    <tr>\n      <th>...</th>\n      <td>...</td>\n      <td>...</td>\n      <td>...</td>\n      <td>...</td>\n      <td>...</td>\n      <td>...</td>\n      <td>...</td>\n      <td>...</td>\n      <td>...</td>\n    </tr>\n    <tr>\n      <th>81</th>\n      <td>Schewitzer</td>\n      <td>Gustav</td>\n      <td>male</td>\n      <td>2013</td>\n      <td>Startgemeinschaft Dresden</td>\n      <td>2012 &amp; 2013</td>\n      <td>0.0</td>\n      <td>85.0</td>\n      <td>85.0</td>\n    </tr>\n    <tr>\n      <th>29</th>\n      <td>Michalke</td>\n      <td>Max-Leon</td>\n      <td>male</td>\n      <td>2014</td>\n      <td>Tauchclub NEMO Plauen e.V.</td>\n      <td>2014 &amp; jünger</td>\n      <td>150.0</td>\n      <td>150.0</td>\n      <td>300.0</td>\n    </tr>\n    <tr>\n      <th>31</th>\n      <td>Fleck</td>\n      <td>Maximilian</td>\n      <td>male</td>\n      <td>2014</td>\n      <td>SC Riesa Sekt. Flossenschwimmen</td>\n      <td>2014 &amp; jünger</td>\n      <td>84.0</td>\n      <td>126.0</td>\n      <td>210.0</td>\n    </tr>\n    <tr>\n      <th>82</th>\n      <td>vom Hoff</td>\n      <td>Neo</td>\n      <td>male</td>\n      <td>2014</td>\n      <td>SC Riesa (TC)</td>\n      <td>2014 &amp; jünger</td>\n      <td>0.0</td>\n      <td>138.0</td>\n      <td>138.0</td>\n    </tr>\n    <tr>\n      <th>30</th>\n      <td>von Hoff</td>\n      <td>Neo</td>\n      <td>male</td>\n      <td>2014</td>\n      <td>SC Riesa Sekt. Flossenschwimmen</td>\n      <td>2014 &amp; jünger</td>\n      <td>92.0</td>\n      <td>0.0</td>\n      <td>92.0</td>\n    </tr>\n  </tbody>\n</table>\n<p>97 rows × 9 columns</p>\n</div>"
     },
     "execution_count": 32,
     "metadata": {},
     "output_type": "execute_result"
    }
   ],
   "source": [
    "df_result = pd.read_sql_query(result_stmt, conn)\n",
    "df_result.fillna(0, inplace=True)\n",
    "df_result[\"Summe\"] = df_result.apply(calc_points_per_athlete, axis=1)\n",
    "df_result.sort_values(by=[\"gender\",\"category\", \"Summe\"], ascending=[True, True, False], inplace=True)\n",
    "df_result"
   ],
   "metadata": {
    "collapsed": false,
    "ExecuteTime": {
     "start_time": "2023-07-30T18:41:55.373060Z",
     "end_time": "2023-07-30T18:41:55.409041Z"
    }
   }
  },
  {
   "cell_type": "code",
   "execution_count": 33,
   "outputs": [],
   "source": [
    "finished_file = os.path.join(output_dir, \"results.xlsx\")\n",
    "df_result.to_excel(finished_file)"
   ],
   "metadata": {
    "collapsed": false,
    "ExecuteTime": {
     "start_time": "2023-07-30T18:44:13.752831Z",
     "end_time": "2023-07-30T18:44:13.806754Z"
    }
   }
  }
 ],
 "metadata": {
  "kernelspec": {
   "display_name": "Python 3",
   "language": "python",
   "name": "python3"
  },
  "language_info": {
   "codemirror_mode": {
    "name": "ipython",
    "version": 2
   },
   "file_extension": ".py",
   "mimetype": "text/x-python",
   "name": "python",
   "nbconvert_exporter": "python",
   "pygments_lexer": "ipython2",
   "version": "2.7.6"
  }
 },
 "nbformat": 4,
 "nbformat_minor": 0
}
